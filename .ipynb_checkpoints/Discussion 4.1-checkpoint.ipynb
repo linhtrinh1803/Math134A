{
 "cells": [
  {
   "cell_type": "code",
   "execution_count": 1,
   "id": "eeb8f1e8",
   "metadata": {},
   "outputs": [
    {
     "name": "stdout",
     "output_type": "stream",
     "text": [
      "Defaulting to user installation because normal site-packages is not writeable\n",
      "Collecting pulp\n",
      "  Downloading PuLP-2.5.1-py3-none-any.whl (41.2 MB)\n",
      "\u001b[K     |████████████████████████████████| 41.2 MB 790 kB/s eta 0:00:01\n",
      "\u001b[?25hInstalling collected packages: pulp\n",
      "\u001b[33m  WARNING: The script pulptest is installed in '/Users/stefa/.local/bin' which is not on PATH.\n",
      "  Consider adding this directory to PATH or, if you prefer to suppress this warning, use --no-warn-script-location.\u001b[0m\n",
      "Successfully installed pulp-2.5.1\n",
      "Note: you may need to restart the kernel to use updated packages.\n"
     ]
    }
   ],
   "source": [
    "pip install pulp"
   ]
  },
  {
   "cell_type": "code",
   "execution_count": 1,
   "id": "8b2de6c1",
   "metadata": {},
   "outputs": [
    {
     "name": "stdout",
     "output_type": "stream",
     "text": [
      "Defaulting to user installation because normal site-packages is not writeable\n",
      "Collecting mip\n",
      "  Downloading mip-1.13.0-py3-none-any.whl (48.0 MB)\n",
      "\u001b[K     |████████████████████████████████| 48.0 MB 542 kB/s eta 0:00:01     |█████████████████████████████▋  | 44.4 MB 479 kB/s eta 0:00:08\n",
      "\u001b[?25hRequirement already satisfied: cffi in /opt/anaconda3/lib/python3.8/site-packages (from mip) (1.14.5)\n",
      "Requirement already satisfied: pycparser in /opt/anaconda3/lib/python3.8/site-packages (from cffi->mip) (2.20)\n",
      "Installing collected packages: mip\n",
      "Successfully installed mip-1.13.0\n",
      "Note: you may need to restart the kernel to use updated packages.\n"
     ]
    }
   ],
   "source": [
    "pip install mip"
   ]
  },
  {
   "cell_type": "code",
   "execution_count": 56,
   "id": "a6a04d14",
   "metadata": {},
   "outputs": [
    {
     "name": "stdout",
     "output_type": "stream",
     "text": [
      "selected items: [0, 2, 4]\n"
     ]
    }
   ],
   "source": [
    "from mip import Model, xsum, maximize, BINARY\n",
    "\n",
    "p = [1,2,3,0,5,1]\n",
    "w = [1,3,2,1.5,1.6]\n",
    "\n",
    "m = Model(\"knapsack\")\n",
    "\n",
    "x = [m.add_var(var_type=BINARY) for i in range(0,5)]\n",
    "\n",
    "m.objective = maximize(xsum(p[i] * x[i] for i in range(0,5)))\n",
    "\n",
    "m += xsum(w[i] * x[i] for i in range(0,5)) <= 6\n",
    "\n",
    "m.optimize()\n",
    "\n",
    "selected = [i for i in range(0,5) if x[i].x >= 0.99]\n",
    "print(\"selected items: {}\".format(selected))"
   ]
  },
  {
   "cell_type": "code",
   "execution_count": 53,
   "id": "b1c2ab11",
   "metadata": {},
   "outputs": [
    {
     "name": "stdout",
     "output_type": "stream",
     "text": [
      "selected items: [1, 4, 9] \n"
     ]
    }
   ],
   "source": [
    "from mip import Model, xsum, maximize, BINARY\n",
    "\n",
    "a = [4,5,3,4.3,1,1.5,2.5,0.3,1,2];\n",
    "b = [2,3,1.5,2.2,0.5,1.5,2.5,0.1,0.6,1];\n",
    "\n",
    "m = Model(\"knapsack\")\n",
    "\n",
    "x = [m.add_var(var_type=BINARY) for i in range(0,10)]\n",
    "\n",
    "m.objective = maximize(xsum(a[i] * x[i] for i in range(0,10)))\n",
    "\n",
    "m.add_constr(xsum(b[i] * x[i] for i in range(0,10)) <= 5)\n",
    "m.add_constr(xsum(x[i] for i in range(0,4)) <= 1)\n",
    "m.add_constr(xsum(x[i] for i in range(4,7)) <=1)\n",
    "m.add_constr(xsum(x[i] for i in range(7,10)) <=1)\n",
    "\n",
    "m.optimize()\n",
    "selected = [i for i in I if x[i].x >= 1]\n",
    "print(\"selected items: {} \".format(selected))"
   ]
  }
 ],
 "metadata": {
  "kernelspec": {
   "display_name": "Python 3",
   "language": "python",
   "name": "python3"
  },
  "language_info": {
   "codemirror_mode": {
    "name": "ipython",
    "version": 3
   },
   "file_extension": ".py",
   "mimetype": "text/x-python",
   "name": "python",
   "nbconvert_exporter": "python",
   "pygments_lexer": "ipython3",
   "version": "3.8.8"
  }
 },
 "nbformat": 4,
 "nbformat_minor": 5
}
