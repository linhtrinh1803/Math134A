{
 "cells": [
  {
   "cell_type": "markdown",
   "id": "9d785615",
   "metadata": {},
   "source": [
    "## Quiz 5"
   ]
  },
  {
   "cell_type": "markdown",
   "id": "627e305a",
   "metadata": {},
   "source": [
    "Calculate covariance"
   ]
  },
  {
   "cell_type": "code",
   "execution_count": 1,
   "id": "0286c869",
   "metadata": {},
   "outputs": [
    {
     "name": "stdout",
     "output_type": "stream",
     "text": [
      "0.01125\n"
     ]
    }
   ],
   "source": [
    "sigmaA = 0.15; sigmaB = 0.3; correlation = 0.25;\n",
    "sigmaAB = correlation*sigmaA*sigmaB;\n",
    "print(sigmaAB)"
   ]
  },
  {
   "cell_type": "markdown",
   "id": "d143a11a",
   "metadata": {},
   "source": [
    "Calculate minimum standard deviation"
   ]
  },
  {
   "cell_type": "code",
   "execution_count": 2,
   "id": "52311cc6",
   "metadata": {},
   "outputs": [
    {
     "name": "stdout",
     "output_type": "stream",
     "text": [
      "0.875\n",
      "0.125\n"
     ]
    }
   ],
   "source": [
    "alpha = (sigmaB**2-sigmaAB)/(sigmaA**2+sigmaB**2-2*sigmaAB);\n",
    "print(alpha)\n",
    "print(1-alpha)"
   ]
  },
  {
   "cell_type": "markdown",
   "id": "8d5a003c",
   "metadata": {},
   "source": [
    "Calculate total return"
   ]
  },
  {
   "cell_type": "code",
   "execution_count": 4,
   "id": "eedffb69",
   "metadata": {},
   "outputs": [
    {
     "name": "stdout",
     "output_type": "stream",
     "text": [
      "0.14\n"
     ]
    }
   ],
   "source": [
    "r1 = 0.1 ; r2 = 0.18; w1 = 0.5; w2 = 0.5;\n",
    "r = r1*w1+r2*w2;\n",
    "print(r)"
   ]
  },
  {
   "cell_type": "markdown",
   "id": "41bee564",
   "metadata": {},
   "source": [
    "Calculate porfolio standard deviation"
   ]
  },
  {
   "cell_type": "code",
   "execution_count": 5,
   "id": "2364e7ae",
   "metadata": {},
   "outputs": [
    {
     "name": "stdout",
     "output_type": "stream",
     "text": [
      "0.18371173070873834\n"
     ]
    }
   ],
   "source": [
    "import math\n",
    "sigma = (sigmaA**2 * w1**2) + (sigmaB**2 * w2**2) + 2*w1*w2*sigmaAB;\n",
    "print(math.sqrt(sigma))"
   ]
  },
  {
   "cell_type": "markdown",
   "id": "299c6e57",
   "metadata": {},
   "source": [
    "## Quiz 6"
   ]
  },
  {
   "cell_type": "markdown",
   "id": "6afbacf8",
   "metadata": {},
   "source": [
    "Two risky assets with expected rates of return 𝑟¯1=0.10 and 𝑟¯2=0.08 have identical variances and a known correlation coefficient 𝜌=0.50.  There is also a risk-free asset with a rate of return 𝑟𝑓=0.05.\n",
    "\n",
    "Using mean-variance portfolio theory, find the optimal weight of asset 2."
   ]
  },
  {
   "cell_type": "code",
   "execution_count": 6,
   "id": "f85ee8cd",
   "metadata": {},
   "outputs": [
    {
     "name": "stdout",
     "output_type": "stream",
     "text": [
      "0.8750000000000001 0.12499999999999993\n"
     ]
    }
   ],
   "source": [
    "r1 = 0.1; r2 = 0.08; p = 0.5; rf = 0.05;\n",
    "s1 = r1-rf; s2= r2-rf;\n",
    "w1 = (s1-p*s2)/((1-p)*(s1+s2));\n",
    "w2 = (s2-p*s1)/((1-p)*(s1+s2));\n",
    "print(w1, w2)"
   ]
  },
  {
   "cell_type": "markdown",
   "id": "2985c41d",
   "metadata": {},
   "source": [
    "Two risky assets with expected rates of return 𝑟¯1=0.10 and 𝑟¯2=0.08 have identical variances and a known correlation coefficient 𝜌=0.99.  There is also a risk-free asset with a rate of return 𝑟𝑓=0.05.\n",
    "\n",
    "Using mean-variance portfolio theory, find the optimal weight of asset 2.\n",
    "\n",
    "Please round your numerical answer to three decimal places."
   ]
  },
  {
   "cell_type": "code",
   "execution_count": 7,
   "id": "0d8f8ca9",
   "metadata": {},
   "outputs": [
    {
     "name": "stdout",
     "output_type": "stream",
     "text": [
      "25.374999999999986 -24.374999999999982\n"
     ]
    }
   ],
   "source": [
    "r1 = 0.1; r2 = 0.08; p = 0.99; rf = 0.05;\n",
    "s1 = r1-rf; s2= r2-rf;\n",
    "w1 = (s1-p*s2)/((1-p)*(s1+s2));\n",
    "w2 = (s2-p*s1)/((1-p)*(s1+s2));\n",
    "print(w1, w2)"
   ]
  },
  {
   "cell_type": "markdown",
   "id": "c4b89d27",
   "metadata": {},
   "source": [
    "Question 3 : uncorrated assets with a desired mean return\n",
    "\n",
    "Suppose there are three uncorrelated risky assets.  Each risky asset has variance equal to 1, and the mean return values for assets 1, 2, and 3 are:\n",
    "\n",
    "𝑟¯1=0.10\n",
    "𝑟¯2=0.20\n",
    "𝑟¯3=0.30\n",
    "Assume there is no risk-free asset available. \n",
    "\n",
    "By formulating and solving the equations for the efficient set, determine the value of the mean-variance optimal portfolio weight 𝑤1for asset 1, corresponding to the portfolio with a desired mean return of 𝑟¯=0.20.\n",
    "\n",
    "Please round your numerical answer to two decimal places."
   ]
  },
  {
   "cell_type": "code",
   "execution_count": 3,
   "id": "f8f81653",
   "metadata": {},
   "outputs": [
    {
     "name": "stdout",
     "output_type": "stream",
     "text": [
      "[0.33333333]\n"
     ]
    }
   ],
   "source": [
    "import numpy as np\n",
    "r = 0.2;\n",
    "B = np.array([[0,0,0,r,1]]);\n",
    "V = np.array([[1,0,0,-1,-1],\n",
    "              [0,1,0,-2,-1],\n",
    "              [0,0,1,-3,-1],\n",
    "              [0.1,0.2,0.3,0,0], #mean return value of each asset\n",
    "              [1,1,1,0,0]]);\n",
    "x = np.linalg.inv(V).dot(np.transpose(B))\n",
    "print(x[0])"
   ]
  },
  {
   "cell_type": "markdown",
   "id": "dc7d517a",
   "metadata": {},
   "source": [
    "Question 4: uncorrelated assets with rf\n",
    "\n",
    "Suppose there are three uncorrelated risky assets.  Each risky asset has variance equal to 1, and the mean return values for assets 1, 2, and 3 are:\n",
    "\n",
    "𝑟¯1=0.10\n",
    "𝑟¯2=0.20\n",
    "𝑟¯3=0.30\n",
    "Now assume there is a risk-free asset with rate 𝑟𝑓=0.05.\n",
    "\n",
    "The one-fund theorem states that there is a single fund F of risky assets such that any efficient portfolio can be constructed as a combination of the fund F and the risk-free asset.  \n",
    "\n",
    "What is the weight 𝑤1of asset 1 corresponding to the single fund F?\n",
    "\n",
    "Please round your numerical answer to two decimal places."
   ]
  },
  {
   "cell_type": "code",
   "execution_count": 10,
   "id": "684c2e3f",
   "metadata": {},
   "outputs": [
    {
     "name": "stdout",
     "output_type": "stream",
     "text": [
      "[0.05 0.15 0.25]\n",
      "[[0.11111111]\n",
      " [0.33333333]\n",
      " [0.55555556]]\n"
     ]
    }
   ],
   "source": [
    "rf = 0.05;\n",
    "r_bar = np.array([0.1-rf,0.2-rf,0.3-rf]);\n",
    "V = np.array([[1,0,0],\n",
    "              [0,1,0],\n",
    "              [0,0,1]]);\n",
    "x = np.linalg.inv(V).dot(np.transpose(r_bar))\n",
    "w = np.zeros(shape=(3,1));\n",
    "for i in range (0,3):\n",
    "    w[i] = x[i]/np.sum(x);\n",
    "print(x)\n",
    "print(w)"
   ]
  },
  {
   "cell_type": "markdown",
   "id": "b08a89ce",
   "metadata": {},
   "source": [
    "Question 5\n",
    "\n",
    "The information concerning the 1-year covariances and mean values of the rates of return on five risky securities (assets) is shown in the table below.\n",
    "\n",
    "Screen Shot 2020-11-02 at 10.21.00 PM.png\n",
    "\n",
    "The mean values in the column labeled 𝐫¯ are expressed on a percentage basis, whereas the covariances are expressed in units of (percent)2 / 100. For example, the first security has an expected rate of return of 15.1%, or 0.151, and a variance of return of 0.023.  And the covariance between security 1 and security 2 is 0.0093, while the covariance between security 1 and security 3 is 0.0062. \n",
    "\n",
    "Assume there is also a risk-free asset with 𝑟𝑓=10%.\n",
    "\n",
    "The one-fund theorem states that there is a single fund F of risky assets such that any efficient portfolio can be constructed as a combination of the fund F and the risk-free asset.  \n",
    "\n",
    "What is the weight 𝑤4 security 4 corresponding to the single fund F?\n",
    "\n",
    "Please round your numerical answer to two decimal places."
   ]
  },
  {
   "cell_type": "code",
   "execution_count": 11,
   "id": "49a538b0",
   "metadata": {},
   "outputs": [
    {
     "name": "stdout",
     "output_type": "stream",
     "text": [
      "[[0.04666667]\n",
      " [0.00666667]]\n"
     ]
    }
   ],
   "source": [
    "import numpy as np\n",
    "A = np.array([[1,0.5],[0.5,1]]);\n",
    "B = np.array([[0.05,0.03]]);\n",
    "x = np.linalg.inv(A).dot(np.transpose(B))\n",
    "print(x)"
   ]
  },
  {
   "cell_type": "code",
   "execution_count": 12,
   "id": "0c35f685",
   "metadata": {},
   "outputs": [
    {
     "name": "stdout",
     "output_type": "stream",
     "text": [
      "[[0.08825144]\n",
      " [0.25086041]\n",
      " [0.28238423]\n",
      " [0.10375097]\n",
      " [0.27475295]]\n"
     ]
    }
   ],
   "source": [
    "import numpy as np \n",
    "V = np.array([[2.3,0.93,0.62,0.74,-0.23],\n",
    "              [0.93,1.4,0.22,0.56,0.26],\n",
    "              [0.62,0.22,1.8,0.78,-0.27],\n",
    "              [0.74,0.56,0.78,3.4,-0.56],\n",
    "              [-0.23,0.26,-0.27,-0.56,2.6]]);\n",
    "B = np.ones(shape=(5,1))\n",
    "r_bar = np.array([[0.151,0.125,0.147,0.0902,0.1768]]);\n",
    "v_a = np.linalg.inv(V).dot(B)\n",
    "w_a = np.zeros(shape=(5,1));\n",
    "for i in range (0,5):\n",
    "    w_a[i] = v_a[i]/np.sum(v_a);\n",
    "print(w_a)"
   ]
  },
  {
   "cell_type": "code",
   "execution_count": 13,
   "id": "db06667c",
   "metadata": {},
   "outputs": [
    {
     "name": "stdout",
     "output_type": "stream",
     "text": [
      "[[0.15834987]\n",
      " [0.15535016]\n",
      " [0.31426329]\n",
      " [0.0379156 ]\n",
      " [0.33412109]]\n"
     ]
    }
   ],
   "source": [
    "r_bar_transpose = np.transpose(r_bar)\n",
    "v_b = np.linalg.inv(V).dot(r_bar_transpose);\n",
    "w_b = np.zeros(shape=(5,1));\n",
    "for i in range (0,5):\n",
    "    w_b[i] = v_b[i]/np.sum(v_b);\n",
    "print(w_b)\n"
   ]
  },
  {
   "cell_type": "code",
   "execution_count": 14,
   "id": "ac2c3165",
   "metadata": {},
   "outputs": [
    {
     "name": "stdout",
     "output_type": "stream",
     "text": [
      "[[ 0.31719998]\n",
      " [-0.06108573]\n",
      " [ 0.38650446]\n",
      " [-0.11127402]\n",
      " [ 0.46865531]]\n"
     ]
    }
   ],
   "source": [
    "r_f = 0.1\n",
    "v_c = np.zeros(shape=(5,1));\n",
    "for i in range (0,5):\n",
    "    v_c[i] = v_b[i] - v_a[i]*r_f;\n",
    "w_c = np.zeros(shape=(5,1));\n",
    "for i in range(0,5):\n",
    "    w_c[i] = v_c[i]/np.sum(v_c)\n",
    "print(w_c)\n"
   ]
  },
  {
   "cell_type": "markdown",
   "id": "b1621b90",
   "metadata": {},
   "source": [
    "Question 6\n",
    "\n",
    "What is the portfolio variance of the single fund F in Question 5?\n",
    "\n",
    "Please express your answer in decimal form, and round your numerical answer to four  decimal places."
   ]
  },
  {
   "cell_type": "code",
   "execution_count": 15,
   "id": "f14e1d0c",
   "metadata": {},
   "outputs": [
    {
     "name": "stdout",
     "output_type": "stream",
     "text": [
      "[[0.00989892]]\n"
     ]
    }
   ],
   "source": [
    "C = np.matmul(np.transpose(w_c),V);\n",
    "sigma = np.matmul(C,w_c)\n",
    "print(sigma/100)"
   ]
  },
  {
   "cell_type": "markdown",
   "id": "e6b4cd2b",
   "metadata": {},
   "source": [
    "### Quiz 7 "
   ]
  },
  {
   "cell_type": "markdown",
   "id": "0c01d5a4",
   "metadata": {},
   "source": [
    "In this problem there are only only two risky stocks, A and B, whose details are listed the table below.\n",
    " \n",
    "\n",
    "Screen Shot 2020-11-03 at 6.27.04 PM.png\n",
    "\n",
    "Furthermore, the correlation coefficient between the returns of stocks A and B is .  There is also a risk-free asset, and the market follows the CAPM exactly.\n",
    "\n",
    "What is the expected rate of return on the market portfolio?\n",
    "\n",
    "What is the standard deviation of  the market portfolio?\n",
    "\n",
    "What is the beta of stock A?\n",
    "\n",
    "What is the annual risk-free rate?\n",
    "\n"
   ]
  },
  {
   "cell_type": "code",
   "execution_count": 5,
   "id": "1b2e88ff",
   "metadata": {},
   "outputs": [
    {
     "name": "stdout",
     "output_type": "stream",
     "text": [
      "0.13\n",
      "0.09\n",
      "1.2962962962962963\n",
      "0.0625\n"
     ]
    }
   ],
   "source": [
    "import math\n",
    "nA = 100; nB = 150; \n",
    "pA = 1.50; pB = 2.00; \n",
    "rA = 0.15; rB = 0.12; \n",
    "sigmaA = 0.15; sigmaB = 0.09;\n",
    "rho_AB=1/3;\n",
    "rM = (nA*pA*rA + nB*pB*rB)/(nA*pA + nB*pB);\n",
    "wA = (nA*pA)/(nA*pA + nB*pB);\n",
    "wB = (nB*pB)/(nA*pA + nB*pB);\n",
    "sigmaM = math.sqrt(wA**2 * sigmaA**2 + wB**2 * sigmaB**2 + \n",
    "                   2*rho_AB*wA*wB*sigmaA*sigmaB);\n",
    "sigmaAM = wA*sigmaA**2 + rho_AB*wB*sigmaA*sigmaB;\n",
    "beta_A = sigmaAM/(sigmaM**2);\n",
    "rF = (rA - beta_A*rM)/(1-beta_A);\n",
    "print(rM)\n",
    "print(sigmaM)\n",
    "print(beta_A)\n",
    "print(rF)"
   ]
  },
  {
   "cell_type": "markdown",
   "id": "460b1821",
   "metadata": {},
   "source": [
    "Suppose there are only two risky assets in the market with expected rates of return, variances, and covariance as follows: \n",
    "\n",
    "𝑟¯1=0.10\n",
    "𝑟¯2=0.20\n",
    " \n",
    "\n",
    "𝜎21=0.04\n",
    "𝜎22=0.09\n",
    " \n",
    "\n",
    "𝜎1,2=0.03\n",
    "The current annual risk-free rate 𝑟𝑓=0.05.\n",
    "\n",
    "Find the weights 𝑤1 and 𝑤2 for the one fund F for this market, assuming market equilibrium and the CAPM holds."
   ]
  },
  {
   "cell_type": "code",
   "execution_count": 7,
   "id": "8c22f4b8",
   "metadata": {},
   "outputs": [
    {
     "name": "stdout",
     "output_type": "stream",
     "text": [
      "[[0.]\n",
      " [1.]]\n"
     ]
    }
   ],
   "source": [
    "import numpy as np\n",
    "r1 = 0.1; r2 = 0.2; rf = 0.05; \n",
    "sigma1 = 0.04; sigma2 = 0.09; sigma12 = 0.03;\n",
    "A = np.array([[sigma1, sigma12],[sigma12,sigma2]]);\n",
    "B = np.array([[r1 - rf, r2 - rf]]);\n",
    "v = np.linalg.inv(A).dot(np.transpose(B))\n",
    "w = np.zeros(shape=(2,1));\n",
    "for i in range (0,2):\n",
    "    w[i] = v[i]/np.sum(v);\n",
    "print(w)"
   ]
  },
  {
   "cell_type": "markdown",
   "id": "2bf5e19b",
   "metadata": {},
   "source": [
    "CAPM formula\n"
   ]
  },
  {
   "cell_type": "code",
   "execution_count": 9,
   "id": "0e12d87d",
   "metadata": {},
   "outputs": [
    {
     "name": "stdout",
     "output_type": "stream",
     "text": [
      "0.19999999999999998\n",
      "0.16\n"
     ]
    }
   ],
   "source": [
    "rf = 0.1; sigmaA = 0.04; sigmaB = 0.02; sigmaAB = 0.01; rM = 0.18;\n",
    "sigmaM = (sigmaA + 2*sigmaAB + sigmaB)*1/4\n",
    "betaA = ((sigmaA+sigmaAB)/sigmaM)*1/2\n",
    "betaB = ((sigmaB+sigmaAB)/sigmaM)*1/2\n",
    "rA = rf + betaA*(rM - rf)\n",
    "rB = rf + betaB*(rM-rf)\n",
    "print(rA)\n",
    "print(rB)"
   ]
  },
  {
   "cell_type": "markdown",
   "id": "e22d70b3",
   "metadata": {},
   "source": [
    "## Quiz 8"
   ]
  },
  {
   "cell_type": "markdown",
   "id": "5a0afbd4",
   "metadata": {},
   "source": [
    "For a portfolio of 500 risky assets, the mean-variance portfolio optimization approach requires the estimation of how many parameters?"
   ]
  },
  {
   "cell_type": "code",
   "execution_count": 10,
   "id": "dec1937c",
   "metadata": {},
   "outputs": [
    {
     "name": "stdout",
     "output_type": "stream",
     "text": [
      "125750.0\n"
     ]
    }
   ],
   "source": [
    "a = 500;\n",
    "print(a+a+a*(a-1)/2)"
   ]
  },
  {
   "cell_type": "markdown",
   "id": "dc8a9369",
   "metadata": {},
   "source": [
    "Let the risk-free rate rf = 8%.\n",
    "\n",
    "Suppose that the rate of return of the market portfolio has an expected value of 12% and a standard deviation of 15%.  \n",
    "\n",
    "Now consider a risky asset that has a covariance of 0.09 with the market. According to the Capital Asset Pricing Model (CAPM), what is the expected rate of return of this asset?\n",
    "\n",
    "Please express your numerical answer as a percentage (not decimal) and round your answer to the nearest integer."
   ]
  },
  {
   "cell_type": "code",
   "execution_count": 16,
   "id": "1ca9205f",
   "metadata": {},
   "outputs": [
    {
     "name": "stdout",
     "output_type": "stream",
     "text": [
      "0.24\n"
     ]
    }
   ],
   "source": [
    "rf = 0.08; rM = 0.12; sigmaM = 0.15; sigmaiM = 0.09;\n",
    "betaA = sigmaiM/(sigmaM**2)\n",
    "rA = rf + betaA*(rM - rf)\n",
    "print(rA)"
   ]
  },
  {
   "cell_type": "markdown",
   "id": "3010bb5b",
   "metadata": {},
   "source": [
    "\n",
    "Berkshire Hathaway (ticker:  BRK/A) is an American multinational conglomerate holding company headquartered in Omaha, Nebraska.  The company is known for its control and leadership by Warren Buffett.  \n",
    "\n",
    "The data in the table above show the annual rate of return, in percentage, for BRK/A and the S&P 500 index with dividends included for the 10 year period spanning 2010 to 2019. The risk-free rate is zero.\n",
    "\n",
    "Note that the numbers in parenthesis denote negative rates of return, and BRK/A does not pay a dividend.\n",
    "\n",
    "You are asked to model the annual returns for BRK/A using a one-factor model, with the S&P 500 index annual returns with dividends included as the one factor as follows:\n",
    "\n",
    "\n",
    "Find the optimal values for  and , using all the data in the table, such that the total squared error is minimized, where the total squared error is equal to\n",
    "\n",
    "\n",
    "What is the value of ?  Please round your numerical answer to four decimal places.\n",
    "\n"
   ]
  },
  {
   "cell_type": "code",
   "execution_count": 17,
   "id": "ce8b434f",
   "metadata": {},
   "outputs": [],
   "source": [
    "import numpy as np\n",
    "from statistics import variance\n",
    "stock_1 = np.array([21.4, -4.7, 16.8, 32.7, 27.0, -12.5, 23.4, 21.9, 2.8, 11.0]);\n",
    "market = np.array([15.1, 2.1, 16.0, 32.4, 13.7, 1.4, 12.0, 21.8, -4.4, 31.5]);\n",
    "rf = 0;\n",
    "var_market = variance(market)\n",
    "var_stock1 = variance(stock_1)\n",
    "mu_market = np.mean(market)\n",
    "mu_stock1 = np.mean(stock_1)"
   ]
  },
  {
   "cell_type": "code",
   "execution_count": 18,
   "id": "32664e2c",
   "metadata": {},
   "outputs": [
    {
     "name": "stdout",
     "output_type": "stream",
     "text": [
      "0.8176435996997687\n",
      "[[213.15955556 122.97577778]\n",
      " [122.97577778 150.40266667]]\n"
     ]
    }
   ],
   "source": [
    "B1 = np.cov(stock_1,market);\n",
    "beta1 = B1[1,0]/var_market\n",
    "alpha1 = (mu_stock1-rf)- beta1*(mu_market-rf)\n",
    "e_stock1 = stock_1 - alpha1 - beta1*market\n",
    "e_var1 = var_stock1 - (beta1**2)*var_market\n",
    "print(beta1)\n",
    "print(B1)"
   ]
  },
  {
   "cell_type": "code",
   "execution_count": null,
   "id": "e28f4ceb",
   "metadata": {},
   "outputs": [],
   "source": []
  }
 ],
 "metadata": {
  "kernelspec": {
   "display_name": "Python 3",
   "language": "python",
   "name": "python3"
  },
  "language_info": {
   "codemirror_mode": {
    "name": "ipython",
    "version": 3
   },
   "file_extension": ".py",
   "mimetype": "text/x-python",
   "name": "python",
   "nbconvert_exporter": "python",
   "pygments_lexer": "ipython3",
   "version": "3.8.8"
  }
 },
 "nbformat": 4,
 "nbformat_minor": 5
}
