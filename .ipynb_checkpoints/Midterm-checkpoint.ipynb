{
 "cells": [
  {
   "cell_type": "code",
   "execution_count": 1,
   "id": "8dc0a107",
   "metadata": {},
   "outputs": [
    {
     "name": "stdout",
     "output_type": "stream",
     "text": [
      "67.88085271375407\n",
      "7.066969699383202\n"
     ]
    }
   ],
   "source": [
    "F1= 100; #face value\n",
    "y1 = 0.08; #yield to maturity\n",
    "m1 = 2; #number of coupon payments per year\n",
    "n1 = 10; #number of coupon periods\n",
    "c1 = 0.08; #yearly coupy payment, how many percent bond\n",
    "\n",
    "P1 = F1/((1+y1/m1)**n1)+(c1/y1)*(1-(1/(1+y1/m1)**n1));\n",
    "D1 = ((1+y1/m1)/(m1*y1/m1))-(1+y1/m1+n1*m1*(c1/m1-y1/m1))/(m1*(c1/m1)*((1+y1/m1)**(n1*m1)-1)+m1*y1/m1);\n",
    "print(P1)\n",
    "print(D1)"
   ]
  },
  {
   "cell_type": "code",
   "execution_count": 5,
   "id": "6d0d51c5",
   "metadata": {},
   "outputs": [
    {
     "name": "stdout",
     "output_type": "stream",
     "text": [
      "[[0.06881897]\n",
      " [0.07188098]\n",
      " [0.08056926]\n",
      " [0.08317298]\n",
      " [0.08572374]\n",
      " [0.08812933]\n",
      " [0.09035029]\n",
      " [0.09237694]\n",
      " [0.        ]\n",
      " [0.        ]]\n"
     ]
    }
   ],
   "source": [
    "import numpy as np\n",
    "s = np.array([0.0557,0.06088,0.06555,0.07361,0.07707,0.08020,0.08304,0.08561,0.08793]);\n",
    "f = np.zeros(shape=(10,1));\n",
    "for i in range (0,8):\n",
    "    f[i] = (((1+s[i+1])**(i+2)/1.053)**(1/(i+1)))-1;\n",
    "print(f)"
   ]
  },
  {
   "cell_type": "code",
   "execution_count": 6,
   "id": "3e9a0a35",
   "metadata": {},
   "outputs": [
    {
     "name": "stdout",
     "output_type": "stream",
     "text": [
      "3819.3223637236306\n"
     ]
    }
   ],
   "source": [
    "import numpy as np\n",
    "rA = 0.04/12; nA = 12*30; pA = 800000;\n",
    "A = (rA*pA*(1+rA)**nA)/((1+rA)**nA-1);\n",
    "print(A)"
   ]
  },
  {
   "cell_type": "code",
   "execution_count": 8,
   "id": "1a71b92e",
   "metadata": {},
   "outputs": [
    {
     "name": "stdout",
     "output_type": "stream",
     "text": [
      "5870.116591035024\n"
     ]
    }
   ],
   "source": [
    "import numpy as np\n",
    "rA = 0.08/12; nA = 12*30; pA = 800000;\n",
    "A = (rA*pA*(1+rA)**nA)/((1+rA)**nA-1);\n",
    "print(A)"
   ]
  },
  {
   "cell_type": "code",
   "execution_count": 26,
   "id": "af5c83e1",
   "metadata": {},
   "outputs": [
    {
     "name": "stdout",
     "output_type": "stream",
     "text": [
      "153.70515841843414\n"
     ]
    }
   ],
   "source": [
    "print(5870/3819*100)"
   ]
  },
  {
   "cell_type": "code",
   "execution_count": 10,
   "id": "f6986888",
   "metadata": {},
   "outputs": [
    {
     "name": "stdout",
     "output_type": "stream",
     "text": [
      "113.42016279788282\n"
     ]
    }
   ],
   "source": [
    "cashflow=np.array([10,10,10,10,10,10,10,10,10,110])\n",
    "pv = np.zeros(shape=(10,1));\n",
    "for i in range (0,10):\n",
    "    pv[i] = cashflow[i]*(1/((1.08)**(i+1)));\n",
    "npv = np.sum(pv);\n",
    "print(npv)"
   ]
  },
  {
   "cell_type": "code",
   "execution_count": 20,
   "id": "8edba2d9",
   "metadata": {},
   "outputs": [
    {
     "name": "stdout",
     "output_type": "stream",
     "text": [
      "93.5185185185185\n"
     ]
    }
   ],
   "source": [
    "cashflow=np.array([101,0,0,0,0,0,0,0,0,0,0])\n",
    "pv = np.zeros(shape=(10,1));\n",
    "for i in range (0,10):\n",
    "    pv[i] = cashflow[i]*(1/((1.08)**(i+1)));\n",
    "npv = np.sum(pv);\n",
    "print(npv)"
   ]
  },
  {
   "cell_type": "code",
   "execution_count": 24,
   "id": "854b8efa",
   "metadata": {},
   "outputs": [
    {
     "name": "stdout",
     "output_type": "stream",
     "text": [
      "     con: array([], dtype=float64)\n",
      "     fun: 3266.88\n",
      " message: 'The solution was determined in presolve as there are no non-trivial constraints.'\n",
      "     nit: 0\n",
      "   slack: array([0., 0., 0., 0., 0., 0., 0., 0., 0., 0.])\n",
      "  status: 0\n",
      " success: True\n",
      "       x: array([10.,  9.,  8.,  7.,  6.,  5.,  4.,  3.,  2.,  1.])\n"
     ]
    }
   ],
   "source": [
    "import numpy as np\n",
    "C = np.array([[0,0,0,0,0,0,0,0,0,100], \n",
    "     [0,0,0,0,0,0,0,0,100,0],\n",
    "     [0,0,0,0,0,0,0,100,0,0],\n",
    "     [0,0,0,0,0,0,100,0,0,0],\n",
    "     [0,0,0,0,0,100,0,0,0,0],\n",
    "     [0,0,0,0,100,0,0,0,0,0],\n",
    "     [0,0,0,100,0,0,0,0,0,0],\n",
    "     [0,0,100,0,0,0,0,0,0,0],\n",
    "     [0,100,0,0,0,0,0,0,0,0],\n",
    "     [100,0,0,0,0,0,0,0,0,0]]);\n",
    "p =np.array([46.32,50.02,54.03,58.35,63.02,68.06,73.05,79.38,85.73,92.59]);\n",
    "p1 = np.transpose(p);\n",
    "b =np.array([100,200,300,400,500,600,700,800,900,1000]);\n",
    "b1 = np.transpose(b)\n",
    "\n",
    "from scipy.optimize import linprog\n",
    "res = linprog(p1, A_ub = -1*C, b_ub= -1*b1, bounds=None)\n",
    "print(res)"
   ]
  },
  {
   "cell_type": "code",
   "execution_count": null,
   "id": "71417db8",
   "metadata": {},
   "outputs": [],
   "source": []
  }
 ],
 "metadata": {
  "kernelspec": {
   "display_name": "Python 3",
   "language": "python",
   "name": "python3"
  },
  "language_info": {
   "codemirror_mode": {
    "name": "ipython",
    "version": 3
   },
   "file_extension": ".py",
   "mimetype": "text/x-python",
   "name": "python",
   "nbconvert_exporter": "python",
   "pygments_lexer": "ipython3",
   "version": "3.8.8"
  }
 },
 "nbformat": 4,
 "nbformat_minor": 5
}
