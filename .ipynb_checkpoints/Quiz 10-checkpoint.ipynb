{
 "cells": [
  {
   "cell_type": "markdown",
   "id": "4c3662f1",
   "metadata": {},
   "source": [
    "Consider the following table of annual rates of return, in percentage, for four common risky assets over the time period 2010 to 2019\n",
    "\n",
    "Berkshire Hathaway (ticker:  BRK/A)\n",
    "S&P 500 Index (ticker: SPX) \n",
    "NASDAQ 100 Index (ticker: NDX)\n",
    "Russell 2000 Index (ticker:  RUT)\n",
    "\n",
    "Assuming there is no risk-free asset available, suppose you desire to invest in a portfolio of these 4 risky assets such that you minimize the portfolio variance, subject to the constraint that the portfolio weights sum to 1. Note that short positions (negative weights) are permissible.  \n",
    "\n",
    "Using mean-variance portfolio optimization, determine the 4 minimum variance portfolio weightings and the minimum portfolio variance.\n",
    "\n",
    "Please enter your solutions in the answer boxes for Questions 1 to 5.\n",
    "\n",
    "What is the portfolio weight for BRK/A?\n",
    "\n",
    "Please express your numerical answer in decimal (not percentage) form and round your answer to two decimal places.\n",
    "\n"
   ]
  },
  {
   "cell_type": "code",
   "execution_count": 1,
   "id": "17dd1652",
   "metadata": {},
   "outputs": [],
   "source": [
    "import numpy as np\n",
    "brka = np.array([0.214, -0.047, 0.168, 0.327, 0.27, -0.125, 0.234, 0.219, 0.028, 0.11]);\n",
    "spx = np.array([0.151, 0.021, 0.16, 0.324, 0.137, 0.014, 0.12, 0.218, -0.044, 0.315]);\n",
    "ndx = np.array([0.1922, 0.027, 0.1682, 0.3499, 0.1794, 0.0843, 0.0589, 0.3152, -0.0104,0.3796]);\n",
    "rut = np.array([0.2685, -0.0418, 0.1635, 0.3882, 0.0489, -0.0441, 0.2131, 0.1465, -0.1101, 0.2552]);"
   ]
  },
  {
   "cell_type": "code",
   "execution_count": 2,
   "id": "df8cc3c3",
   "metadata": {},
   "outputs": [
    {
     "name": "stdout",
     "output_type": "stream",
     "text": [
      "[[0.02131596 0.01229758 0.0112067  0.01771535]\n",
      " [0.01229758 0.01504027 0.01604968 0.01756213]\n",
      " [0.0112067  0.01604968 0.0189387  0.01677366]\n",
      " [0.01771535 0.01756213 0.01677366 0.02598459]]\n"
     ]
    }
   ],
   "source": [
    "R = np.stack((brka, spx, ndx, rut), axis = 0)\n",
    "V = np.cov(R)\n",
    "print(V)"
   ]
  },
  {
   "cell_type": "code",
   "execution_count": 24,
   "id": "476ba224",
   "metadata": {},
   "outputs": [
    {
     "name": "stdout",
     "output_type": "stream",
     "text": [
      "[[ 0.25521027]\n",
      " [ 2.73456349]\n",
      " [-1.10150645]\n",
      " [-0.88826731]]\n"
     ]
    }
   ],
   "source": [
    "B = np.ones(shape=(4,1))\n",
    "v = np.linalg.inv(V).dot(B)\n",
    "w = np.zeros(shape=(4,1));\n",
    "for i in range (0,4):\n",
    "    w[i] = v[i]/np.sum(v);\n",
    "print(w)"
   ]
  },
  {
   "cell_type": "code",
   "execution_count": 25,
   "id": "607cc090",
   "metadata": {},
   "outputs": [
    {
     "name": "stdout",
     "output_type": "stream",
     "text": [
      "[[109.8834123]]\n"
     ]
    }
   ],
   "source": [
    "print(np.transpose(w).dot(V).dot(w))"
   ]
  },
  {
   "cell_type": "markdown",
   "id": "91eee39e",
   "metadata": {},
   "source": [
    "Again consider the table of annual rates of return, in percentage, for four common risky assets over the time period 2010 to 2019 presented in Question 1.\n",
    "\n",
    "Now assume there is a risk-free asset available and the annual risk-free rate is 2%.   Using mean-variance portfolio theory, determine the 4 portfolio weightings and the portfolio variance for the unique fund F defined by the tangent portfolio and the one-fund theorem.\n",
    "\n",
    "Note that the portfolio weights sum to 1 and short selling (negative weights) are permissible.  \n",
    "\n",
    "Please enter your solutions in the answer boxes for Questions 6 to 10.\n",
    "\n",
    "What is the portfolio weight for BRK/A in the unique fund F?\n",
    "\n",
    "Please express your numerical answer in decimal (not percentage) form and round your answer to two decimal places."
   ]
  },
  {
   "cell_type": "code",
   "execution_count": 12,
   "id": "7d205977",
   "metadata": {},
   "outputs": [
    {
     "name": "stdout",
     "output_type": "stream",
     "text": [
      "[[ 0.63764966]\n",
      " [-0.90053972]\n",
      " [ 1.725156  ]\n",
      " [-0.46226594]]\n"
     ]
    }
   ],
   "source": [
    "rf = 0.02;\n",
    "r_bar = np.array([[np.mean(brka)-rf],\n",
    "                [np.mean(spx)-rf],\n",
    "                [np.mean(ndx)-rf],\n",
    "                 [np.mean(rut)-rf]]);\n",
    "v1 = np.linalg.inv(V).dot(r_bar)\n",
    "w1 = np.zeros(shape=(4,1));\n",
    "for i in range (0,4):\n",
    "    w1[i] = v1[i]/np.sum(v1);\n",
    "print(w1)"
   ]
  },
  {
   "cell_type": "code",
   "execution_count": 13,
   "id": "8be97537",
   "metadata": {},
   "outputs": [
    {
     "name": "stdout",
     "output_type": "stream",
     "text": [
      "[[0.02087017]]\n"
     ]
    }
   ],
   "source": [
    "print(np.transpose(w1).dot(V).dot(w1))"
   ]
  },
  {
   "cell_type": "code",
   "execution_count": 15,
   "id": "7d30ea5b",
   "metadata": {},
   "outputs": [],
   "source": [
    "import numpy as np\n",
    "brka = np.array([21.4, -4.7, 16.8, 32.7, 27, -12.5, 23.4, 21.9, 2.8, 11]);\n",
    "spx = np.array([15.1, 2.1, 16, 32.4, 13.7, 1.4, 12, 21.8, -4.4, 31.5]);\n",
    "ndx = np.array([19.22, 2.7, 16.82, 34.99, 17.94, 8.43, 5.89, 31.52, -1.04,37.96]);\n",
    "rut = np.array([26.85, -4.18, 16.35, 38.82, 4.89, -4.41, 21.31, 14.65, -11.01, 25.52]);"
   ]
  },
  {
   "cell_type": "code",
   "execution_count": 16,
   "id": "443bf30e",
   "metadata": {},
   "outputs": [
    {
     "name": "stdout",
     "output_type": "stream",
     "text": [
      "[[ 0.25521027]\n",
      " [ 2.73456349]\n",
      " [-1.10150645]\n",
      " [-0.88826731]]\n"
     ]
    }
   ],
   "source": [
    "R = np.stack((brka, spx, ndx, rut), axis = 0)\n",
    "V = np.cov(R)\n",
    "B = np.ones(shape=(4,1))\n",
    "v = np.linalg.inv(V).dot(B)\n",
    "w = np.zeros(shape=(4,1));\n",
    "for i in range (0,4):\n",
    "    w[i] = v[i]/np.sum(v);\n",
    "print(w)"
   ]
  },
  {
   "cell_type": "code",
   "execution_count": 26,
   "id": "7e49f17f",
   "metadata": {},
   "outputs": [
    {
     "name": "stdout",
     "output_type": "stream",
     "text": [
      "[[0.01098834]]\n"
     ]
    }
   ],
   "source": [
    "print((np.transpose(w).dot(V).dot(w))/10000)"
   ]
  },
  {
   "cell_type": "code",
   "execution_count": 27,
   "id": "56e9c426",
   "metadata": {},
   "outputs": [
    {
     "name": "stdout",
     "output_type": "stream",
     "text": [
      "[[0.1198 ]\n",
      " [0.1216 ]\n",
      " [0.15443]\n",
      " [0.10879]]\n"
     ]
    }
   ],
   "source": [
    "print(r_bar)"
   ]
  },
  {
   "cell_type": "code",
   "execution_count": 28,
   "id": "4f7972fb",
   "metadata": {},
   "outputs": [
    {
     "name": "stdout",
     "output_type": "stream",
     "text": [
      "12.879\n"
     ]
    }
   ],
   "source": [
    "print(np.mean(rut))"
   ]
  },
  {
   "cell_type": "code",
   "execution_count": null,
   "id": "8ba6ee2a",
   "metadata": {},
   "outputs": [],
   "source": []
  }
 ],
 "metadata": {
  "kernelspec": {
   "display_name": "Python 3",
   "language": "python",
   "name": "python3"
  },
  "language_info": {
   "codemirror_mode": {
    "name": "ipython",
    "version": 3
   },
   "file_extension": ".py",
   "mimetype": "text/x-python",
   "name": "python",
   "nbconvert_exporter": "python",
   "pygments_lexer": "ipython3",
   "version": "3.8.8"
  }
 },
 "nbformat": 4,
 "nbformat_minor": 5
}
