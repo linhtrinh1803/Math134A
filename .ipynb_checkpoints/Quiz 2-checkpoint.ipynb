{
 "cells": [
  {
   "cell_type": "code",
   "execution_count": 8,
   "id": "99c0e938",
   "metadata": {},
   "outputs": [
    {
     "name": "stdout",
     "output_type": "stream",
     "text": [
      "209.9151632400246\n"
     ]
    }
   ],
   "source": [
    "import numpy as np\n",
    "rB = 0.07/12; nB = 12*17; pB = 25000;\n",
    "B = (rB*pB*(1+rB)**nB)/((1+rB)**nB-1);\n",
    "print(B)"
   ]
  },
  {
   "cell_type": "code",
   "execution_count": 7,
   "id": "fd393579",
   "metadata": {},
   "outputs": [
    {
     "name": "stdout",
     "output_type": "stream",
     "text": [
      "1028.6125969255042\n",
      "270300.5348931815\n"
     ]
    }
   ],
   "source": [
    "import numpy as np\n",
    "rA = 0.12/12; nA = 12*30; pA = 100000;\n",
    "A = (rA*pA*(1+rA)**nA)/((1+rA)**nA-1);\n",
    "print(A)\n",
    "I = A*12*30-pA;\n",
    "print(I)"
   ]
  },
  {
   "cell_type": "code",
   "execution_count": 40,
   "id": "b4a66b05",
   "metadata": {},
   "outputs": [
    {
     "name": "stdout",
     "output_type": "stream",
     "text": [
      "3819.3223637236306\n"
     ]
    }
   ],
   "source": [
    "import numpy as np\n",
    "rA = 0.04/12; nA = 12*30; pA = 800000;\n",
    "A = (rA*pA*(1+rA)**nA)/((1+rA)**nA-1);\n",
    "print(A)"
   ]
  },
  {
   "cell_type": "code",
   "execution_count": 41,
   "id": "89c1ac84",
   "metadata": {},
   "outputs": [
    {
     "name": "stdout",
     "output_type": "stream",
     "text": [
      "5870.116591035024\n"
     ]
    }
   ],
   "source": [
    "rB = 0.08/12; nA = 12*30; pA = 800000;\n",
    "B = (rB*pB*(1+rB)**nB)/((1+rB)**nB-1);\n",
    "print(B)"
   ]
  },
  {
   "cell_type": "code",
   "execution_count": 42,
   "id": "91ee18c4",
   "metadata": {},
   "outputs": [
    {
     "name": "stdout",
     "output_type": "stream",
     "text": [
      "153.69523784611835\n"
     ]
    }
   ],
   "source": [
    "print((B/A)*100)"
   ]
  },
  {
   "cell_type": "code",
   "execution_count": null,
   "id": "211f2aee",
   "metadata": {},
   "outputs": [],
   "source": []
  }
 ],
 "metadata": {
  "kernelspec": {
   "display_name": "Python 3",
   "language": "python",
   "name": "python3"
  },
  "language_info": {
   "codemirror_mode": {
    "name": "ipython",
    "version": 3
   },
   "file_extension": ".py",
   "mimetype": "text/x-python",
   "name": "python",
   "nbconvert_exporter": "python",
   "pygments_lexer": "ipython3",
   "version": "3.8.8"
  }
 },
 "nbformat": 4,
 "nbformat_minor": 5
}
