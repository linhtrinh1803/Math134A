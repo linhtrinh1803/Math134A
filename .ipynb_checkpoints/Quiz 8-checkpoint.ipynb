{
 "cells": [
  {
   "cell_type": "code",
   "execution_count": 18,
   "id": "2b5795b3",
   "metadata": {},
   "outputs": [],
   "source": [
    "import numpy as np\n",
    "from statistics import variance\n",
    "stock_1 = np.array([21.4, -4.7, 16.8, 32.7, 27.0, -12.5, 23.4, 21.9, 2.8, 11.0]);\n",
    "index = np.array([15.1, 2.1, 16.0, 32.4, 13.7, 1.4, 12.0, 21.8, -4.4, 31.5]);\n",
    "rf = 0;\n",
    "var_index = variance(index)\n",
    "var_stock1 = variance(stock_1)\n",
    "mu_index = np.mean(index)\n",
    "mu_stock1 = np.mean(stock_1)"
   ]
  },
  {
   "cell_type": "code",
   "execution_count": 19,
   "id": "421dd15b",
   "metadata": {},
   "outputs": [
    {
     "name": "stdout",
     "output_type": "stream",
     "text": [
      "0.8176435996997687\n",
      "2.4021666282512744\n",
      "[[213.15955556 122.97577778]\n",
      " [122.97577778 150.40266667]]\n"
     ]
    }
   ],
   "source": [
    "B1 = np.cov(stock_1,index);\n",
    "b1 = B1[1,0]/var_index\n",
    "a1 = mu_stock1 - b1*mu_index\n",
    "e_stock1 = stock_1 - a1 - b1*index\n",
    "e_var1 = var_stock1 - (b1**2)*var_index\n",
    "print(b1)\n",
    "print(a1)\n",
    "print(B1)"
   ]
  },
  {
   "cell_type": "code",
   "execution_count": null,
   "id": "e4f3cd41",
   "metadata": {},
   "outputs": [],
   "source": []
  }
 ],
 "metadata": {
  "kernelspec": {
   "display_name": "Python 3",
   "language": "python",
   "name": "python3"
  },
  "language_info": {
   "codemirror_mode": {
    "name": "ipython",
    "version": 3
   },
   "file_extension": ".py",
   "mimetype": "text/x-python",
   "name": "python",
   "nbconvert_exporter": "python",
   "pygments_lexer": "ipython3",
   "version": "3.8.8"
  }
 },
 "nbformat": 4,
 "nbformat_minor": 5
}
