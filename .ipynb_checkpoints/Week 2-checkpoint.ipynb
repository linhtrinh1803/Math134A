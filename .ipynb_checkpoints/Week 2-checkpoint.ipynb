{
 "cells": [
  {
   "cell_type": "code",
   "execution_count": 17,
   "id": "6455bed9",
   "metadata": {},
   "outputs": [
    {
     "name": "stdout",
     "output_type": "stream",
     "text": [
      "71389.64258279112\n",
      "[[9259.25925926]\n",
      " [8573.38820302]\n",
      " [7938.3224102 ]\n",
      " [7350.29852796]\n",
      " [6805.83197034]\n",
      " [6301.69626883]\n",
      " [5834.90395262]\n",
      " [5402.68884502]\n",
      " [5002.48967131]\n",
      " [4631.93488085]\n",
      " [4288.82859338]\n",
      " [   0.        ]\n",
      " [   0.        ]]\n"
     ]
    }
   ],
   "source": [
    "#question 2\n",
    "import numpy as np\n",
    "pv = np.zeros(shape=(13,1));\n",
    "for i in range(0,11):\n",
    "    pv[i] = 10000/((1.08)**(i+1));\n",
    "npv = np.sum(pv);\n",
    "print(npv)\n",
    "print(pv)\n"
   ]
  },
  {
   "cell_type": "code",
   "execution_count": 21,
   "id": "4f174068",
   "metadata": {},
   "outputs": [
    {
     "name": "stdout",
     "output_type": "stream",
     "text": [
      "38384.45\n"
     ]
    }
   ],
   "source": [
    "b = 9259*0.93+8573*0.85+7938*0.76+7350*0.66+6805*0.56+6301*0.46+5834*0.36+5402*0.26+5002*0.16+4631*0.09+4288*0.04;\n",
    "print(b)"
   ]
  },
  {
   "cell_type": "code",
   "execution_count": 26,
   "id": "d5966500",
   "metadata": {},
   "outputs": [
    {
     "name": "stdout",
     "output_type": "stream",
     "text": [
      "2057.2251938510085\n",
      "186835.99140257016\n"
     ]
    }
   ],
   "source": [
    "rA = 0.12/12; pA = 200000; nA = 12*30;\n",
    "A = (rA*pA*(1+rA)**nA)/((1+rA)**nA-1);\n",
    "print(A)\n",
    "p20years = (A/rA)*(1-(1/(1+rA)**(12*20)));\n",
    "print(p20years)"
   ]
  },
  {
   "cell_type": "code",
   "execution_count": 27,
   "id": "0330274b",
   "metadata": {},
   "outputs": [
    {
     "name": "stdout",
     "output_type": "stream",
     "text": [
      "14012.699761159445\n"
     ]
    }
   ],
   "source": [
    "rB = 0.9/12; nB = 20*12; \n",
    "B = (rB*p20years*(1+rB)**nB)/((1+rB)**nB-1);\n",
    "print(B)"
   ]
  },
  {
   "cell_type": "code",
   "execution_count": 32,
   "id": "407039a4",
   "metadata": {},
   "outputs": [
    {
     "name": "stdout",
     "output_type": "stream",
     "text": [
      "193957.96920553752\n",
      "2123278.718326166\n"
     ]
    }
   ],
   "source": [
    "r = 0.05/12;\n",
    "PV_no_restructure = (A/r)*(1-(1/(1+r)**(10*12)));\n",
    "PV_restructure = (B/r)*(1-(1/(1+r)**(20*12)));\n",
    "print(PV_no_restructure)\n",
    "print(PV_restructure)\n"
   ]
  },
  {
   "cell_type": "code",
   "execution_count": 3,
   "id": "539a84e1",
   "metadata": {},
   "outputs": [
    {
     "name": "stdout",
     "output_type": "stream",
     "text": [
      "(0.09366232998190993+0j)\n"
     ]
    }
   ],
   "source": [
    "## Bond yield\n",
    "import numpy as np\n",
    "cashflow = np.array([1.1, 0.1, 0.1, 0.1, 0.1, 0.1, 0.1, 0.1, 0.1, 0.1, 0.1, 0.1, 0.1, 0.1, 0.1,-1.05]);\n",
    "solution = np.roots(cashflow);\n",
    "lamba = 1/(solution[-1])-1;\n",
    "print(lamba)"
   ]
  },
  {
   "cell_type": "code",
   "execution_count": 9,
   "id": "42fdf9db",
   "metadata": {},
   "outputs": [
    {
     "name": "stdout",
     "output_type": "stream",
     "text": [
      "22486.85199098422\n",
      "7093.945270415855\n"
     ]
    }
   ],
   "source": [
    "##Question 9\n",
    "import numpy as np\n",
    "pvA = np.zeros(shape=(4,1)); #calculate present value of carA after 4 years\n",
    "for i in range(0,3):\n",
    "    pvA[i] = 1000/((1.1)**(i+1));\n",
    "pA = 20000+np.sum(pvA);\n",
    "print(pA)\n",
    "rA = 0.1; nA =4;\n",
    "A = (rA*pA*(1+rA)**nA)/((1+rA)**nA-1); #calculate annual worth\n",
    "print(A)"
   ]
  },
  {
   "cell_type": "code",
   "execution_count": 19,
   "id": "02a55e46",
   "metadata": {},
   "outputs": [
    {
     "name": "stdout",
     "output_type": "stream",
     "text": [
      "37581.5735388169\n",
      "8629.006650154683\n"
     ]
    }
   ],
   "source": [
    "import numpy as np\n",
    "pvB = np.zeros(shape=(6,1)); #calculate present value of carB after 4 years\n",
    "for i in range(0,5):\n",
    "    pvB[i] = 2000/((1.1)**(i+1));\n",
    "pB = 30000+np.sum(pvB);\n",
    "print(pB)\n",
    "rB = 0.1; nB =6;\n",
    "B = (rB*pB*(1+rB)**nB)/((1+rB)**nB-1); #calculate annual worth\n",
    "print(B)"
   ]
  },
  {
   "cell_type": "code",
   "execution_count": 13,
   "id": "5e215258",
   "metadata": {},
   "outputs": [
    {
     "name": "stdout",
     "output_type": "stream",
     "text": [
      "7093.991962939018\n"
     ]
    }
   ],
   "source": [
    "rA = 0.1; nA =4; pA = 22487;\n",
    "A = (rA*pA*(1+rA)**nA)/((1+rA)**nA-1); #calculate annual worth\n",
    "print(A)"
   ]
  },
  {
   "cell_type": "code",
   "execution_count": 14,
   "id": "34d6a08b",
   "metadata": {},
   "outputs": [
    {
     "name": "stdout",
     "output_type": "stream",
     "text": [
      "8629.10456878976\n"
     ]
    }
   ],
   "source": [
    "rB = 0.1; nB =6; pB = 37582;\n",
    "B = (rB*pB*(1+rB)**nB)/((1+rB)**nB-1); #calculate annual worth\n",
    "print(B)"
   ]
  },
  {
   "cell_type": "code",
   "execution_count": 20,
   "id": "dd98de8c",
   "metadata": {},
   "outputs": [
    {
     "name": "stdout",
     "output_type": "stream",
     "text": [
      "8882.743338727227\n"
     ]
    }
   ],
   "source": [
    "##Question 10\n",
    "rA = 0.08; nA =30; pA = 100000;\n",
    "A = (rA*pA*(1+rA)**nA)/((1+rA)**nA-1);\n",
    "print(A)"
   ]
  },
  {
   "cell_type": "code",
   "execution_count": 31,
   "id": "12fa7c8b",
   "metadata": {},
   "outputs": [
    {
     "name": "stdout",
     "output_type": "stream",
     "text": [
      "64533.794845245015\n"
     ]
    }
   ],
   "source": [
    "pvA = np.zeros(shape=(5,1));\n",
    "for i in range(0,5):\n",
    "    pvA[i] = 8882.74/((1.08)**(i+1));\n",
    "A1 = 100000-np.sum(pvA);\n",
    "print(A1)"
   ]
  },
  {
   "cell_type": "code",
   "execution_count": 26,
   "id": "7d53b1e4",
   "metadata": {},
   "outputs": [
    {
     "name": "stdout",
     "output_type": "stream",
     "text": [
      "6089.281395020938\n"
     ]
    }
   ],
   "source": [
    "rA = 0.09; nA =20; \n",
    "A1 = (rA*pA1*(1+rA)**nA)/((1+rA)**nA-1);\n",
    "print(A1)"
   ]
  },
  {
   "cell_type": "code",
   "execution_count": null,
   "id": "3ceb2354",
   "metadata": {},
   "outputs": [],
   "source": []
  }
 ],
 "metadata": {
  "kernelspec": {
   "display_name": "Python 3",
   "language": "python",
   "name": "python3"
  },
  "language_info": {
   "codemirror_mode": {
    "name": "ipython",
    "version": 3
   },
   "file_extension": ".py",
   "mimetype": "text/x-python",
   "name": "python",
   "nbconvert_exporter": "python",
   "pygments_lexer": "ipython3",
   "version": "3.8.8"
  }
 },
 "nbformat": 4,
 "nbformat_minor": 5
}
