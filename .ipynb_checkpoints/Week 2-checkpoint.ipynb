{
 "cells": [
  {
   "cell_type": "code",
   "execution_count": 17,
   "id": "899caa51",
   "metadata": {},
   "outputs": [
    {
     "name": "stdout",
     "output_type": "stream",
     "text": [
      "71389.64258279112\n",
      "[[9259.25925926]\n",
      " [8573.38820302]\n",
      " [7938.3224102 ]\n",
      " [7350.29852796]\n",
      " [6805.83197034]\n",
      " [6301.69626883]\n",
      " [5834.90395262]\n",
      " [5402.68884502]\n",
      " [5002.48967131]\n",
      " [4631.93488085]\n",
      " [4288.82859338]\n",
      " [   0.        ]\n",
      " [   0.        ]]\n"
     ]
    }
   ],
   "source": [
    "#question 2\n",
    "import numpy as np\n",
    "pv = np.zeros(shape=(13,1));\n",
    "for i in range(0,11):\n",
    "    pv[i] = 10000/((1.08)**(i+1));\n",
    "npv = np.sum(pv);\n",
    "print(npv)\n",
    "print(pv)\n"
   ]
  },
  {
   "cell_type": "code",
   "execution_count": 21,
   "id": "a28ee317",
   "metadata": {},
   "outputs": [
    {
     "name": "stdout",
     "output_type": "stream",
     "text": [
      "38384.45\n"
     ]
    }
   ],
   "source": [
    "b = 9259*0.93+8573*0.85+7938*0.76+7350*0.66+6805*0.56+6301*0.46+5834*0.36+5402*0.26+5002*0.16+4631*0.09+4288*0.04;\n",
    "print(b)"
   ]
  },
  {
   "cell_type": "code",
   "execution_count": null,
   "id": "c019c53c",
   "metadata": {},
   "outputs": [],
   "source": []
  }
 ],
 "metadata": {
  "kernelspec": {
   "display_name": "Python 3",
   "language": "python",
   "name": "python3"
  },
  "language_info": {
   "codemirror_mode": {
    "name": "ipython",
    "version": 3
   },
   "file_extension": ".py",
   "mimetype": "text/x-python",
   "name": "python",
   "nbconvert_exporter": "python",
   "pygments_lexer": "ipython3",
   "version": "3.8.8"
  }
 },
 "nbformat": 4,
 "nbformat_minor": 5
}
