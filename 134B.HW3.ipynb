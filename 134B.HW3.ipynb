{
 "cells": [
  {
   "cell_type": "markdown",
   "id": "fec9f1cd",
   "metadata": {},
   "source": [
    "### 4.3 Construction of a zero"
   ]
  },
  {
   "cell_type": "code",
   "execution_count": 6,
   "id": "dcb35156",
   "metadata": {},
   "outputs": [
    {
     "name": "stdout",
     "output_type": "stream",
     "text": [
      "[-3.5  4.5]\n",
      "[100   0]\n"
     ]
    }
   ],
   "source": [
    "import numpy as np\n",
    "A = np.array([[100,100],[9,7]]);\n",
    "B = np.array([100,0]);\n",
    "X = np.linalg.inv(A).dot(B) #solve system equation \n",
    "print(X)\n",
    "print(B)"
   ]
  },
  {
   "cell_type": "code",
   "execution_count": 5,
   "id": "71bf56fa",
   "metadata": {},
   "outputs": [
    {
     "name": "stdout",
     "output_type": "stream",
     "text": [
      "65.90000000000003\n"
     ]
    }
   ],
   "source": [
    "price = -3.5*101.00+4.5*93.20;\n",
    "print(price)"
   ]
  },
  {
   "cell_type": "markdown",
   "id": "7425b7b4",
   "metadata": {},
   "source": [
    "### 4.7 Bond taxes"
   ]
  },
  {
   "cell_type": "code",
   "execution_count": 6,
   "id": "8cb0c88f",
   "metadata": {},
   "outputs": [
    {
     "name": "stdout",
     "output_type": "stream",
     "text": [
      "[-2.33333333  3.33333333]\n"
     ]
    }
   ],
   "source": [
    "A = np.array([[100,100],[10,7]]);\n",
    "B = np.array([100,0]);\n",
    "X = np.linalg.inv(A).dot(B);\n",
    "print(X)"
   ]
  },
  {
   "cell_type": "code",
   "execution_count": 7,
   "id": "9036d848",
   "metadata": {},
   "outputs": [
    {
     "name": "stdout",
     "output_type": "stream",
     "text": [
      "37.697900000000004\n"
     ]
    }
   ],
   "source": [
    "price = -2.33*92.21+3.33*75.84;\n",
    "print(price)"
   ]
  },
  {
   "cell_type": "markdown",
   "id": "8addcd6b",
   "metadata": {},
   "source": [
    "### 4.11 Running PV\n"
   ]
  },
  {
   "cell_type": "code",
   "execution_count": 44,
   "id": "f1f10f6d",
   "metadata": {},
   "outputs": [
    {
     "name": "stdout",
     "output_type": "stream",
     "text": [
      "[[0.95238095]\n",
      " [0.90186858]\n",
      " [0.8491966 ]\n",
      " [0.79810003]\n",
      " [0.74725817]\n",
      " [0.70098334]]\n"
     ]
    }
   ],
   "source": [
    "#calculate d(0,k)\n",
    "cashflow = np.array([-40,10,10,10,10,10,10]);\n",
    "s = np.array([5.0,5.3,5.6,5.8,6.0,6.1]);\n",
    "d0 = np.zeros(shape=(6,1));\n",
    "for i in range (0,6):\n",
    "    d0[i]= 1/((1+s[i]/100)**(i+1));   \n",
    "print(d0)"
   ]
  },
  {
   "cell_type": "code",
   "execution_count": 30,
   "id": "55d8d59a",
   "metadata": {},
   "outputs": [
    {
     "name": "stdout",
     "output_type": "stream",
     "text": [
      "9.497876784246984\n"
     ]
    }
   ],
   "source": [
    "#calculate net value base on d(0,k)\n",
    "pv = np.zeros(shape=(7,1));\n",
    "for i in range (0,6):\n",
    "    pv[i] = d0[i]*cashflow[i+1];\n",
    "npv = np.sum(pv)-40;\n",
    "print(npv)"
   ]
  },
  {
   "cell_type": "code",
   "execution_count": 45,
   "id": "0425bdb2",
   "metadata": {},
   "outputs": [
    {
     "name": "stdout",
     "output_type": "stream",
     "text": [
      "[[0.05600857]\n",
      " [0.06202567]\n",
      " [0.06402276]\n",
      " [0.06803788]\n",
      " [0.06601417]\n",
      " [0.        ]]\n"
     ]
    }
   ],
   "source": [
    "#calculate f(i,j)\n",
    "d = np.zeros(shape=(6,1));\n",
    "f = np.zeros(shape=(6,1));\n",
    "for i in range (0,5):\n",
    "    f[i] = ((1+s[i+1]/100)**(i+2)/(1+s[i]/100)**(i+1))-1;\n",
    "print(f)"
   ]
  },
  {
   "cell_type": "code",
   "execution_count": 46,
   "id": "2c70b8b6",
   "metadata": {},
   "outputs": [
    {
     "name": "stdout",
     "output_type": "stream",
     "text": [
      "[[0.94696201]\n",
      " [0.94159683]\n",
      " [0.93982952]\n",
      " [0.93629638]\n",
      " [0.93807384]\n",
      " [0.        ]]\n"
     ]
    }
   ],
   "source": [
    "#calculate d(i,j)\n",
    "for i in range(0,5):\n",
    "    d[i] = 1/(1+f[i]);\n",
    "print(d)"
   ]
  },
  {
   "cell_type": "markdown",
   "id": "54a976d9",
   "metadata": {},
   "source": [
    "### 4.15 Immunization"
   ]
  },
  {
   "cell_type": "markdown",
   "id": "a0970e87",
   "metadata": {},
   "source": [
    "Given yield, calculate normal duration "
   ]
  },
  {
   "cell_type": "code",
   "execution_count": 7,
   "id": "f3f82f2f",
   "metadata": {},
   "outputs": [
    {
     "name": "stdout",
     "output_type": "stream",
     "text": [
      "64.7092769300887\n",
      "6.954496339267785\n"
     ]
    }
   ],
   "source": [
    "\n",
    "F1= 100; #face value\n",
    "y1 = 0.09; #yield to maturity\n",
    "m1 = 2; #number of coupon payments per year\n",
    "n1 = 10; #number of coupon periods\n",
    "c1 = 0.08; #yearly coupy payment, how many percent bond\n",
    "\n",
    "P1 = F1/((1+y1/m1)**n1)+(c1/y1)*(1-(1/(1+y1/m1)**n1));\n",
    "D1 = ((1+y1/m1)/(m1*y1/m1))-(1+y1/m1+n1*m1*(c1/m1-y1/m1))/(m1*(c1/m1)*((1+y1/m1)**(n1*m1)-1)+m1*y1/m1);\n",
    "print(P1)\n",
    "print(D1)"
   ]
  },
  {
   "cell_type": "markdown",
   "id": "7ccde703",
   "metadata": {},
   "source": [
    "Calculate price and quasi-modified (if given spot rates) duration for bond 2"
   ]
  },
  {
   "cell_type": "code",
   "execution_count": 2,
   "id": "b5a75af8",
   "metadata": {},
   "outputs": [
    {
     "name": "stdout",
     "output_type": "stream",
     "text": [
      "65.95141593517083\n",
      "7.065794607835234\n"
     ]
    }
   ],
   "source": [
    "import numpy as np\n",
    "s = np.array([0.0767, 0.0827, 0.0881, 0.0931, 0.0975, 0.1016, 0.1052, 0.1085, 0.1115, 0.1142, 0.1167, 0.1189]);\n",
    "b1 = np.array([6,6,6,6,6,6,6,6,6,6,6,106]);\n",
    "PV1 = np.zeros(shape=(12,1));\n",
    "for i in range(0,12):\n",
    "    PV1[i] = b1[i]/(1+s[i])**(i+1);\n",
    "P1 = np.sum(PV1)\n",
    "print(P1)\n",
    "minusPV1prime = np.zeros(shape=(12,1));\n",
    "for i in range(0,12):\n",
    "    minusPV1prime[i] = (b1[i]*(i+1))/(1+s[i])**(i+2);\n",
    "minusdP1dLambda = np.sum(minusPV1prime);\n",
    "D1 = minusdP1dLambda/P1;\n",
    "print(D1)"
   ]
  },
  {
   "cell_type": "markdown",
   "id": "1ee31630",
   "metadata": {},
   "source": [
    "Calculate price and quasi-modified duration for bond 2"
   ]
  },
  {
   "cell_type": "code",
   "execution_count": 3,
   "id": "15b98ce4",
   "metadata": {
    "scrolled": true
   },
   "outputs": [
    {
     "name": "stdout",
     "output_type": "stream",
     "text": [
      "101.66772356861858\n",
      "3.7981038674959344\n"
     ]
    }
   ],
   "source": [
    "s = np.array([0.0767, 0.0827, 0.0881, 0.0931, 0.0975, 0.1016, 0.1052, 0.1085, 0.1115, 0.1142, 0.1167, 0.1189]);\n",
    "b2 = np.array([10,10,10,10,110]);\n",
    "PV2 = np.zeros(shape=(5,1));\n",
    "for i in range(0,5):\n",
    "    PV2[i] = b2[i]/(1+s[i])**(i+1);\n",
    "P2 = np.sum(PV2)\n",
    "print(P2)\n",
    "minusPV2prime = np.zeros(shape=(5,1));\n",
    "for i in range(0,5):\n",
    "    minusPV2prime[i] = (b2[i]*(i+1))/(1+s[i])**(i+2);\n",
    "minusdP2dLambda = np.sum(minusPV2prime);\n",
    "D2 = minusdP2dLambda/P2;\n",
    "print(D2)"
   ]
  },
  {
   "cell_type": "markdown",
   "id": "d72dac0a",
   "metadata": {},
   "source": [
    "Calculate Price and Duration for obligation"
   ]
  },
  {
   "cell_type": "code",
   "execution_count": 4,
   "id": "1cf3487e",
   "metadata": {},
   "outputs": [
    {
     "name": "stdout",
     "output_type": "stream",
     "text": [
      "2238.437650905573\n",
      "2.4476042424124693\n"
     ]
    }
   ],
   "source": [
    "ob = np.array([500,900,600,500,100,100,100,50]);\n",
    "PVob = np.zeros(shape=(8,1));\n",
    "for i in range (0,8):\n",
    "    PVob[i] = ob[i]/(1+s[i])**(i+1);\n",
    "Pob = np.sum(PVob);\n",
    "print(Pob);\n",
    "minusPVobprime = np.zeros(shape=(8,1));\n",
    "for i in range(0,8):\n",
    "    minusPVobprime[i] = (ob[i]*(i+1))/(1+s[i])**(i+2);\n",
    "minusdPobdLambda = np.sum(minusPVobprime);\n",
    "Dob = minusdPobdLambda/Pob;\n",
    "print(Dob)"
   ]
  },
  {
   "cell_type": "code",
   "execution_count": 5,
   "id": "657e2a59",
   "metadata": {},
   "outputs": [
    {
     "name": "stdout",
     "output_type": "stream",
     "text": [
      "[-14.02731012  31.1166465 ]\n"
     ]
    }
   ],
   "source": [
    "A = np.array([[P1, P2], [P1*D1, P2*D2]]);\n",
    "B = np.array([Pob, Pob*Dob]);\n",
    "X = np.linalg.inv(A).dot(B);\n",
    "print(X)"
   ]
  }
 ],
 "metadata": {
  "kernelspec": {
   "display_name": "Python 3",
   "language": "python",
   "name": "python3"
  },
  "language_info": {
   "codemirror_mode": {
    "name": "ipython",
    "version": 3
   },
   "file_extension": ".py",
   "mimetype": "text/x-python",
   "name": "python",
   "nbconvert_exporter": "python",
   "pygments_lexer": "ipython3",
   "version": "3.8.8"
  }
 },
 "nbformat": 4,
 "nbformat_minor": 5
}
