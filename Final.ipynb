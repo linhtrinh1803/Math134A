{
 "cells": [
  {
   "cell_type": "code",
   "execution_count": null,
   "id": "31ac15cd",
   "metadata": {},
   "outputs": [],
   "source": [
    "operation_costs = 20000; \n",
    "operating_costs = np.zeros(shape=(5,1));\n",
    "for i in range(0,5):\n",
    "    operating_costs[i]= 2000+1000*i;\n",
    "replacement_cost = 20000;\n",
    "cashflow = np.zeros(shape=(5,1))\n",
    "for i in range(0,5):\n",
    "    cashflow[i] = operation_costs+operating_costs[i]replacement_cost\n",
    "pv = np.zeros(shape=(5,1));\n",
    "for i in range(0,5):\n",
    "    pv[i] = \n"
   ]
  },
  {
   "cell_type": "code",
   "execution_count": 2,
   "id": "a4019252",
   "metadata": {},
   "outputs": [
    {
     "name": "stdout",
     "output_type": "stream",
     "text": [
      "1819331.752474483\n"
     ]
    }
   ],
   "source": [
    "import numpy as np\n",
    "initial_investment = -10000000; inflation = 0.02;\n",
    "depreciated = -initial_investment/5;\n",
    "revenue = np.zeros(shape=(5,1));\n",
    "labor_cost = np.zeros(shape=(5,1)); \n",
    "material_cost = np.zeros(shape=(5,1)); \n",
    "revenue = np.zeros(shape=(5,1)); \n",
    "for i in range(0,5):\n",
    "    revenue[i] = 3.3*1000000*(1+inflation)**(i);\n",
    "    labor_cost[i] = 30*10000*(1+inflation)**(i);\n",
    "    material_cost[i] = 100*100*(1+inflation)**(i);\n",
    "r=0.05;\n",
    "tax_income = np.zeros(shape=(5,1));\n",
    "tax = np.zeros(shape=(5,1));\n",
    "cashflow = np.zeros(shape=(5,1));\n",
    "for i in range(0,5):\n",
    "    tax_income[i] = revenue[i]-labor_cost[i]-material_cost[i]-depreciated;\n",
    "    tax[i] = tax_income[i]*0.34;\n",
    "    cashflow[i] = tax_income[i]-tax[i]+depreciated;\n",
    "pv = np.zeros(shape=(5,1))\n",
    "for i in range (0,5):\n",
    "    pv[i] = cashflow[i]/(1+r)**(i+1);\n",
    "npv = -10000000+np.sum(pv)  \n",
    "print(npv)"
   ]
  },
  {
   "cell_type": "code",
   "execution_count": 81,
   "id": "2cbaa488",
   "metadata": {},
   "outputs": [
    {
     "name": "stdout",
     "output_type": "stream",
     "text": [
      "112.77570513467616\n",
      "4.355466199928346\n"
     ]
    }
   ],
   "source": [
    "import numpy as np\n",
    "s = np.array([0.0225,0.025,0.0275,0.03,0.0325]);\n",
    "b1 = np.array([6,6,6,6,106]);\n",
    "PV1 = np.zeros(shape=(5,1));\n",
    "for i in range(0,5):\n",
    "    PV1[i] = b1[i]/(1+s[i])**(i+1);\n",
    "P1 = np.sum(PV1)\n",
    "print(P1)\n",
    "minusPV1prime = np.zeros(shape=(12,1));\n",
    "for i in range(0,5):\n",
    "    minusPV1prime[i] = (b1[i]*(i+1))/(1+s[i])**(i+2);\n",
    "minusdP1dLambda = np.sum(minusPV1prime);\n",
    "D1 = minusdP1dLambda/P1;\n",
    "print(D1)"
   ]
  },
  {
   "cell_type": "code",
   "execution_count": 82,
   "id": "a4b05327",
   "metadata": {},
   "outputs": [
    {
     "name": "stdout",
     "output_type": "stream",
     "text": [
      "126.25004824666671\n",
      "3.4423715138835465\n"
     ]
    }
   ],
   "source": [
    "s = np.array([0.0225,0.025,0.0275,0.03,0.0325]);\n",
    "b2 = np.array([10,10,10,110]);\n",
    "PV2 = np.zeros(shape=(4,1));\n",
    "for i in range(0,4):\n",
    "    PV2[i] = b2[i]/(1+s[i])**(i+1);\n",
    "P2 = np.sum(PV2)\n",
    "print(P2)\n",
    "minusPV2prime = np.zeros(shape=(5,1));\n",
    "for i in range(0,4):\n",
    "    minusPV2prime[i] = (b2[i]*(i+1))/(1+s[i])**(i+2);\n",
    "minusdP2dLambda = np.sum(minusPV2prime);\n",
    "D2 = minusdP2dLambda/P2;\n",
    "print(D2)"
   ]
  },
  {
   "cell_type": "code",
   "execution_count": 83,
   "id": "50bf434b",
   "metadata": {},
   "outputs": [
    {
     "name": "stdout",
     "output_type": "stream",
     "text": [
      "429145.06039436645\n",
      "3.002827108109463\n"
     ]
    }
   ],
   "source": [
    "ob = np.array([50000,51000*2,52000*2,53000*3,54000]);\n",
    "PVob = np.zeros(shape=(5,1));\n",
    "for i in range (0,5):\n",
    "    PVob[i] = ob[i]/(1+s[i])**(i+1);\n",
    "Pob = np.sum(PVob);\n",
    "print(Pob);\n",
    "minusPVobprime = np.zeros(shape=(5,1));\n",
    "for i in range(0,5):\n",
    "    minusPVobprime[i] = (ob[i]*(i+1))/(1+s[i])**(i+2);\n",
    "minusdPobdLambda = np.sum(minusPVobprime);\n",
    "Dob = minusdPobdLambda/Pob;\n",
    "print(Dob)\n"
   ]
  },
  {
   "cell_type": "code",
   "execution_count": 6,
   "id": "b50611a7",
   "metadata": {},
   "outputs": [
    {
     "name": "stdout",
     "output_type": "stream",
     "text": [
      "[-1831.78926052  5035.45459773]\n"
     ]
    }
   ],
   "source": [
    "A = np.array([[P1, P2], [P1*D1, P2*D2]]);\n",
    "B = np.array([Pob, Pob*Dob]);\n",
    "X = np.linalg.inv(A).dot(B);\n",
    "print(X)"
   ]
  },
  {
   "cell_type": "code",
   "execution_count": 111,
   "id": "75b2bc70",
   "metadata": {},
   "outputs": [
    {
     "name": "stdout",
     "output_type": "stream",
     "text": [
      "[ 2. -1.]\n",
      "59.31999999999999\n"
     ]
    }
   ],
   "source": [
    "import numpy as np\n",
    "A = np.array([[100,100],[3,6]])\n",
    "B = np.array([100,0])\n",
    "x = np.linalg.inv(A).dot(B)\n",
    "price = x[0]*79.66 + x[1]*100\n",
    "print(x)\n",
    "print(price)"
   ]
  },
  {
   "cell_type": "code",
   "execution_count": 132,
   "id": "a98dda1d",
   "metadata": {},
   "outputs": [
    {
     "name": "stdout",
     "output_type": "stream",
     "text": [
      "2108.0201686472797\n",
      "2107.8062663983173\n"
     ]
    }
   ],
   "source": [
    "import numpy as np\n",
    "rA = 0.03/12; nA = 12*30; pA = 500000;\n",
    "A = (rA*pA*(1+rA)**nA)/((1+rA)**nA-1);\n",
    "print(A)\n",
    "p5years = pA-(A/rA)*(1-(1/(1+rA)**(25)));\n",
    "rB = 0.04/12; nB = 12*31;\n",
    "B = (rB*p5years*(1+rB)**nB)/((1+rB)**nB-1);\n",
    "print(B)"
   ]
  },
  {
   "cell_type": "code",
   "execution_count": 113,
   "id": "ea4ba97a",
   "metadata": {},
   "outputs": [
    {
     "name": "stdout",
     "output_type": "stream",
     "text": [
      "5.416666666666667\n"
     ]
    }
   ],
   "source": [
    "print()"
   ]
  },
  {
   "cell_type": "code",
   "execution_count": 146,
   "id": "ab064177",
   "metadata": {},
   "outputs": [
    {
     "name": "stdout",
     "output_type": "stream",
     "text": [
      "[[ 1.21191229]\n",
      " [ 1.15482837]\n",
      " [-0.91951974]\n",
      " [ 0.08518867]\n",
      " [-0.53240959]]\n"
     ]
    }
   ],
   "source": [
    "V = np.array([[0.21, 0.12, 0.17, 0.13, 0.16],\n",
    "             [0.12, 0.15, 0.12, 0.10, 0.12],\n",
    "             [0.17, 0.12, 0.19, 0.14, 0.15],\n",
    "             [0.13, 0.10, 0.14, 0.15, 0.14],\n",
    "             [0.16, 0.12, 0.15, 0.14,0.21]])\n",
    "rf = 0.02;\n",
    "r_bar = np.array([0.69-rf, 0.65-rf, 0.44-rf, 0.36-rf, 0.41-rf])\n",
    "v1 = np.linalg.inv(V).dot(r_bar)\n",
    "w1 = np.zeros(shape=(5,1));\n",
    "for i in range (0,5):\n",
    "    w1[i] = v1[i]/np.sum(v1);\n",
    "print(w1)"
   ]
  },
  {
   "cell_type": "code",
   "execution_count": 148,
   "id": "fb92e78e",
   "metadata": {},
   "outputs": [
    {
     "name": "stdout",
     "output_type": "stream",
     "text": [
      "[[ 0.0971984 ]\n",
      " [ 0.53230417]\n",
      " [-0.15208691]\n",
      " [ 0.60777587]\n",
      " [-0.08519154]]\n"
     ]
    }
   ],
   "source": [
    "V = np.array([[0.21, 0.12, 0.17, 0.13, 0.16],\n",
    "             [0.12, 0.15, 0.12, 0.10, 0.12],\n",
    "             [0.17, 0.12, 0.19, 0.14, 0.15],\n",
    "             [0.13, 0.10, 0.14, 0.15, 0.14],\n",
    "             [0.16, 0.12, 0.15, 0.14,0.21]])\n",
    "r_bar = np.array([1,1,1,1,1])\n",
    "v1 = np.linalg.inv(V).dot(r_bar)\n",
    "w1 = np.zeros(shape=(5,1));\n",
    "for i in range (0,5):\n",
    "    w1[i] = v1[i]/np.sum(v1);\n",
    "print(w1)"
   ]
  },
  {
   "cell_type": "code",
   "execution_count": 149,
   "id": "40e04b61",
   "metadata": {},
   "outputs": [
    {
     "name": "stdout",
     "output_type": "stream",
     "text": [
      "[[0.12381361]]\n"
     ]
    }
   ],
   "source": [
    "print(np.transpose(w1).dot(V).dot(w1))\n"
   ]
  },
  {
   "cell_type": "code",
   "execution_count": 48,
   "id": "362a98c9",
   "metadata": {},
   "outputs": [
    {
     "name": "stdout",
     "output_type": "stream",
     "text": [
      "[[ 1.30019811]\n",
      " [ 1.17561192]\n",
      " [-1.12540729]\n",
      " [ 0.18380992]\n",
      " [-0.53421265]]\n"
     ]
    }
   ],
   "source": [
    "\n",
    "v2 = np.linalg.inv(V).dot(r_bar1)\n",
    "w2 = np.zeros(shape=(5,1));\n",
    "for i in range (0,5):\n",
    "    w2[i] = v2[i]/np.sum(v2);\n",
    "print(w2)"
   ]
  },
  {
   "cell_type": "code",
   "execution_count": 139,
   "id": "ab8140fe",
   "metadata": {},
   "outputs": [
    {
     "name": "stdout",
     "output_type": "stream",
     "text": [
      "0.4970702756901484\n"
     ]
    }
   ],
   "source": [
    "import math\n",
    "print(np.transpose(w2).dot(V).dot(w2))"
   ]
  },
  {
   "cell_type": "code",
   "execution_count": 104,
   "id": "fb710811",
   "metadata": {},
   "outputs": [
    {
     "name": "stdout",
     "output_type": "stream",
     "text": [
      "[[ 0.35064153]\n",
      " [ 0.30962601]\n",
      " [-0.15641101]\n",
      " [ 0.74210488]\n",
      " [-0.07912557]]\n"
     ]
    }
   ],
   "source": [
    "import numpy as np\n",
    "B = np.array([[1.16*0.25**2],\n",
    "              [0.7*0.25**2],\n",
    "              [1.15*0.25**2],\n",
    "              [0.98*0.25**2],\n",
    "              [1.01*0.25**2],\n",
    "              [1]]);\n",
    "\n",
    "V = np.array([[0.21, 0.12, 0.17, 0.13, 0.16, 1/2],\n",
    "             [0.12, 0.15, 0.12, 0.10, 0.12,1/2],\n",
    "             [0.17, 0.12, 0.19, 0.15, 0.14,1/2],\n",
    "             [0.13, 0.10, 0.14, 0.15, 0.14,1/2],\n",
    "             [0.16, 0.12, 0.15, 0.14, 0.21,1/2],\n",
    "             [1,1,1,1,1,0]]);\n",
    "x = np.linalg.inv(V).dot((B))\n",
    "w = np.zeros(shape=(5,1));\n",
    "for i in range (0,5):\n",
    "    w[i] = x[i]/np.sum(x);\n",
    "print(w)"
   ]
  },
  {
   "cell_type": "code",
   "execution_count": 75,
   "id": "28ca6975",
   "metadata": {},
   "outputs": [
    {
     "name": "stdout",
     "output_type": "stream",
     "text": [
      "153.78676324903108\n"
     ]
    }
   ],
   "source": [
    "F1= 100; #face value\n",
    "y1 = 0.0356; #yield to maturity\n",
    "m1 = 2; #number of coupon payments per year\n",
    "n1 = 20; #number of coupon periods\n",
    "c1 = 10; #yearly coupy payment, how many percent bond\n",
    "\n",
    "P1 = F1/((1+y1/m1)**n1)+(c1/y1)*(1-(1/(1+y1/m1)**n1))\n",
    "print(P1)"
   ]
  },
  {
   "cell_type": "code",
   "execution_count": 77,
   "id": "d15905b0",
   "metadata": {},
   "outputs": [
    {
     "name": "stdout",
     "output_type": "stream",
     "text": [
      "2108.0201686472797\n"
     ]
    }
   ],
   "source": [
    "import numpy as np\n",
    "rA = 0.03/12; nA = 12*30; pA = 500000; #monthly nho divide for 12 nha \n",
    "A = (rA*pA*(1+rA)**nA)/((1+rA)**nA-1);\n",
    "print(A)"
   ]
  },
  {
   "cell_type": "code",
   "execution_count": 80,
   "id": "2d4db086",
   "metadata": {},
   "outputs": [
    {
     "name": "stdout",
     "output_type": "stream",
     "text": [
      "12903854.110643798\n"
     ]
    }
   ],
   "source": [
    "rB = 0.01; B = 500000;\n",
    "pv = (B/rB)*(1-(1/(1+rB)**(30)));\n",
    "print(pv)"
   ]
  },
  {
   "cell_type": "code",
   "execution_count": null,
   "id": "4058ce17",
   "metadata": {},
   "outputs": [],
   "source": []
  }
 ],
 "metadata": {
  "kernelspec": {
   "display_name": "Python 3",
   "language": "python",
   "name": "python3"
  },
  "language_info": {
   "codemirror_mode": {
    "name": "ipython",
    "version": 3
   },
   "file_extension": ".py",
   "mimetype": "text/x-python",
   "name": "python",
   "nbconvert_exporter": "python",
   "pygments_lexer": "ipython3",
   "version": "3.8.8"
  }
 },
 "nbformat": 4,
 "nbformat_minor": 5
}
