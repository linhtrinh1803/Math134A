{
 "cells": [
  {
   "cell_type": "markdown",
   "id": "6e587a33",
   "metadata": {},
   "source": [
    "### Question 1\n",
    "\n",
    "A firm is considering funding several proposed projects that have the financial properties shown in Table 5.6. The available budget is $600,000. What set of projects would be recommended by the approximate method based on benefit–cost ratios? What is the optimal set of projects?"
   ]
  },
  {
   "cell_type": "code",
   "execution_count": 2,
   "id": "00967c92",
   "metadata": {},
   "outputs": [
    {
     "name": "stdout",
     "output_type": "stream",
     "text": [
      "Optimal\n",
      "x1 1.0\n",
      "x2 1.0\n",
      "x3 1.0\n",
      "x4 0.0\n",
      "x5 0.0\n"
     ]
    }
   ],
   "source": [
    "import pulp as pl\n",
    "\n",
    "# declare some variables\n",
    "# each variable is a binary variable that is either 0 or 1\n",
    "# 1 means the item will go into the knapsack\n",
    "x1 = pl.LpVariable(\"x1\", 0, 1, pl.LpInteger)\n",
    "x2 = pl.LpVariable(\"x2\", 0, 1, pl.LpInteger)\n",
    "x3 = pl.LpVariable(\"x3\", 0, 1, pl.LpInteger)\n",
    "x4 = pl.LpVariable(\"x4\", 0, 1, pl.LpInteger)\n",
    "x5 = pl.LpVariable(\"x5\", 0, 1, pl.LpInteger)\n",
    "\n",
    "\n",
    "# define the problem\n",
    "prob = pl.LpProblem(\"knapsack\", pl.LpMaximize)\n",
    "\n",
    "# objective function - maximize value of objects in knapsack\n",
    "prob += 100*x1+200*x2+100*x3+50*x4+100*x5\n",
    "\n",
    "# constraint - weight of objects cannot exceed 15\n",
    "prob += 100*x1+300*x2+200*x3+150*x4+150*x5+150*x5 <= 600\n",
    "\n",
    "status = prob.solve()  # solve using the default solver, which is cbc\n",
    "print(pl.LpStatus[status])  # print the human-readable status\n",
    "\n",
    "# print the values\n",
    "print(\"x1\", pl.value(x1))\n",
    "print(\"x2\", pl.value(x2))\n",
    "print(\"x3\", pl.value(x3))\n",
    "print(\"x4\", pl.value(x4))\n",
    "print(\"x5\", pl.value(x5))"
   ]
  },
  {
   "cell_type": "markdown",
   "id": "16453baf",
   "metadata": {},
   "source": [
    "### Question 2 \n",
    "\n",
    "Refer to the transportation alternatives problem of Example 5.2. The bridge\n",
    "at Cay Road is actually part of the road between Augen and Burger. Therefore it is not\n",
    "reasonable for the bridge to have fewer lanes than the road itself. This means that if projects\n",
    "2 or 4 are carried out, either projects 6 or 7 must also be carried out. Formulate a zero–one\n",
    "programming problem that includes this additional requirement. Solve the problem"
   ]
  },
  {
   "cell_type": "code",
   "execution_count": 25,
   "id": "1504ff43",
   "metadata": {},
   "outputs": [
    {
     "name": "stdout",
     "output_type": "stream",
     "text": [
      "selected items: [3, 5, 9] \n"
     ]
    }
   ],
   "source": [
    "from mip import Model, xsum, maximize, BINARY\n",
    "\n",
    "a = [4,5,3,4.3,1,1.5,2.5,0.3,1,2];\n",
    "b = [2,3,1.5,2.2,0.5,1.5,2.5,0.1,0.6,1];\n",
    "\n",
    "m = Model(\"knapsack\")\n",
    "\n",
    "x = [m.add_var(var_type=BINARY) for i in range(0,10)]\n",
    "\n",
    "m.objective = maximize(xsum(a[i] * x[i] for i in range(0,10)))\n",
    "\n",
    "m.add_constr(xsum(b[i] * x[i] for i in range(0,10)) <= 5)\n",
    "m.add_constr(xsum(x[i] for i in range(0,4)) <= 1)\n",
    "m.add_constr(xsum(x[i] for i in range(4,7)) <=1)\n",
    "m.add_constr(xsum(x[i] for i in range(7,10)) <=1)\n",
    "if x[1]==1 or x[3]==1:\n",
    "    m.add_constr((x[5]+x[6]) >=1 ) #m.add_constr(x[1]+x[3]-(x[5]+x[6]) == 0)\n",
    "\n",
    "m.optimize()\n",
    "selected = [i for i in range(0,10) if x[i].x >= 1]\n",
    "print(\"selected items: {} \".format(selected))"
   ]
  },
  {
   "cell_type": "markdown",
   "id": "889895cc",
   "metadata": {},
   "source": [
    "### Question 3\n"
   ]
  },
  {
   "cell_type": "code",
   "execution_count": 6,
   "id": "5f776352",
   "metadata": {},
   "outputs": [
    {
     "name": "stdout",
     "output_type": "stream",
     "text": [
      "Collecting mip\n",
      "  Downloading mip-1.13.0-py3-none-any.whl (48.0 MB)\n",
      "\u001b[K     |████████████████████████████████| 48.0 MB 7.2 MB/s eta 0:00:011\n",
      "\u001b[?25hRequirement already satisfied: cffi in /opt/anaconda3/lib/python3.8/site-packages (from mip) (1.14.5)\n",
      "Requirement already satisfied: pycparser in /opt/anaconda3/lib/python3.8/site-packages (from cffi->mip) (2.20)\n",
      "Installing collected packages: mip\n",
      "Successfully installed mip-1.13.0\n",
      "Note: you may need to restart the kernel to use updated packages.\n"
     ]
    }
   ],
   "source": [
    "pip install mip"
   ]
  },
  {
   "cell_type": "code",
   "execution_count": 54,
   "id": "924cfbc1",
   "metadata": {},
   "outputs": [
    {
     "name": "stdout",
     "output_type": "stream",
     "text": [
      "Optimal\n",
      "x1 0.0\n",
      "x2 0.0\n",
      "x3 0.0\n",
      "x4 1.0\n",
      "x5 1.0\n",
      "x6 1.0\n",
      "x7 1.0\n"
     ]
    }
   ],
   "source": [
    "import pulp as pl\n",
    "\n",
    "# declare some variables\n",
    "# each variable is a binary variable that is either 0 or 1\n",
    "# 1 means the item will go into the knapsack\n",
    "x1 = pl.LpVariable(\"x1\", 0, 1, pl.LpInteger)\n",
    "x2 = pl.LpVariable(\"x2\", 0, 1, pl.LpInteger)\n",
    "x3 = pl.LpVariable(\"x3\", 0, 1, pl.LpInteger)\n",
    "x4 = pl.LpVariable(\"x4\", 0, 1, pl.LpInteger)\n",
    "x5 = pl.LpVariable(\"x5\", 0, 1, pl.LpInteger)\n",
    "x6 = pl.LpVariable(\"x6\", 0, 1, pl.LpInteger)\n",
    "x7 = pl.LpVariable(\"x7\", 0, 1, pl.LpInteger)\n",
    "\n",
    "\n",
    "# define the problem\n",
    "prob = pl.LpProblem(\"knapsack\", pl.LpMaximize)\n",
    "\n",
    "# objective function - maximize value of objects in knapsack\n",
    "prob += 150*x1+200*x2+100*x3+100*x4+120*x5+150*x6+240*x7\n",
    "\n",
    "# constraint \n",
    "prob += 90*x1+80*x2+50*x3+20*x4+40*x5+80*x6+80*x7 <= 250\n",
    "\n",
    "B1 = 250-(90*x1+80*x2+50*x3+20*x4+40*x5+80*x6+80*x7)\n",
    "\n",
    "prob += 58*x1+80*x2+100*x3+64*x4+50*x5+20*x6+100*x7 <= 250+0.1*B1\n",
    "\n",
    "status = prob.solve()  # solve using the default solver, which is cbc\n",
    "print(pl.LpStatus[status])  # print the human-readable status\n",
    "\n",
    "# print the values\n",
    "print(\"x1\", pl.value(x1))\n",
    "print(\"x2\", pl.value(x2))\n",
    "print(\"x3\", pl.value(x3))\n",
    "print(\"x4\", pl.value(x4))\n",
    "print(\"x5\", pl.value(x5))\n",
    "print(\"x6\", pl.value(x6))\n",
    "print(\"x7\", pl.value(x7))"
   ]
  },
  {
   "cell_type": "markdown",
   "id": "c9b4058c",
   "metadata": {},
   "source": [
    "### Question 4"
   ]
  },
  {
   "cell_type": "code",
   "execution_count": 85,
   "id": "fa9f640a",
   "metadata": {},
   "outputs": [
    {
     "name": "stdout",
     "output_type": "stream",
     "text": [
      "     con: array([], dtype=float64)\n",
      "     fun: 2381.138801203588\n",
      " message: 'Optimization terminated successfully.'\n",
      "     nit: 6\n",
      "   slack: array([ 7.17411126e+01, -3.36707501e-07, -1.05006286e-05,  1.93440302e+01,\n",
      "       -1.09088958e-05, -1.71432571e-05])\n",
      "  status: 0\n",
      " success: True\n",
      "       x: array([1.46284652e-07, 1.12149528e+01, 1.11238438e-07, 6.80655952e+00,\n",
      "       7.47830161e-08, 2.87433819e-09, 1.08690432e-07, 6.30236989e+00,\n",
      "       2.82588874e-01, 4.18837652e-09])\n"
     ]
    }
   ],
   "source": [
    "import numpy as np\n",
    "C = np.array([[10,7,8,6,7,5,10,8,7,100], \n",
    "     [10,7,8,6,7,5,10,8,107,0],\n",
    "     [10,7,8,6,7,5,110,108,0,0],\n",
    "     [10,7,8,6,7,105,0,0,0,0],\n",
    "     [10,7,8,106,107,0,0,0,0,0],\n",
    "     [110,107,108,0,0,0,0,0,0,0]]);\n",
    "p =np.array([109,94.8,99.5,93.1,97.2,92.9,110,104,102,95.2]);\n",
    "p1 = np.transpose(p);\n",
    "b =np.array([100,200,800,100,800,1200]);\n",
    "b1 = np.transpose(b)\n",
    "\n",
    "from scipy.optimize import linprog\n",
    "res = linprog(p1, A_ub = -1*C, b_ub= -1*b1, bounds=None)\n",
    "print(res)"
   ]
  },
  {
   "cell_type": "code",
   "execution_count": 6,
   "id": "48f63f8d",
   "metadata": {},
   "outputs": [
    {
     "name": "stdout",
     "output_type": "stream",
     "text": [
      "[[   0.     78.4     0.     40.86    0.      0.      0.     50.4     1.96\n",
      "     0.  ]\n",
      " [   0.     78.4     0.     40.86    0.      0.      0.     50.4    29.96\n",
      "     0.  ]\n",
      " [   0.     78.4     0.     40.86    0.      0.      0.    680.4     0.\n",
      "     0.  ]\n",
      " [   0.     78.4     0.     40.86    0.      0.      0.      0.      0.\n",
      "     0.  ]\n",
      " [   0.     78.4     0.    721.86    0.      0.      0.      0.      0.\n",
      "     0.  ]\n",
      " [   0.   1198.4     0.      0.      0.      0.      0.      0.      0.\n",
      "     0.  ]]\n",
      "[ 171.62  199.62  799.66  119.26  800.26 1198.4 ]\n"
     ]
    }
   ],
   "source": [
    "import numpy as np\n",
    "C = np.array([[10,7,8,6,7,5,10,8,7,100], \n",
    "     [10,7,8,6,7,5,10,8,107,0],\n",
    "     [10,7,8,6,7,5,110,108,0,0],\n",
    "     [10,7,8,6,7,105,0,0,0,0],\n",
    "     [10,7,8,106,107,0,0,0,0,0],\n",
    "     [110,107,108,0,0,0,0,0,0,0]]);\n",
    "x =np.array([0,11.2,0,6.81,0, 0, 0, 6.3,0.28,0]);\n",
    "A = C*x;\n",
    "print(A)\n",
    "sum = A.sum(axis=1)\n",
    "print(sum)\n",
    "    \n"
   ]
  },
  {
   "cell_type": "code",
   "execution_count": null,
   "id": "831f441d",
   "metadata": {},
   "outputs": [],
   "source": []
  }
 ],
 "metadata": {
  "kernelspec": {
   "display_name": "Python 3",
   "language": "python",
   "name": "python3"
  },
  "language_info": {
   "codemirror_mode": {
    "name": "ipython",
    "version": 3
   },
   "file_extension": ".py",
   "mimetype": "text/x-python",
   "name": "python",
   "nbconvert_exporter": "python",
   "pygments_lexer": "ipython3",
   "version": "3.8.8"
  }
 },
 "nbformat": 4,
 "nbformat_minor": 5
}
