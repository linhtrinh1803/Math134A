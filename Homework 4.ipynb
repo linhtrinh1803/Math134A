{
 "cells": [
  {
   "cell_type": "markdown",
   "id": "6e587a33",
   "metadata": {},
   "source": [
    "### Question 1\n",
    "\n",
    "A firm is considering funding several proposed projects that have the financial properties shown in Table 5.6. The available budget is $600,000. What set of projects would be recommended by the approximate method based on benefit–cost ratios? What is the optimal set of projects?"
   ]
  },
  {
   "cell_type": "code",
   "execution_count": 2,
   "id": "00967c92",
   "metadata": {},
   "outputs": [
    {
     "name": "stdout",
     "output_type": "stream",
     "text": [
      "Optimal\n",
      "x1 1.0\n",
      "x2 1.0\n",
      "x3 1.0\n",
      "x4 0.0\n",
      "x5 0.0\n"
     ]
    }
   ],
   "source": [
    "import pulp as pl\n",
    "\n",
    "# declare some variables\n",
    "# each variable is a binary variable that is either 0 or 1\n",
    "# 1 means the item will go into the knapsack\n",
    "x1 = pl.LpVariable(\"x1\", 0, 1, pl.LpInteger)\n",
    "x2 = pl.LpVariable(\"x2\", 0, 1, pl.LpInteger)\n",
    "x3 = pl.LpVariable(\"x3\", 0, 1, pl.LpInteger)\n",
    "x4 = pl.LpVariable(\"x4\", 0, 1, pl.LpInteger)\n",
    "x5 = pl.LpVariable(\"x5\", 0, 1, pl.LpInteger)\n",
    "\n",
    "\n",
    "# define the problem\n",
    "prob = pl.LpProblem(\"knapsack\", pl.LpMaximize)\n",
    "\n",
    "# objective function - maximize value of objects in knapsack\n",
    "prob += 100*x1+200*x2+100*x3+50*x4+100*x5\n",
    "\n",
    "# constraint - weight of objects cannot exceed 15\n",
    "prob += 100*x1+300*x2+200*x3+150*x4+150*x5+150*x5 <= 600\n",
    "\n",
    "status = prob.solve()  # solve using the default solver, which is cbc\n",
    "print(pl.LpStatus[status])  # print the human-readable status\n",
    "\n",
    "# print the values\n",
    "print(\"x1\", pl.value(x1))\n",
    "print(\"x2\", pl.value(x2))\n",
    "print(\"x3\", pl.value(x3))\n",
    "print(\"x4\", pl.value(x4))\n",
    "print(\"x5\", pl.value(x5))"
   ]
  },
  {
   "cell_type": "markdown",
   "id": "16453baf",
   "metadata": {},
   "source": [
    "### Question 2 \n",
    "\n",
    "Refer to the transportation alternatives problem of Example 5.2. The bridge\n",
    "at Cay Road is actually part of the road between Augen and Burger. Therefore it is not\n",
    "reasonable for the bridge to have fewer lanes than the road itself. This means that if projects\n",
    "2 or 4 are carried out, either projects 6 or 7 must also be carried out. Formulate a zero–one\n",
    "programming problem that includes this additional requirement. Solve the problem"
   ]
  },
  {
   "cell_type": "code",
   "execution_count": 25,
   "id": "1504ff43",
   "metadata": {},
   "outputs": [
    {
     "name": "stdout",
     "output_type": "stream",
     "text": [
      "selected items: [3, 5, 9] \n"
     ]
    }
   ],
   "source": [
    "from mip import Model, xsum, maximize, BINARY\n",
    "\n",
    "a = [4,5,3,4.3,1,1.5,2.5,0.3,1,2];\n",
    "b = [2,3,1.5,2.2,0.5,1.5,2.5,0.1,0.6,1];\n",
    "\n",
    "m = Model(\"knapsack\")\n",
    "\n",
    "x = [m.add_var(var_type=BINARY) for i in range(0,10)]\n",
    "\n",
    "m.objective = maximize(xsum(a[i] * x[i] for i in range(0,10)))\n",
    "\n",
    "m.add_constr(xsum(b[i] * x[i] for i in range(0,10)) <= 5)\n",
    "m.add_constr(xsum(x[i] for i in range(0,4)) <= 1)\n",
    "m.add_constr(xsum(x[i] for i in range(4,7)) <=1)\n",
    "m.add_constr(xsum(x[i] for i in range(7,10)) <=1)\n",
    "if x[1]==1 or x[3]==1:\n",
    "    m.add_constr((x[5]+x[6]) >=1 ) #m.add_constr(x[1]+x[3]-(x[5]+x[6]) == 0)\n",
    "\n",
    "m.optimize()\n",
    "selected = [i for i in range(0,10) if x[i].x >= 1]\n",
    "print(\"selected items: {} \".format(selected))"
   ]
  },
  {
   "cell_type": "code",
   "execution_count": null,
   "id": "8607a97f",
   "metadata": {},
   "outputs": [],
   "source": []
  }
 ],
 "metadata": {
  "kernelspec": {
   "display_name": "Python 3",
   "language": "python",
   "name": "python3"
  },
  "language_info": {
   "codemirror_mode": {
    "name": "ipython",
    "version": 3
   },
   "file_extension": ".py",
   "mimetype": "text/x-python",
   "name": "python",
   "nbconvert_exporter": "python",
   "pygments_lexer": "ipython3",
   "version": "3.8.8"
  }
 },
 "nbformat": 4,
 "nbformat_minor": 5
}
