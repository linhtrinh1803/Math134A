{
 "cells": [
  {
   "cell_type": "markdown",
   "id": "2489a883",
   "metadata": {},
   "source": [
    "There are just three assets with rates of return r1,r2, and r3, respectively.\n",
    "The covariance matrix and the expected rates of return are: \n",
    "\n",
    "(a) Find the minimum-variance portfolio.\n",
    "(b) Find another efficient portfolio by setting λ = 1, µ = 0.\n",
    "(c) If the risk-free rate is rf = .2, find the efficient portfolio of risky assets."
   ]
  },
  {
   "cell_type": "code",
   "execution_count": 41,
   "id": "3c8ef929",
   "metadata": {},
   "outputs": [
    {
     "name": "stdout",
     "output_type": "stream",
     "text": [
      "[[0.5]\n",
      " [0. ]\n",
      " [0.5]]\n"
     ]
    }
   ],
   "source": [
    "import numpy as np \n",
    "V = np.array([[2,1,0],[1,2,1],[0,1,2]]);\n",
    "B = np.ones(shape=(3,1))\n",
    "r_bar = np.array([[4,8,8]]);\n",
    "v_a = np.linalg.inv(V).dot(B)\n",
    "w_a = np.zeros(shape=(3,1));\n",
    "for i in range (0,3):\n",
    "    w_a[i] = v_a[i]/np.sum(v_a);\n",
    "print(w_a)"
   ]
  },
  {
   "cell_type": "code",
   "execution_count": 43,
   "id": "cfb01571",
   "metadata": {},
   "outputs": [
    {
     "name": "stdout",
     "output_type": "stream",
     "text": [
      "[[0.16666667]\n",
      " [0.33333333]\n",
      " [0.5       ]]\n"
     ]
    }
   ],
   "source": [
    "r_bar_transpose = np.transpose(r_bar)\n",
    "v_b = np.linalg.inv(V).dot(r_bar_transpose);\n",
    "w_b = np.zeros(shape=(3,1));\n",
    "for i in range (0,3):\n",
    "    w_b[i] = v_b[i]/np.sum(v_b);\n",
    "print(w_b)"
   ]
  },
  {
   "cell_type": "code",
   "execution_count": 31,
   "id": "35d06928",
   "metadata": {},
   "outputs": [
    {
     "name": "stdout",
     "output_type": "stream",
     "text": [
      "[[0.15517241]\n",
      " [0.34482759]\n",
      " [0.5       ]]\n"
     ]
    }
   ],
   "source": [
    "r_f = 0.2\n",
    "v_c = np.zeros(shape=(3,1));\n",
    "for i in range (0,3):\n",
    "    v_c[i] = v_b[i] - v_a[i]*r_f;\n",
    "w_c = np.zeros(shape=(3,1));\n",
    "for i in range(0,3):\n",
    "    w_c[i] = v_c[i]/np.sum(v_c)\n",
    "print(w_c)"
   ]
  },
  {
   "cell_type": "code",
   "execution_count": null,
   "id": "c620f81b",
   "metadata": {},
   "outputs": [],
   "source": []
  }
 ],
 "metadata": {
  "kernelspec": {
   "display_name": "Python 3",
   "language": "python",
   "name": "python3"
  },
  "language_info": {
   "codemirror_mode": {
    "name": "ipython",
    "version": 3
   },
   "file_extension": ".py",
   "mimetype": "text/x-python",
   "name": "python",
   "nbconvert_exporter": "python",
   "pygments_lexer": "ipython3",
   "version": "3.8.8"
  }
 },
 "nbformat": 4,
 "nbformat_minor": 5
}
