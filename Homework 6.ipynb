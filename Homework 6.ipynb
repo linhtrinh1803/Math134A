{
 "cells": [
  {
   "cell_type": "code",
   "execution_count": 8,
   "id": "df50af80",
   "metadata": {},
   "outputs": [
    {
     "name": "stdout",
     "output_type": "stream",
     "text": [
      "0.13\n",
      "0.09\n",
      "1.2962962962962963\n",
      "0.0625\n"
     ]
    }
   ],
   "source": [
    "import math\n",
    "nA = 100; nB = 150; \n",
    "pA = 1.50; pB = 2.00; \n",
    "rA = 0.15; rB = 0.12; \n",
    "sigmaA = 0.15; sigmaB = 0.09;\n",
    "rho_AB=1/3;\n",
    "rM = (nA*pA*rA + nB*pB*rB)/(nA*pA + nB*pB);\n",
    "wA = (nA*pA)/(nA*pA + nB*pB);\n",
    "wB = (nB*pB)/(nA*pA + nB*pB);\n",
    "sigmaM = math.sqrt(wA**2 * sigmaA**2 + wB**2 * sigmaB**2 + \n",
    "                   2*rho_AB*wA*wB*sigmaA*sigmaB);\n",
    "sigmaAM = wA*sigmaA**2 + rho_AB*wB*sigmaA*sigmaB;\n",
    "beta_A = sigmaAM/(sigmaM**2);\n",
    "rF = (rA - beta_A*rM)/(1-beta_A);\n",
    "print(rM)\n",
    "print(sigmaM)\n",
    "print(beta_A)\n",
    "print(rF)"
   ]
  },
  {
   "cell_type": "code",
   "execution_count": null,
   "id": "8ccf53ec",
   "metadata": {},
   "outputs": [],
   "source": []
  }
 ],
 "metadata": {
  "kernelspec": {
   "display_name": "Python 3",
   "language": "python",
   "name": "python3"
  },
  "language_info": {
   "codemirror_mode": {
    "name": "ipython",
    "version": 3
   },
   "file_extension": ".py",
   "mimetype": "text/x-python",
   "name": "python",
   "nbconvert_exporter": "python",
   "pygments_lexer": "ipython3",
   "version": "3.8.8"
  }
 },
 "nbformat": 4,
 "nbformat_minor": 5
}
