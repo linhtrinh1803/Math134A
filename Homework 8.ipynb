{
 "cells": [
  {
   "cell_type": "code",
   "execution_count": 29,
   "id": "1cdd2f73",
   "metadata": {},
   "outputs": [],
   "source": [
    "import numpy as np\n",
    "index = np.array([12.3, 5.5, 4.3, 6.7, 9.7, 8.3, 5.6, 5.7, 5.7, 3.6]);\n",
    "stock_1 = np.array([11.91, 18.37, 3.64, 24.37, 30.42, -1.45, 20.11, 9.28, 17.63, 15.71]);\n",
    "stock_2 = np.array([29.59, 15.25, 3.53, 17.67, 12.74, -2.56, 25.46, 6.92, 9.73, 25.09]);\n",
    "stock_3 = np.array([23.27, 19.47, -6.58, 15.08, 16.24, -15.05, 17.80, 18.82, 3.05, 16.94]);\n",
    "stock_4 = np.array([27.24, 17.05, 10.20, 20.26, 19.84, 1.51, 12.24, 16.12, 22.93, 3.49]);\n",
    "market = (stock_1+stock_2+stock_3+stock_4)/4\n",
    "riskless = np.array([6.2, 6.7, 6.4, 5.7, 5.9, 5.2, 4.9, 5.5, 6.1, 5.8])"
   ]
  },
  {
   "cell_type": "code",
   "execution_count": 30,
   "id": "afc5d110",
   "metadata": {},
   "outputs": [],
   "source": [
    "rf = np.mean(riskless)\n",
    "mu_market = np.mean(market)\n",
    "mu_index = np.mean(index)\n",
    "mu_stock1 = np.mean(stock_1)\n",
    "mu_stock2 = np.mean(stock_2)\n",
    "mu_stock3 = np.mean(stock_3)\n",
    "mu_stock4 = np.mean(stock_4)"
   ]
  },
  {
   "cell_type": "code",
   "execution_count": 36,
   "id": "9348aaec",
   "metadata": {},
   "outputs": [],
   "source": [
    "from statistics import variance\n",
    "var_market = variance(market)\n",
    "var_index = variance(index)\n",
    "var_stock1 = variance(stock_1)\n",
    "var_stock2 = variance(stock_2)\n",
    "var_stock3 = variance(stock_3)\n",
    "var_stock4 = variance(stock_4)"
   ]
  },
  {
   "cell_type": "markdown",
   "id": "2f107487",
   "metadata": {},
   "source": [
    "### Example 8.1"
   ]
  },
  {
   "cell_type": "code",
   "execution_count": 1,
   "id": "5738140b",
   "metadata": {},
   "outputs": [
    {
     "ename": "NameError",
     "evalue": "name 'np' is not defined",
     "output_type": "error",
     "traceback": [
      "\u001b[0;31m---------------------------------------------------------------------------\u001b[0m",
      "\u001b[0;31mNameError\u001b[0m                                 Traceback (most recent call last)",
      "\u001b[0;32m<ipython-input-1-7de2118f1f51>\u001b[0m in \u001b[0;36m<module>\u001b[0;34m\u001b[0m\n\u001b[0;32m----> 1\u001b[0;31m \u001b[0mB1\u001b[0m \u001b[0;34m=\u001b[0m \u001b[0mnp\u001b[0m\u001b[0;34m.\u001b[0m\u001b[0mcov\u001b[0m\u001b[0;34m(\u001b[0m\u001b[0mstock_1\u001b[0m\u001b[0;34m,\u001b[0m\u001b[0mindex\u001b[0m\u001b[0;34m)\u001b[0m\u001b[0;34m;\u001b[0m\u001b[0;34m\u001b[0m\u001b[0;34m\u001b[0m\u001b[0m\n\u001b[0m\u001b[1;32m      2\u001b[0m \u001b[0mb1\u001b[0m \u001b[0;34m=\u001b[0m \u001b[0mB1\u001b[0m\u001b[0;34m[\u001b[0m\u001b[0;36m1\u001b[0m\u001b[0;34m,\u001b[0m\u001b[0;36m0\u001b[0m\u001b[0;34m]\u001b[0m\u001b[0;34m/\u001b[0m\u001b[0mvar_index\u001b[0m\u001b[0;34m\u001b[0m\u001b[0;34m\u001b[0m\u001b[0m\n\u001b[1;32m      3\u001b[0m \u001b[0ma1\u001b[0m \u001b[0;34m=\u001b[0m \u001b[0mmu_stock1\u001b[0m \u001b[0;34m-\u001b[0m \u001b[0mb1\u001b[0m\u001b[0;34m*\u001b[0m\u001b[0mmu_index\u001b[0m\u001b[0;34m\u001b[0m\u001b[0;34m\u001b[0m\u001b[0m\n\u001b[1;32m      4\u001b[0m \u001b[0me_stock1\u001b[0m \u001b[0;34m=\u001b[0m \u001b[0mstock_1\u001b[0m \u001b[0;34m-\u001b[0m \u001b[0ma1\u001b[0m \u001b[0;34m-\u001b[0m \u001b[0mb1\u001b[0m\u001b[0;34m*\u001b[0m\u001b[0mindex\u001b[0m\u001b[0;34m\u001b[0m\u001b[0;34m\u001b[0m\u001b[0m\n\u001b[1;32m      5\u001b[0m \u001b[0me_var1\u001b[0m \u001b[0;34m=\u001b[0m \u001b[0mvar_stock1\u001b[0m \u001b[0;34m-\u001b[0m \u001b[0;34m(\u001b[0m\u001b[0mb1\u001b[0m\u001b[0;34m**\u001b[0m\u001b[0;36m2\u001b[0m\u001b[0;34m)\u001b[0m\u001b[0;34m*\u001b[0m\u001b[0mvar_index\u001b[0m\u001b[0;34m\u001b[0m\u001b[0;34m\u001b[0m\u001b[0m\n",
      "\u001b[0;31mNameError\u001b[0m: name 'np' is not defined"
     ]
    }
   ],
   "source": [
    "B1 = np.cov(stock_1,index);\n",
    "b1 = B1[1,0]/var_index\n",
    "a1 = mu_stock1 - b1*mu_index\n",
    "e_stock1 = stock_1 - a1 - b1*index\n",
    "e_var1 = var_stock1 - (b1**2)*var_index\n",
    "print(B1)"
   ]
  },
  {
   "cell_type": "code",
   "execution_count": 85,
   "id": "53e54335",
   "metadata": {},
   "outputs": [
    {
     "name": "stdout",
     "output_type": "stream",
     "text": [
      "103.66829953135705\n"
     ]
    }
   ],
   "source": [
    "B2 = np.cov(stock_2,index);\n",
    "b2 = B2[1,0]/var_index\n",
    "a2 = mu_stock2 - b2*mu_index\n",
    "e_stock2 = stock_2 - a2 - b2*index\n",
    "e_var2 = var_stock2 - (b2**2)*var_index\n",
    "print(e_var2)"
   ]
  },
  {
   "cell_type": "code",
   "execution_count": 86,
   "id": "3ec89cb8",
   "metadata": {},
   "outputs": [
    {
     "name": "stdout",
     "output_type": "stream",
     "text": [
      "157.955680732312\n"
     ]
    }
   ],
   "source": [
    "B3 = np.cov(stock_3,index);\n",
    "b3 = B3[1,0]/var_index\n",
    "a3 = mu_stock3 - b3*mu_index\n",
    "e_stock3 = stock_3 - a3 - b3*index\n",
    "e_var3 = var_stock3 - (b3**2)*var_index\n",
    "print(e_var3)"
   ]
  },
  {
   "cell_type": "code",
   "execution_count": 87,
   "id": "38f62b5a",
   "metadata": {},
   "outputs": [
    {
     "name": "stdout",
     "output_type": "stream",
     "text": [
      "50.53606237471659\n"
     ]
    }
   ],
   "source": [
    "B4 = np.cov(stock_4,index);\n",
    "b4 = B4[1,0]/var_index\n",
    "a4 = mu_stock4 - b4*mu_index\n",
    "e_stock4 = stock_4 - a4 - b4*index\n",
    "e_var4 = var_stock4 - (b4**2)*var_index\n",
    "print(e_var4)"
   ]
  },
  {
   "cell_type": "code",
   "execution_count": 88,
   "id": "c4fb63b4",
   "metadata": {},
   "outputs": [
    {
     "name": "stdout",
     "output_type": "stream",
     "text": [
      "[[ 89.47668399  49.22072378]\n",
      " [ 49.22072378 103.66829953]]\n"
     ]
    }
   ],
   "source": [
    "print(np.cov(e_stock1, e_stock2))"
   ]
  },
  {
   "cell_type": "code",
   "execution_count": 89,
   "id": "c5ac244c",
   "metadata": {},
   "outputs": [
    {
     "name": "stdout",
     "output_type": "stream",
     "text": [
      "[[103.66829953 101.49105759]\n",
      " [101.49105759 157.95568073]]\n"
     ]
    }
   ],
   "source": [
    "print(np.cov(e_stock2, e_stock3))"
   ]
  },
  {
   "cell_type": "code",
   "execution_count": 90,
   "id": "d00b645d",
   "metadata": {},
   "outputs": [
    {
     "name": "stdout",
     "output_type": "stream",
     "text": [
      "[[157.95568073  47.85989734]\n",
      " [ 47.85989734  50.53606237]]\n"
     ]
    }
   ],
   "source": [
    "print(np.cov(e_stock3, e_stock4))"
   ]
  },
  {
   "cell_type": "markdown",
   "id": "048df9ae",
   "metadata": {},
   "source": [
    "### Example 8.2\n"
   ]
  },
  {
   "cell_type": "code",
   "execution_count": 97,
   "id": "fd57914d",
   "metadata": {},
   "outputs": [
    {
     "name": "stdout",
     "output_type": "stream",
     "text": [
      "31.51934572254129\n"
     ]
    }
   ],
   "source": [
    "B1 = np.cov(stock_1,market);\n",
    "beta1 = B1[1,0]/var_market\n",
    "alpha1 = (mu_stock1-rf)- beta1*(mu_market-rf)\n",
    "e_stock1 = stock_1 - alpha1 - beta1*market\n",
    "e_var1 = var_stock1 - (beta1**2)*var_market\n",
    "print(e_var1)"
   ]
  },
  {
   "cell_type": "code",
   "execution_count": 99,
   "id": "3300fb0e",
   "metadata": {},
   "outputs": [
    {
     "name": "stdout",
     "output_type": "stream",
     "text": [
      "32.07369510932082\n"
     ]
    }
   ],
   "source": [
    "B2 = np.cov(stock_2,market);\n",
    "beta2 = B2[1,0]/var_market\n",
    "alpha2 = (mu_stock2-rf)- beta2*(mu_market-rf)\n",
    "e_stock2 = stock_2 - alpha2 - beta2*market\n",
    "e_var2 = var_stock2 - (beta2**2)*var_market\n",
    "print(e_var2)"
   ]
  },
  {
   "cell_type": "code",
   "execution_count": 100,
   "id": "ef99fe08",
   "metadata": {},
   "outputs": [
    {
     "name": "stdout",
     "output_type": "stream",
     "text": [
      "21.36208948208815\n"
     ]
    }
   ],
   "source": [
    "B3 = np.cov(stock_3,market);\n",
    "beta3 = B3[1,0]/var_market\n",
    "alpha3 = (mu_stock3-rf)- beta3*(mu_market-rf)\n",
    "e_stock3 = stock_3 - alpha3 - beta3*market\n",
    "e_var3 = var_stock3 - (beta3**2)*var_market\n",
    "print(e_var3)"
   ]
  },
  {
   "cell_type": "code",
   "execution_count": 102,
   "id": "876477b5",
   "metadata": {},
   "outputs": [
    {
     "name": "stdout",
     "output_type": "stream",
     "text": [
      "34.97841245813016\n"
     ]
    }
   ],
   "source": [
    "B4 = np.cov(stock_4,market);\n",
    "beta4 = B4[1,0]/var_market\n",
    "alpha4 = (mu_stock4-rf)- beta4*(mu_market-rf)\n",
    "e_stock4 = stock_4 - alpha4 - beta4*market\n",
    "e_var4 = var_stock4 - (beta4**2)*var_market\n",
    "print(e_var4)"
   ]
  },
  {
   "cell_type": "markdown",
   "id": "fea5d21e",
   "metadata": {},
   "source": [
    "### Exercise 8.3"
   ]
  },
  {
   "cell_type": "code",
   "execution_count": 74,
   "id": "97b5b88a",
   "metadata": {},
   "outputs": [],
   "source": [
    "import numpy as np\n",
    "index = np.array([12.3, 5.5, 4.3, 6.7, 9.7, 8.3, 5.6, 5.7, 5.7, 3.6]);\n",
    "stock_1 = np.array([11.91, 18.37, 3.64, 24.37, 30.42, -1.45, 20.11, 9.28, 17.63, 15.71]);\n",
    "stock_2 = np.array([29.59, 15.25, 3.53, 17.67, 12.74, -2.56, 25.46, 6.92, 9.73, 25.09]);\n",
    "stock_3 = np.array([23.27, 19.47, -6.58, 15.08, 16.24, -15.05, 17.80, 18.82, 3.05, 16.94]);\n",
    "stock_4 = np.array([27.24, 17.05, 10.20, 20.26, 19.84, 1.51, 12.24, 16.12, 22.93, 3.49]);\n",
    "market = (stock_1+stock_2+stock_3+stock_4)/4\n",
    "riskless = np.array([6.2, 6.7, 6.4, 5.7, 5.9, 5.2, 4.9, 5.5, 6.1, 5.8])"
   ]
  },
  {
   "cell_type": "code",
   "execution_count": 97,
   "id": "f0ac6899",
   "metadata": {},
   "outputs": [
    {
     "name": "stdout",
     "output_type": "stream",
     "text": [
      "[[ 90.26465444  50.89496889  79.02409333  40.17989778]\n",
      " [ 50.89496889 107.22566222 105.37893556  30.98590444]\n",
      " [ 79.02409333 105.37893556 162.20478222  56.53679778]\n",
      " [ 40.17989778  30.98590444  56.53679778  68.25477333]]\n"
     ]
    }
   ],
   "source": [
    "R = np.stack((stock_1,stock_2,stock_3,stock_4), axis = 0)\n",
    "V = np.cov(R)\n",
    "print(V)"
   ]
  },
  {
   "cell_type": "code",
   "execution_count": 98,
   "id": "c2f6e95e",
   "metadata": {},
   "outputs": [
    {
     "name": "stdout",
     "output_type": "stream",
     "text": [
      "[[ 0.41850798  0.51318117  0.73665617  0.13723645]\n",
      " [ 0.5073799  -0.54934435 -0.02912528  0.66327832]\n",
      " [ 0.69300114 -0.17820203 -0.14214733 -0.68395   ]\n",
      " [ 0.29523911  0.63490937 -0.66051763  0.27099894]]\n",
      "[311.16736846  58.05278743  36.97666605  21.75305028]\n"
     ]
    }
   ],
   "source": [
    "w,v = eig(V)\n",
    "#w is egigenvalue and v is eigenvector\n",
    "print(v)\n",
    "print(w)"
   ]
  },
  {
   "cell_type": "code",
   "execution_count": 130,
   "id": "5456c34a",
   "metadata": {},
   "outputs": [],
   "source": [
    "P = np.zeros(shape = (4,1))\n",
    "for i in range (0,4):\n",
    "    P[i] = v[i,0] / (np.sum(v[:,0]))\n",
    "PC = np.matmul(np.transpose(R),P)"
   ]
  },
  {
   "cell_type": "code",
   "execution_count": 127,
   "id": "96e40615",
   "metadata": {},
   "outputs": [
    {
     "name": "stdout",
     "output_type": "stream",
     "text": [
      "[[23.07382172 17.73762871  0.92256705 18.59668812 18.96786036 -6.21148867\n",
      "  19.4779201  13.16336061 11.07480113 16.75684371]]\n"
     ]
    }
   ],
   "source": [
    "print(np.transpose(PC))"
   ]
  },
  {
   "cell_type": "code",
   "execution_count": 129,
   "id": "e44cafdb",
   "metadata": {},
   "outputs": [
    {
     "name": "stdout",
     "output_type": "stream",
     "text": [
      "[23.0025 17.535   2.6975 19.345  19.81   -4.3875 18.9025 12.785  13.335\n",
      " 15.3075]\n"
     ]
    }
   ],
   "source": [
    "print(market)"
   ]
  },
  {
   "cell_type": "markdown",
   "id": "9bd7b690",
   "metadata": {},
   "source": [
    "### Exercise 8.5"
   ]
  },
  {
   "cell_type": "code",
   "execution_count": 180,
   "id": "75e7b980",
   "metadata": {},
   "outputs": [],
   "source": [
    "from statistics import variance\n",
    "from numpy.linalg import multi_dot\n",
    "r = np.array([0.02, 0.34, 0.12, 0.34, 0.67, 0.11, 0.33, 0.56, 0.34, -0.28]);\n",
    "F = np.array([0.4, 0.8, 0.14, 0.66, 0.9, 0.2, 0.18, 0.47, 0.21, -0.3]);\n",
    "ones = np.array([1,1,1,1,1,1,1,1,1,1])"
   ]
  },
  {
   "cell_type": "code",
   "execution_count": 181,
   "id": "5ad81345",
   "metadata": {},
   "outputs": [
    {
     "name": "stdout",
     "output_type": "stream",
     "text": [
      "[[ 1.    0.4 ]\n",
      " [ 1.    0.8 ]\n",
      " [ 1.    0.14]\n",
      " [ 1.    0.66]\n",
      " [ 1.    0.9 ]\n",
      " [ 1.    0.2 ]\n",
      " [ 1.    0.18]\n",
      " [ 1.    0.47]\n",
      " [ 1.    0.21]\n",
      " [ 1.   -0.3 ]]\n"
     ]
    }
   ],
   "source": [
    "A = np.stack((ones,F), axis =1)\n",
    "print(A)"
   ]
  },
  {
   "cell_type": "code",
   "execution_count": 182,
   "id": "91d4a81c",
   "metadata": {},
   "outputs": [
    {
     "name": "stdout",
     "output_type": "stream",
     "text": [
      "[[0.0356933 ]\n",
      " [0.59919864]]\n"
     ]
    }
   ],
   "source": [
    "A1 = np.matmul(np.transpose(A),A)\n",
    "x = multi_dot([np.linalg.inv(A1),np.transpose(A),np.reshape(r,(10,1))])\n",
    "print(x)"
   ]
  },
  {
   "cell_type": "code",
   "execution_count": null,
   "id": "66aabbe9",
   "metadata": {},
   "outputs": [],
   "source": []
  }
 ],
 "metadata": {
  "kernelspec": {
   "display_name": "Python 3",
   "language": "python",
   "name": "python3"
  },
  "language_info": {
   "codemirror_mode": {
    "name": "ipython",
    "version": 3
   },
   "file_extension": ".py",
   "mimetype": "text/x-python",
   "name": "python",
   "nbconvert_exporter": "python",
   "pygments_lexer": "ipython3",
   "version": "3.8.8"
  }
 },
 "nbformat": 4,
 "nbformat_minor": 5
}
