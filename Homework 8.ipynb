{
 "cells": [
  {
   "cell_type": "code",
   "execution_count": 29,
   "id": "1cdd2f73",
   "metadata": {},
   "outputs": [],
   "source": [
    "import numpy as np\n",
    "index = np.array([12.3, 5.5, 4.3, 6.7, 9.7, 8.3, 5.6, 5.7, 5.7, 3.6]);\n",
    "stock_1 = np.array([11.91, 18.37, 3.64, 24.37, 30.42, -1.45, 20.11, 9.28, 17.63, 15.71]);\n",
    "stock_2 = np.array([29.59, 15.25, 3.53, 17.67, 12.74, -2.56, 25.46, 6.92, 9.73, 25.09]);\n",
    "stock_3 = np.array([23.27, 19.47, -6.58, 15.08, 16.24, -15.05, 17.80, 18.82, 3.05, 16.94]);\n",
    "stock_4 = np.array([27.24, 17.05, 10.20, 20.26, 19.84, 1.51, 12.24, 16.12, 22.93, 3.49]);\n",
    "market = (stock_1+stock_2+stock_3+stock_4)/4\n",
    "riskless = np.array([6.2, 6.7, 6.4, 5.7, 5.9, 5.2, 4.9, 5.5, 6.1, 5.8])"
   ]
  },
  {
   "cell_type": "code",
   "execution_count": 30,
   "id": "afc5d110",
   "metadata": {},
   "outputs": [],
   "source": [
    "rf = np.mean(riskless)\n",
    "mu_market = np.mean(market)\n",
    "mu_index = np.mean(index)\n",
    "mu_stock1 = np.mean(stock_1)\n",
    "mu_stock2 = np.mean(stock_2)\n",
    "mu_stock3 = np.mean(stock_3)\n",
    "mu_stock4 = np.mean(stock_4)"
   ]
  },
  {
   "cell_type": "code",
   "execution_count": 36,
   "id": "9348aaec",
   "metadata": {},
   "outputs": [],
   "source": [
    "from statistics import variance\n",
    "var_market = variance(market)\n",
    "var_index = variance(index)\n",
    "var_stock1 = variance(stock_1)\n",
    "var_stock2 = variance(stock_2)\n",
    "var_stock3 = variance(stock_3)\n",
    "var_stock4 = variance(stock_4)"
   ]
  },
  {
   "cell_type": "markdown",
   "id": "2f107487",
   "metadata": {},
   "source": [
    "### Example 8.1"
   ]
  },
  {
   "cell_type": "code",
   "execution_count": 84,
   "id": "5738140b",
   "metadata": {},
   "outputs": [
    {
     "name": "stdout",
     "output_type": "stream",
     "text": [
      "89.47668399091675\n"
     ]
    }
   ],
   "source": [
    "B1 = np.cov(stock_1,index);\n",
    "b1 = B1[1,0]/var_index\n",
    "a1 = mu_stock1 - b1*mu_index\n",
    "e_stock1 = stock_1 - a1 - b1*index\n",
    "e_var1 = var_stock1 - (b1**2)*var_index\n",
    "print(e_var1)"
   ]
  },
  {
   "cell_type": "code",
   "execution_count": 85,
   "id": "53e54335",
   "metadata": {},
   "outputs": [
    {
     "name": "stdout",
     "output_type": "stream",
     "text": [
      "103.66829953135705\n"
     ]
    }
   ],
   "source": [
    "B2 = np.cov(stock_2,index);\n",
    "b2 = B2[1,0]/var_index\n",
    "a2 = mu_stock2 - b2*mu_index\n",
    "e_stock2 = stock_2 - a2 - b2*index\n",
    "e_var2 = var_stock2 - (b2**2)*var_index\n",
    "print(e_var2)"
   ]
  },
  {
   "cell_type": "code",
   "execution_count": 86,
   "id": "3ec89cb8",
   "metadata": {},
   "outputs": [
    {
     "name": "stdout",
     "output_type": "stream",
     "text": [
      "157.955680732312\n"
     ]
    }
   ],
   "source": [
    "B3 = np.cov(stock_3,index);\n",
    "b3 = B3[1,0]/var_index\n",
    "a3 = mu_stock3 - b3*mu_index\n",
    "e_stock3 = stock_3 - a3 - b3*index\n",
    "e_var3 = var_stock3 - (b3**2)*var_index\n",
    "print(e_var3)"
   ]
  },
  {
   "cell_type": "code",
   "execution_count": 87,
   "id": "38f62b5a",
   "metadata": {},
   "outputs": [
    {
     "name": "stdout",
     "output_type": "stream",
     "text": [
      "50.53606237471659\n"
     ]
    }
   ],
   "source": [
    "B4 = np.cov(stock_4,index);\n",
    "b4 = B4[1,0]/var_index\n",
    "a4 = mu_stock4 - b4*mu_index\n",
    "e_stock4 = stock_4 - a4 - b4*index\n",
    "e_var4 = var_stock4 - (b4**2)*var_index\n",
    "print(e_var4)"
   ]
  },
  {
   "cell_type": "code",
   "execution_count": 88,
   "id": "c4fb63b4",
   "metadata": {},
   "outputs": [
    {
     "name": "stdout",
     "output_type": "stream",
     "text": [
      "[[ 89.47668399  49.22072378]\n",
      " [ 49.22072378 103.66829953]]\n"
     ]
    }
   ],
   "source": [
    "print(np.cov(e_stock1, e_stock2))"
   ]
  },
  {
   "cell_type": "code",
   "execution_count": 89,
   "id": "c5ac244c",
   "metadata": {},
   "outputs": [
    {
     "name": "stdout",
     "output_type": "stream",
     "text": [
      "[[103.66829953 101.49105759]\n",
      " [101.49105759 157.95568073]]\n"
     ]
    }
   ],
   "source": [
    "print(np.cov(e_stock2, e_stock3))"
   ]
  },
  {
   "cell_type": "code",
   "execution_count": 90,
   "id": "d00b645d",
   "metadata": {},
   "outputs": [
    {
     "name": "stdout",
     "output_type": "stream",
     "text": [
      "[[157.95568073  47.85989734]\n",
      " [ 47.85989734  50.53606237]]\n"
     ]
    }
   ],
   "source": [
    "print(np.cov(e_stock3, e_stock4))"
   ]
  },
  {
   "cell_type": "markdown",
   "id": "048df9ae",
   "metadata": {},
   "source": [
    "### Example 8.2\n"
   ]
  },
  {
   "cell_type": "code",
   "execution_count": 97,
   "id": "fd57914d",
   "metadata": {},
   "outputs": [
    {
     "name": "stdout",
     "output_type": "stream",
     "text": [
      "31.51934572254129\n"
     ]
    }
   ],
   "source": [
    "B1 = np.cov(stock_1,market);\n",
    "beta1 = B1[1,0]/var_market\n",
    "alpha1 = (mu_stock1-rf)- beta1*(mu_market-rf)\n",
    "e_stock1 = stock_1 - alpha1 - beta1*market\n",
    "e_var1 = var_stock1 - (beta1**2)*var_market\n",
    "print(e_var1)"
   ]
  },
  {
   "cell_type": "code",
   "execution_count": 99,
   "id": "3300fb0e",
   "metadata": {},
   "outputs": [
    {
     "name": "stdout",
     "output_type": "stream",
     "text": [
      "32.07369510932082\n"
     ]
    }
   ],
   "source": [
    "B2 = np.cov(stock_2,market);\n",
    "beta2 = B2[1,0]/var_market\n",
    "alpha2 = (mu_stock2-rf)- beta2*(mu_market-rf)\n",
    "e_stock2 = stock_2 - alpha2 - beta2*market\n",
    "e_var2 = var_stock2 - (beta2**2)*var_market\n",
    "print(e_var2)"
   ]
  },
  {
   "cell_type": "code",
   "execution_count": 100,
   "id": "ef99fe08",
   "metadata": {},
   "outputs": [
    {
     "name": "stdout",
     "output_type": "stream",
     "text": [
      "21.36208948208815\n"
     ]
    }
   ],
   "source": [
    "B3 = np.cov(stock_3,market);\n",
    "beta3 = B3[1,0]/var_market\n",
    "alpha3 = (mu_stock3-rf)- beta3*(mu_market-rf)\n",
    "e_stock3 = stock_3 - alpha3 - beta3*market\n",
    "e_var3 = var_stock3 - (beta3**2)*var_market\n",
    "print(e_var3)"
   ]
  },
  {
   "cell_type": "code",
   "execution_count": 102,
   "id": "876477b5",
   "metadata": {},
   "outputs": [
    {
     "name": "stdout",
     "output_type": "stream",
     "text": [
      "34.97841245813016\n"
     ]
    }
   ],
   "source": [
    "B4 = np.cov(stock_4,market);\n",
    "beta4 = B4[1,0]/var_market\n",
    "alpha4 = (mu_stock4-rf)- beta4*(mu_market-rf)\n",
    "e_stock4 = stock_4 - alpha4 - beta4*market\n",
    "e_var4 = var_stock4 - (beta4**2)*var_market\n",
    "print(e_var4)"
   ]
  },
  {
   "cell_type": "code",
   "execution_count": null,
   "id": "233c9355",
   "metadata": {},
   "outputs": [],
   "source": []
  }
 ],
 "metadata": {
  "kernelspec": {
   "display_name": "Python 3",
   "language": "python",
   "name": "python3"
  },
  "language_info": {
   "codemirror_mode": {
    "name": "ipython",
    "version": 3
   },
   "file_extension": ".py",
   "mimetype": "text/x-python",
   "name": "python",
   "nbconvert_exporter": "python",
   "pygments_lexer": "ipython3",
   "version": "3.8.8"
  }
 },
 "nbformat": 4,
 "nbformat_minor": 5
}
