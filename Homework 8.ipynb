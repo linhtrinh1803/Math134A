{
 "cells": [
  {
   "cell_type": "code",
   "execution_count": 29,
   "id": "2feee49f",
   "metadata": {},
   "outputs": [],
   "source": [
    "import numpy as np\n",
    "index = np.array([12.3, 5.5, 4.3, 6.7, 9.7, 8.3, 5.6, 5.7, 5.7, 3.6]);\n",
    "stock_1 = np.array([11.91, 18.37, 3.64, 24.37, 30.42, -1.45, 20.11, 9.28, 17.63, 15.71]);\n",
    "stock_2 = np.array([29.59, 15.25, 3.53, 17.67, 12.74, -2.56, 25.46, 6.92, 9.73, 25.09]);\n",
    "stock_3 = np.array([23.27, 19.47, -6.58, 15.08, 16.24, -15.05, 17.80, 18.82, 3.05, 16.94]);\n",
    "stock_4 = np.array([27.24, 17.05, 10.20, 20.26, 19.84, 1.51, 12.24, 16.12, 22.93, 3.49]);\n",
    "market = (stock_1+stock_2+stock_3+stock_4)/4\n",
    "riskless = np.array([6.2, 6.7, 6.4, 5.7, 5.9, 5.2, 4.9, 5.5, 6.1, 5.8])"
   ]
  },
  {
   "cell_type": "code",
   "execution_count": 30,
   "id": "0cc7be1d",
   "metadata": {},
   "outputs": [],
   "source": [
    "rf = np.mean(riskless)\n",
    "mu_market = np.mean(market)\n",
    "mu_index = np.mean(index)\n",
    "mu_stock1 = np.mean(stock_1)\n",
    "mu_stock2 = np.mean(stock_2)\n",
    "mu_stock3 = np.mean(stock_3)\n",
    "mu_stock4 = np.mean(stock_4)"
   ]
  },
  {
   "cell_type": "code",
   "execution_count": 36,
   "id": "17aa1b4a",
   "metadata": {},
   "outputs": [],
   "source": [
    "from statistics import variance\n",
    "var_market = variance(market)\n",
    "var_index = variance(index)\n",
    "var_stock1 = variance(stock_1)\n",
    "var_stock2 = variance(stock_2)\n",
    "var_stock3 = variance(stock_3)\n",
    "var_stock4 = variance(stock_4)"
   ]
  },
  {
   "cell_type": "markdown",
   "id": "517ec052",
   "metadata": {},
   "source": [
    "### Example 8.1"
   ]
  },
  {
   "cell_type": "code",
   "execution_count": 84,
   "id": "36d3f0ea",
   "metadata": {},
   "outputs": [
    {
     "name": "stdout",
     "output_type": "stream",
     "text": [
      "89.47668399091675\n"
     ]
    }
   ],
   "source": [
    "B1 = np.cov(stock_1,index);\n",
    "b1 = B1[1,0]/var_index\n",
    "a1 = mu_stock1 - b1*mu_index\n",
    "e_stock1 = stock_1 - a1 - b1*index\n",
    "e_var1 = var_stock1 - (b1**2)*var_index\n",
    "print(e_var1)"
   ]
  },
  {
   "cell_type": "code",
   "execution_count": 85,
   "id": "a1800f18",
   "metadata": {},
   "outputs": [
    {
     "name": "stdout",
     "output_type": "stream",
     "text": [
      "103.66829953135705\n"
     ]
    }
   ],
   "source": [
    "B2 = np.cov(stock_2,index);\n",
    "b2 = B2[1,0]/var_index\n",
    "a2 = mu_stock2 - b2*mu_index\n",
    "e_stock2 = stock_2 - a2 - b2*index\n",
    "e_var2 = var_stock2 - (b2**2)*var_index\n",
    "print(e_var2)"
   ]
  },
  {
   "cell_type": "code",
   "execution_count": 86,
   "id": "96fcd765",
   "metadata": {},
   "outputs": [
    {
     "name": "stdout",
     "output_type": "stream",
     "text": [
      "157.955680732312\n"
     ]
    }
   ],
   "source": [
    "B3 = np.cov(stock_3,index);\n",
    "b3 = B3[1,0]/var_index\n",
    "a3 = mu_stock3 - b3*mu_index\n",
    "e_stock3 = stock_3 - a3 - b3*index\n",
    "e_var3 = var_stock3 - (b3**2)*var_index\n",
    "print(e_var3)"
   ]
  },
  {
   "cell_type": "code",
   "execution_count": 87,
   "id": "b79df68a",
   "metadata": {},
   "outputs": [
    {
     "name": "stdout",
     "output_type": "stream",
     "text": [
      "50.53606237471659\n"
     ]
    }
   ],
   "source": [
    "B4 = np.cov(stock_4,index);\n",
    "b4 = B4[1,0]/var_index\n",
    "a4 = mu_stock4 - b4*mu_index\n",
    "e_stock4 = stock_4 - a4 - b4*index\n",
    "e_var4 = var_stock4 - (b4**2)*var_index\n",
    "print(e_var4)"
   ]
  },
  {
   "cell_type": "code",
   "execution_count": null,
   "id": "a37d3016",
   "metadata": {},
   "outputs": [],
   "source": []
  }
 ],
 "metadata": {
  "kernelspec": {
   "display_name": "Python 3",
   "language": "python",
   "name": "python3"
  },
  "language_info": {
   "codemirror_mode": {
    "name": "ipython",
    "version": 3
   },
   "file_extension": ".py",
   "mimetype": "text/x-python",
   "name": "python",
   "nbconvert_exporter": "python",
   "pygments_lexer": "ipython3",
   "version": "3.8.8"
  }
 },
 "nbformat": 4,
 "nbformat_minor": 5
}
