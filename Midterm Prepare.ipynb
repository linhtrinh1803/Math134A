{
 "cells": [
  {
   "cell_type": "markdown",
   "id": "31d5dff1",
   "metadata": {},
   "source": [
    "### Quiz 1\n",
    "A major lottery advertises that it pays the winner $10 million. However, this prize money is paid at the rate of 250,000 each year (with the first payment being immediate) for a total of 40 payments.  \n",
    "\n",
    "What is the present value of this prize at 5% interest?\n",
    "\n",
    "Please round your answer to the nearest integer dollar."
   ]
  },
  {
   "cell_type": "code",
   "execution_count": 1,
   "id": "256d98db",
   "metadata": {},
   "outputs": [
    {
     "name": "stdout",
     "output_type": "stream",
     "text": [
      "4504260.167923538\n"
     ]
    }
   ],
   "source": [
    "import numpy as np\n",
    "pv1 = np.zeros(shape=(40,1));\n",
    "for i in range(0,40):\n",
    "    pv1[i] = 250000/((1.05)**(i));\n",
    "npv1 = np.sum(pv1);\n",
    "print(npv1)"
   ]
  },
  {
   "cell_type": "markdown",
   "id": "24e1d012",
   "metadata": {},
   "source": [
    "You are considering the purchase of a new home. It is in every way perfect for you and in excellent condition, except for the roof. The roof has only 5 years of life remaining.   A new roof would last 20 years, but would cost $40,000. The house is expected to last forever. Assuming that costs will remain constant and that the interest rate is 5, what value would you assign to the existing roof?\n",
    "\n",
    "Please round your numerical answer to the nearest integer dollar."
   ]
  },
  {
   "cell_type": "code",
   "execution_count": 2,
   "id": "cde68072",
   "metadata": {},
   "outputs": [
    {
     "name": "stdout",
     "output_type": "stream",
     "text": [
      "13896.336369326295\n"
     ]
    }
   ],
   "source": [
    "import numpy as np\n",
    "pv1 = np.zeros(shape=(1000,1));\n",
    "pv2 = np.zeros(shape=(1000,1));\n",
    "for i in range(0,600):\n",
    "    pv1[i] = -40000/((1.05)**(20*i));\n",
    "    pv2[i] = -40000/((1.05)**(20*i+5));\n",
    "npv1 = np.sum(pv1);\n",
    "npv2 = np.sum(pv2);\n",
    "npv = npv2-npv1;\n",
    "print(npv)"
   ]
  },
  {
   "cell_type": "markdown",
   "id": "110a9c75",
   "metadata": {},
   "source": [
    "### Quiz 2\n",
    "\n",
    "A debt of $25,000 is to be amortized over 17 years at a 7% annual interest rate under monthly compounding.  What value of monthly payments will achieve this?"
   ]
  },
  {
   "cell_type": "code",
   "execution_count": 3,
   "id": "b87e6514",
   "metadata": {},
   "outputs": [
    {
     "name": "stdout",
     "output_type": "stream",
     "text": [
      "209.9151632400246\n"
     ]
    }
   ],
   "source": [
    "import numpy as np\n",
    "rB = 0.07/12; nB = 12*17; pB = 25000;\n",
    "B = (rB*pB*(1+rB)**nB)/((1+rB)**nB-1);\n",
    "print(B)"
   ]
  },
  {
   "cell_type": "markdown",
   "id": "d2d61101",
   "metadata": {},
   "source": [
    "You decide to take out a mortgage to buy a home after graduation. Assume a loan amount of $100,000 for 30 years at a nominal annual interest rate of 12%, compounded monthly.  \n",
    "\n",
    "What is the total amount of interest that is paid over the course of the 30 years?\n"
   ]
  },
  {
   "cell_type": "code",
   "execution_count": 1,
   "id": "e9122aa0",
   "metadata": {},
   "outputs": [
    {
     "name": "stdout",
     "output_type": "stream",
     "text": [
      "1028.6125969255042\n",
      "270300.5348931815\n"
     ]
    }
   ],
   "source": [
    "import numpy as np\n",
    "rA = 0.12/12; nA = 12*30; pA = 100000; #monthly nho divide for 12 nha \n",
    "A = (rA*pA*(1+rA)**nA)/((1+rA)**nA-1);\n",
    "print(A)\n",
    "I = A*12*30-pA;\n",
    "print(I)"
   ]
  },
  {
   "cell_type": "code",
   "execution_count": 8,
   "id": "0be886a6",
   "metadata": {},
   "outputs": [
    {
     "name": "stdout",
     "output_type": "stream",
     "text": [
      "885.838744143996\n"
     ]
    }
   ],
   "source": [
    "F1= 1000; #face value\n",
    "y1 = 0.15; #yield to maturity\n",
    "m1 = 1; #number of coupon payments per year\n",
    "n1 = 3; #number of coupon periods\n",
    "c1 = 100; #yearly coupy payment, how many percent bond\n",
    "\n",
    "P1 = F1/((1+y1/m1)**n1)+(c1/y1)*(1-(1/(1+y1/m1)**n1))\n",
    "print(P1)"
   ]
  },
  {
   "cell_type": "code",
   "execution_count": 9,
   "id": "d271fa47",
   "metadata": {},
   "outputs": [
    {
     "name": "stdout",
     "output_type": "stream",
     "text": [
      "771.6774882879921\n"
     ]
    }
   ],
   "source": [
    "F1= 1000; #face value\n",
    "y1 = 0.15; #yield to maturity\n",
    "m1 = 1; #number of coupon payments per year\n",
    "n1 = 3; #number of coupon periods\n",
    "c1 = 50; #yearly coupy payment, how many percent bond\n",
    "\n",
    "P1 = F1/((1+y1/m1)**n1)+(c1/y1)*(1-(1/(1+y1/m1)**n1))\n",
    "print(P1)"
   ]
  },
  {
   "cell_type": "code",
   "execution_count": 10,
   "id": "58f5b84e",
   "metadata": {},
   "outputs": [
    {
     "name": "stdout",
     "output_type": "stream",
     "text": [
      "657.5162324319882\n"
     ]
    }
   ],
   "source": [
    "F1= 1000; #face value\n",
    "y1 = 0.15; #yield to maturity\n",
    "m1 = 1; #number of coupon payments per year\n",
    "n1 = 3; #number of coupon periods\n",
    "c1 = 0; #yearly coupy payment, how many percent bond\n",
    "\n",
    "P1 = F1/((1+y1/m1)**n1)+(c1/y1)*(1-(1/(1+y1/m1)**n1))\n",
    "print(P1)"
   ]
  },
  {
   "cell_type": "code",
   "execution_count": 129,
   "id": "8741c754",
   "metadata": {},
   "outputs": [
    {
     "name": "stdout",
     "output_type": "stream",
     "text": [
      "869.5652173913044\n"
     ]
    }
   ],
   "source": [
    "F1= 1000; #face value\n",
    "y1 = 0.15; #yield to maturity\n",
    "m1 = 1; #number of coupon payments per year\n",
    "n1 = 1; #number of coupon periods\n",
    "c1 = 0; #yearly coupy payment\n",
    "\n",
    "P1 = F1/((1+y1/m1)**(n1))+(c1/y1)*(1-(1/(1+y1/m1)**(n1)))\n",
    "print(P1)"
   ]
  },
  {
   "cell_type": "markdown",
   "id": "f712b3bd",
   "metadata": {},
   "source": [
    "A bond matures in 3 years, its face value is 1000 and pays a 6 percent semi-annual interest payment. The yield to maturity is 0.04."
   ]
  },
  {
   "cell_type": "code",
   "execution_count": 134,
   "id": "2c52a2bb",
   "metadata": {},
   "outputs": [
    {
     "name": "stdout",
     "output_type": "stream",
     "text": [
      "1056.014308906904\n"
     ]
    }
   ],
   "source": [
    "F1= 1000; #face value\n",
    "y1 = 0.04; #yield to maturity\n",
    "m1 = 2; #number of coupon payments per year\n",
    "n1 = 6; #number of coupon periods\n",
    "c1 = 60; #yearly coupy payment\n",
    "\n",
    "P1 = F1/((1+y1/m1)**(n1))+(c1/y1)*(1-(1/(1+y1/m1)**(n1)))\n",
    "print(P1)"
   ]
  },
  {
   "cell_type": "markdown",
   "id": "9de7003f",
   "metadata": {},
   "source": [
    "Find the duration of a 10-year, 8% bond that is trading at a yield of 10% and pays coupons every 6 months."
   ]
  },
  {
   "cell_type": "code",
   "execution_count": 127,
   "id": "b915158c",
   "metadata": {},
   "outputs": [
    {
     "name": "stdout",
     "output_type": "stream",
     "text": [
      "6.840368408939494\n"
     ]
    }
   ],
   "source": [
    "F1= 100; #face value\n",
    "y1 = 0.1; #yield to maturity\n",
    "m1 = 2; #number of coupon payments per year\n",
    "n1 = 20; #number of coupon periods x2 for semiannual\n",
    "c1 = 0.08; #coupon rate, how many percent bond\n",
    "\n",
    "D1 = ((1+y1/m1)/(m1*y1/m1))-(1+y1/m1+n1*(c1/m1-y1/m1))/(m1*(c1/m1)*((1+y1/m1)**(n1)-1)+m1*y1/m1);\n",
    "print(D1)"
   ]
  },
  {
   "cell_type": "markdown",
   "id": "a48d865c",
   "metadata": {},
   "source": [
    "### Quiz 3\n",
    "\n",
    "Recall the expectations theory asserts that the current implied forward rates for 1 year ahead---that is, the forward rates from year 1 to future dates---are good estimates of next year's spot rates. \n",
    "\n",
    "Given the current yearly spot rate curve\n",
    "\n",
    "s = (5.3%, 5.6%, 5.9%, 6.2%, 6.5%, 6.8%)\n",
    "\n",
    "Find a good estimate for the spot rate curve for next year, assuming the expectations theory is true."
   ]
  },
  {
   "cell_type": "code",
   "execution_count": 6,
   "id": "beea6a84",
   "metadata": {},
   "outputs": [
    {
     "name": "stdout",
     "output_type": "stream",
     "text": [
      "[[0.05900855]\n",
      " [0.06201281]\n",
      " [0.06501706]\n",
      " [0.06802131]\n",
      " [0.07102554]\n",
      " [0.        ]]\n"
     ]
    }
   ],
   "source": [
    "import numpy as np\n",
    "s = np.array([0.053,0.056,0.059,0.062,0.065,0.068]);\n",
    "f = np.zeros(shape=(6,1));\n",
    "for i in range (0,5):\n",
    "    f[i] = (((1+s[i+1])**(i+2)/1.053)**(1/(i+1)))-1;\n",
    "print(f)"
   ]
  },
  {
   "cell_type": "markdown",
   "id": "ffa05a49",
   "metadata": {},
   "source": [
    "If the spot rates for 1 and 2 years are\n",
    "\n",
    "s1 = 2.3% \n",
    "\n",
    "s2 = 2.9%\n",
    "\n",
    "What is the forward rate f1,2 ?\n",
    "\n",
    "Please express your answer in percentage, not decimal form, and round your numerical answer to one decimal place."
   ]
  },
  {
   "cell_type": "code",
   "execution_count": 18,
   "id": "37a93bb9",
   "metadata": {},
   "outputs": [
    {
     "name": "stdout",
     "output_type": "stream",
     "text": [
      "3.503519061583571\n"
     ]
    }
   ],
   "source": [
    "i = 1; j = 2;\n",
    "s_i = 0.023; s_j = 0.029;  \n",
    "a = 1/(j-i);\n",
    "fij = ((((1+s_j)**j)/((1+s_i)**i))**a) -1;\n",
    "print(fij*100) #in percentage"
   ]
  },
  {
   "cell_type": "markdown",
   "id": "8df7c315",
   "metadata": {},
   "source": [
    "Find a portfolio, consisting of the two bonds below, that has the same present value as the obligation stream and is immunized against an additive shift in the spot rate curve:\n",
    "\n",
    "Bond 1 is a 12-year 6% annual coupon bond with a price of 65.95\n",
    "\n",
    "Bond 2 is a 5-year 10% annual coupon bond with a price of 101.67\n",
    "\n",
    "Both bonds have a face value of $100.  How many units of Bond 2 should be held in the immunized portfolio?  \n",
    "\n",
    "Please round your numerical answer to the nearest integer number of units."
   ]
  },
  {
   "cell_type": "markdown",
   "id": "1d9a1b47",
   "metadata": {},
   "source": [
    "Calculate bond price and quasi-modified duration for bond 1"
   ]
  },
  {
   "cell_type": "code",
   "execution_count": 10,
   "id": "ef7bf170",
   "metadata": {},
   "outputs": [
    {
     "name": "stdout",
     "output_type": "stream",
     "text": [
      "65.95141593517083\n",
      "7.065794607835234\n"
     ]
    }
   ],
   "source": [
    "import numpy as np\n",
    "s = np.array([0.0767, 0.0827, 0.0881, 0.0931, 0.0975, 0.1016, 0.1052, 0.1085, 0.1115, 0.1142, 0.1167, 0.1189]);\n",
    "b1 = np.array([6,6,6,6,6,6,6,6,6,6,6,106]);\n",
    "PV1 = np.zeros(shape=(12,1));\n",
    "for i in range(0,12):\n",
    "    PV1[i] = b1[i]/(1+s[i])**(i+1);\n",
    "P1 = np.sum(PV1)\n",
    "print(P1)\n",
    "minusPV1prime = np.zeros(shape=(12,1));\n",
    "for i in range(0,12):\n",
    "    minusPV1prime[i] = (b1[i]*(i+1))/(1+s[i])**(i+2);\n",
    "minusdP1dLambda = np.sum(minusPV1prime);\n",
    "D1 = minusdP1dLambda/P1;\n",
    "print(D1)"
   ]
  },
  {
   "cell_type": "markdown",
   "id": "39d39eb7",
   "metadata": {},
   "source": [
    "Calculate bond price and quasi-modified duration for bond 2"
   ]
  },
  {
   "cell_type": "code",
   "execution_count": 11,
   "id": "ff9cd31e",
   "metadata": {},
   "outputs": [
    {
     "name": "stdout",
     "output_type": "stream",
     "text": [
      "101.66772356861858\n",
      "3.7981038674959344\n"
     ]
    }
   ],
   "source": [
    "s = np.array([0.0767, 0.0827, 0.0881, 0.0931, 0.0975, 0.1016, 0.1052, 0.1085, 0.1115, 0.1142, 0.1167, 0.1189]);\n",
    "b2 = np.array([10,10,10,10,110]);\n",
    "PV2 = np.zeros(shape=(5,1));\n",
    "for i in range(0,5):\n",
    "    PV2[i] = b2[i]/(1+s[i])**(i+1);\n",
    "P2 = np.sum(PV2)\n",
    "print(P2)\n",
    "minusPV2prime = np.zeros(shape=(5,1));\n",
    "for i in range(0,5):\n",
    "    minusPV2prime[i] = (b2[i]*(i+1))/(1+s[i])**(i+2);\n",
    "minusdP2dLambda = np.sum(minusPV2prime);\n",
    "D2 = minusdP2dLambda/P2;\n",
    "print(D2)"
   ]
  },
  {
   "cell_type": "markdown",
   "id": "79417d9c",
   "metadata": {},
   "source": [
    "Calculate bond price and quasi-modified duration for obligation"
   ]
  },
  {
   "cell_type": "code",
   "execution_count": 12,
   "id": "2dea8b6a",
   "metadata": {},
   "outputs": [
    {
     "name": "stdout",
     "output_type": "stream",
     "text": [
      "2124.7489650709585\n",
      "4.7355017857481085\n"
     ]
    }
   ],
   "source": [
    "ob = np.array([100,200,300,400,500,600,700,800]);\n",
    "PVob = np.zeros(shape=(8,1));\n",
    "for i in range (0,8):\n",
    "    PVob[i] = ob[i]/(1+s[i])**(i+1);\n",
    "Pob = np.sum(PVob);\n",
    "print(Pob);\n",
    "minusPVobprime = np.zeros(shape=(8,1));\n",
    "for i in range(0,8):\n",
    "    minusPVobprime[i] = (ob[i]*(i+1))/(1+s[i])**(i+2);\n",
    "minusdPobdLambda = np.sum(minusPVobprime);\n",
    "Dob = minusdPobdLambda/Pob;\n",
    "print(Dob)\n"
   ]
  },
  {
   "cell_type": "code",
   "execution_count": 13,
   "id": "c1e6ef52",
   "metadata": {},
   "outputs": [
    {
     "name": "stdout",
     "output_type": "stream",
     "text": [
      "[ 9.24201225 14.90369921]\n"
     ]
    }
   ],
   "source": [
    "A = np.array([[P1, P2], [P1*D1, P2*D2]]);\n",
    "B = np.array([Pob, Pob*Dob]);\n",
    "X = np.linalg.inv(A).dot(B);\n",
    "print(X)"
   ]
  },
  {
   "cell_type": "markdown",
   "id": "f64d1bd4",
   "metadata": {},
   "source": [
    "### Quiz 4\n",
    "\n",
    "A company is considering doing several proposed projects that have the financial properties shown in the table below. The available budget is $900.  \n",
    "\n",
    "The objective is to select the projects that maximize the total net present value, while keeping the required cash outlays within the available budget.\n",
    "\n",
    "The net present value of each project is equal to its present worth minus its required cash outlay, and the total net present value is the sum of the individual net present values of all the projects that are selected. \n",
    "\n",
    "Which projects should be selected?\n",
    "\n"
   ]
  },
  {
   "cell_type": "code",
   "execution_count": 14,
   "id": "d54d9997",
   "metadata": {},
   "outputs": [
    {
     "name": "stdout",
     "output_type": "stream",
     "text": [
      "Optimal\n",
      "x1 0.0\n",
      "x2 1.0\n",
      "x3 1.0\n",
      "x4 1.0\n",
      "x5 0.0\n"
     ]
    }
   ],
   "source": [
    "import pulp as pl\n",
    "\n",
    "# declare some variables\n",
    "# each variable is a binary variable that is either 0 or 1\n",
    "# 1 means the item will go into the knapsack\n",
    "x1 = pl.LpVariable(\"x1\", 0, 1, pl.LpInteger)\n",
    "x2 = pl.LpVariable(\"x2\", 0, 1, pl.LpInteger)\n",
    "x3 = pl.LpVariable(\"x3\", 0, 1, pl.LpInteger)\n",
    "x4 = pl.LpVariable(\"x4\", 0, 1, pl.LpInteger)\n",
    "x5 = pl.LpVariable(\"x5\", 0, 1, pl.LpInteger)\n",
    "\n",
    "\n",
    "# define the problem\n",
    "prob = pl.LpProblem(\"knapsack\", pl.LpMaximize)\n",
    "\n",
    "# objective function - maximize value of objects in knapsack\n",
    "prob += 100*x1+300*x2+2000*x3+800*x4+750*x5\n",
    "\n",
    "# constraint - weight of objects cannot exceed 15\n",
    "prob += 100*x1+200*x2+300*x3+400*x4+500*x5 <= 900\n",
    "\n",
    "status = prob.solve()  # solve using the default solver, which is cbc\n",
    "print(pl.LpStatus[status])  # print the human-readable status\n",
    "\n",
    "# print the values\n",
    "print(\"x1\", pl.value(x1))\n",
    "print(\"x2\", pl.value(x2))\n",
    "print(\"x3\", pl.value(x3))\n",
    "print(\"x4\", pl.value(x4))\n",
    "print(\"x5\", pl.value(x5))"
   ]
  },
  {
   "cell_type": "markdown",
   "id": "957a329f",
   "metadata": {},
   "source": [
    "A simple optimal portfolio problem is the cash matching problem\n",
    "\n",
    "We wish to invest now so that these obligations can be met as they occur; accordingly, we must purchase bonds of various maturities and use the coupons payments and redemption values to meet the obligations.\n",
    "\n",
    "Suppose there are 10 bonds available to be purchased, each with a face value of $100 and price equal to $100.  Each of the 10 bonds is an annual coupon bond with its annual coupon in percentage equal to its maturity in years. The maturities span 1 to 10 years and the annual coupons range from 1% to 10%.\n",
    "\n",
    "To be clear, we have available a 1-year 1% annual coupon bond, a 2-year 2% annual coupon bond, a 3-year 3% annual coupon bond, all the way up to a 10-year 10% annual coupon bond, for a total of 10 bonds.\n",
    "\n",
    "The objective function to be minimized is the total cost of the portfolio, which is equal to the sum of the prices of the bonds times the number of units purchased.\n",
    "\n",
    "How many units of the 10-year 10% annual coupon bond should be purchased in the optimal portfolio?  \n",
    "\n",
    "Please round your numerical answer to the nearest integer number of units."
   ]
  },
  {
   "cell_type": "code",
   "execution_count": 15,
   "id": "8759ac65",
   "metadata": {},
   "outputs": [
    {
     "name": "stdout",
     "output_type": "stream",
     "text": [
      "     con: array([], dtype=float64)\n",
      "     fun: 3430.4573221076444\n",
      " message: 'Optimization terminated successfully.'\n",
      "     nit: 8\n",
      "   slack: array([ 1.75430866e+02,  7.54308655e+01, -2.23622010e-10, -8.43442649e-10,\n",
      "       -1.43734269e-09, -2.04363459e-09, -2.61957211e-09, -3.17004378e-09,\n",
      "       -3.64036623e-09,  2.18506102e-10])\n",
      "  status: 0\n",
      " success: True\n",
      "       x: array([9.09090909e+00, 7.42285238e+00, 5.94708553e+00, 4.62344442e+00,\n",
      "       3.41834380e+00, 2.30318457e+00, 1.25306208e+00, 2.45691345e-01,\n",
      "       3.44934189e-12, 9.14083959e-13])\n"
     ]
    }
   ],
   "source": [
    "import numpy as np\n",
    "C = np.array([[10,9,8,7,6,5,4,3,2,101], \n",
    "     [10,9,8,7,6,5,4,3,102,0],\n",
    "     [10,9,8,7,6,5,4,103,0,0],\n",
    "     [10,9,8,7,6,5,104,0,0,0],\n",
    "     [10,9,8,7,6,105,0,0,0,0],\n",
    "     [10,9,8,7,106,0,0,0,0,0],\n",
    "     [10,9,8,107,0,0,0,0,0,0],\n",
    "     [10,9,108,0,0,0,0,0,0,0],\n",
    "     [10,109,0,0,0,0,0,0,0,0],\n",
    "     [110,0,0,0,0,0,0,0,0,0]]);\n",
    "p =np.array([100,100,100,100,100,100,100,100,100,100]);\n",
    "p1 = np.transpose(p);\n",
    "b =np.array([100,200,300,400,500,600,700,800,900,1000]);\n",
    "b1 = np.transpose(b)\n",
    "\n",
    "from scipy.optimize import linprog\n",
    "res = linprog(p1, A_ub = -1*C, b_ub= -1*b1, bounds=None)\n",
    "print(res)"
   ]
  },
  {
   "cell_type": "markdown",
   "id": "798866c2",
   "metadata": {},
   "source": [
    "The fishing problem"
   ]
  },
  {
   "cell_type": "code",
   "execution_count": 20,
   "id": "5b9237ed",
   "metadata": {},
   "outputs": [
    {
     "name": "stdout",
     "output_type": "stream",
     "text": [
      "360136.10586011334\n",
      "239999.99999999994\n",
      "167999.99999999994\n",
      "110399.99999999997\n",
      "64320.0\n",
      "31920.0\n",
      "335999.99999999994\n",
      "223930.43478260865\n",
      "138156.5217391304\n"
     ]
    }
   ],
   "source": [
    "d = 1 / 1.15;\n",
    "V21 = max( max(0, 10 * .20 * 100e3               - 50e3), 10 * 0.36 * 100e3                 - 120e3);\n",
    "V22 = max( max(0, 10 * .20 * 100e3 * 0.80        - 50e3), 10 * 0.36 * 100e3 * 0.80          - 120e3);\n",
    "V23 = max( max(0, 10 * .20 * 100e3 * 0.80 * 0.80 - 50e3), 10 * 0.36 * 100e3 * 0.80 * 0.80   - 120e3);\n",
    "V24 = max( max(0, 10 * .20 * 100e3 * 0.64 * 0.80 - 50e3), 10 * 0.36 * 100e3 * 0.64 * 0.80   - 120e3);\n",
    "V25 = max( max(0, 10 * .20 * 100e3 * 0.64 * 0.64 - 50e3), 10 * 0.36 * 100e3 * 0.64 * 0.64   - 120e3);\n",
    "V11 = max( max(0 + V21 * d, 10 * .20 * 100e3            - 50e3 + V22 * d), 10 * 0.36 * 100e3         - 120e3 + V23 * d);\n",
    "V12 = max( max(0 + V22 * d, 10 * .20 * 100e3 * 0.80     - 50e3 + V23 * d), 10 * 0.36 * 100e3 * 0.80  - 120e3 + V24 * d);\n",
    "V13 = max( max(0 + V23 * d, 10 * .20 * 100e3 * 0.64     - 50e3 + V24 * d), 10 * 0.36 * 100e3 * 0.64  - 120e3 + V25 * d);\n",
    "V0  = max( max(0 + V11 * d, 10 * .20 * 100e3            - 50e3 + V12 * d), 10 * 0.36 * 100e3          - 120e3 + V13 * d);\n",
    "print(V0)\n",
    "print(V21)\n",
    "print(V22)\n",
    "print(V23)\n",
    "print(V24)\n",
    "print(V25)\n",
    "print(V11)\n",
    "print(V12)\n",
    "print(V13)"
   ]
  },
  {
   "cell_type": "code",
   "execution_count": 23,
   "id": "4081785d",
   "metadata": {},
   "outputs": [
    {
     "name": "stdout",
     "output_type": "stream",
     "text": [
      "[336000.0, 344722.11720226845, 360136.1058601134]\n"
     ]
    }
   ],
   "source": [
    "r = 0.15;\n",
    "d = 1/(1+r);\n",
    "node1 = [240000*d,150000+168000*d,240000+110400*d];\n",
    "node2 = [168000*d,110000+110400*d,168000+64320*d];\n",
    "node3 = [110400*d,78000+ 64320*d,110400+31920*d];\n",
    "node0 = [max(node1),max(node2)*d+150000, max(node3)*d+240000];\n",
    "print(node0)"
   ]
  },
  {
   "cell_type": "markdown",
   "id": "d7b99adc",
   "metadata": {},
   "source": [
    "### Construction of a zero\n",
    "Consider two 5-year bonds: one has a 9% coupon and sells\n",
    "for 101.00; the other has a 7% coupon and sells for 93.20. Find the price of a 5-year\n",
    "zero-coupon bond"
   ]
  },
  {
   "cell_type": "code",
   "execution_count": 24,
   "id": "a626caca",
   "metadata": {},
   "outputs": [
    {
     "name": "stdout",
     "output_type": "stream",
     "text": [
      "[-3.5  4.5]\n",
      "[100   0]\n"
     ]
    }
   ],
   "source": [
    "import numpy as np\n",
    "A = np.array([[100,100],[9,7]]);\n",
    "B = np.array([100,0]);\n",
    "X = np.linalg.inv(A).dot(B) #solve system equation \n",
    "print(X)\n",
    "print(B)"
   ]
  },
  {
   "cell_type": "code",
   "execution_count": 25,
   "id": "f66f9f35",
   "metadata": {},
   "outputs": [
    {
     "name": "stdout",
     "output_type": "stream",
     "text": [
      "65.90000000000003\n"
     ]
    }
   ],
   "source": [
    "price = -3.5*101.00+4.5*93.20;\n",
    "print(price)"
   ]
  },
  {
   "cell_type": "markdown",
   "id": "87919d25",
   "metadata": {},
   "source": [
    "A young couple has made a nonrefundable deposit of the first month’s\n",
    "rent (equal to 1,000) on a 6-month apartment lease. The next day they find a different\n",
    "apartment that they like just as well, but its monthly rent is only $900. They plan to be in\n",
    "the apartment only 6 months. Should they switch to the new apartment? What if they plan\n",
    "to stay 1 year? Assume an interest rate of 12%."
   ]
  },
  {
   "cell_type": "code",
   "execution_count": 31,
   "id": "f2192626",
   "metadata": {},
   "outputs": [
    {
     "name": "stdout",
     "output_type": "stream",
     "text": [
      "-6215.9288271213945\n"
     ]
    }
   ],
   "source": [
    "import numpy as np\n",
    "r = 0.12;\n",
    "pv1 = np.zeros(shape=(6,1));\n",
    "for i in range(0,6):\n",
    "    pv1[i] = -900/((1+r/12)**(i+1));\n",
    "npv1 = np.sum(pv1);\n",
    "print(npv1-1000)"
   ]
  },
  {
   "cell_type": "code",
   "execution_count": 33,
   "id": "012a8737",
   "metadata": {},
   "outputs": [
    {
     "name": "stdout",
     "output_type": "stream",
     "text": [
      "-6795.476474579327\n"
     ]
    }
   ],
   "source": [
    "pv2 = np.zeros(shape=(6,1));\n",
    "for i in range(0,6):\n",
    "    pv2[i] = -1000/((1+r/12)**(i+1));\n",
    "npv2 = np.sum(pv2);\n",
    "print(npv2-1000)"
   ]
  },
  {
   "cell_type": "markdown",
   "id": "388d218d",
   "metadata": {},
   "source": [
    "(An erroneous analysis) A division of ABBOX Corporation has developed the concept\n",
    "of a new product. Production of the product would require 10 million in initial capital\n",
    "expenditure. It is anticipated that 1 million units would be sold each year for 5 years, and\n",
    "then the product would be obsolete and production would cease. Each year’s production\n",
    "would require 10,000 hours of labor and 100 tons of raw material. Currently the average\n",
    "wage rate is 30 per hour and the cost of the raw material is $ 100 per ton. The product\n",
    "would sell for  3.30 per unit, and this price is expected to be maintained (in real terms).\n",
    "ABBOX management likes to use a 12 percent discount rate for projects of this type and faces\n",
    "a 34 percent tax rate on profit. The initial capital expenditure can be depreciated in a straight\n",
    "line fashion over 5 years. In its first analysis of this project, management did not apply\n",
    "inflation factors to the extrapolated revenues and operating costs. What present value did\n",
    "they obtain? How would the answer change if an inflation rate of 4percent were applied?"
   ]
  },
  {
   "cell_type": "code",
   "execution_count": 77,
   "id": "65654f08",
   "metadata": {},
   "outputs": [
    {
     "name": "stdout",
     "output_type": "stream",
     "text": [
      "-435086.82469776645\n"
     ]
    }
   ],
   "source": [
    "#no inflation\n",
    "initial_investment = -10000000;\n",
    "labor_cost = 30*10000; material_cost = 100*100; revenue = 3.3*1000000; \n",
    "depreciated = -initial_investment/5;\n",
    "r=0.12;\n",
    "tax_income = np.zeros(shape=(5,1));\n",
    "tax = np.zeros(shape=(5,1));\n",
    "cashflow = np.zeros(shape=(5,1));\n",
    "for i in range(0,5):\n",
    "    tax_income[i] = revenue-labor_cost-material_cost-depreciated;\n",
    "    tax[i] = tax_income[i]*0.34;\n",
    "    cashflow[i] = tax_income[i]-tax[i]+depreciated;\n",
    "pv = np.zeros(shape=(5,1))\n",
    "for i in range (0,5):\n",
    "    pv[i] = cashflow[i]/(1+r)**(i+1);\n",
    "npv = -10000000+np.sum(pv)  \n",
    "print(npv)"
   ]
  },
  {
   "cell_type": "code",
   "execution_count": 78,
   "id": "d3d3fa81",
   "metadata": {},
   "outputs": [
    {
     "name": "stdout",
     "output_type": "stream",
     "text": [
      "[[2369107.14285714]\n",
      " [2115274.23469388]\n",
      " [1888637.7095481 ]\n",
      " [1686283.66923938]\n",
      " [1505610.41896373]]\n"
     ]
    }
   ],
   "source": [
    "print(pv)"
   ]
  },
  {
   "cell_type": "code",
   "execution_count": 83,
   "id": "c6e96872",
   "metadata": {},
   "outputs": [
    {
     "name": "stdout",
     "output_type": "stream",
     "text": [
      "89254.75387859158\n"
     ]
    }
   ],
   "source": [
    "#4% inflation\n",
    "initial_investment = -10000000; inflation = 0.04;\n",
    "depreciated = -initial_investment/5;\n",
    "revenue = np.zeros(shape=(5,1));\n",
    "labor_cost = np.zeros(shape=(5,1)); \n",
    "material_cost = np.zeros(shape=(5,1)); \n",
    "revenue = np.zeros(shape=(5,1)); \n",
    "for i in range(0,5):\n",
    "    revenue[i] = 3.3*1000000*(1+inflation)**(i);\n",
    "    labor_cost[i] = 30*10000*(1+inflation)**(i);\n",
    "    material_cost[i] = 100*100*(1+inflation)**(i);\n",
    "r=0.12;\n",
    "tax_income = np.zeros(shape=(5,1));\n",
    "tax = np.zeros(shape=(5,1));\n",
    "cashflow = np.zeros(shape=(5,1));\n",
    "for i in range(0,5):\n",
    "    tax_income[i] = revenue[i]-labor_cost[i]-material_cost[i]-depreciated;\n",
    "    tax[i] = tax_income[i]*0.34;\n",
    "    cashflow[i] = tax_income[i]-tax[i]+depreciated;\n",
    "pv = np.zeros(shape=(5,1))\n",
    "for i in range (0,5):\n",
    "    pv[i] = cashflow[i]/(1+r)**(i+1);\n",
    "npv = -10000000+np.sum(pv)  \n",
    "print(npv)"
   ]
  },
  {
   "cell_type": "code",
   "execution_count": 84,
   "id": "7e6c9588",
   "metadata": {},
   "outputs": [
    {
     "name": "stdout",
     "output_type": "stream",
     "text": [
      "[[3300000.   ]\n",
      " [3432000.   ]\n",
      " [3569280.   ]\n",
      " [3712051.2  ]\n",
      " [3860533.248]]\n"
     ]
    }
   ],
   "source": [
    "print(revenue)"
   ]
  },
  {
   "cell_type": "markdown",
   "id": "495a1c7d",
   "metadata": {},
   "source": [
    "(Variable-rate mortgage ⊕) The Smith family just took out a variable-rate mortgage on\n",
    "their new home. The mortgage value is $100,000, the term is 30 years, and initially the\n",
    "interest rate is 8percent. The interest rate is guaranteed for 5 years, after which time the rate will\n",
    "be adjusted according to prevailing rates. The new rate can be applied to their loan either\n",
    "by changing the payment amount or by changing the length of the mortgage.\n",
    "\n",
    "(a) What is the original yearly mortgage payment? (Assume payments are yearly.)\n",
    "\n",
    "(b) What will be the mortgage balance after 5 years?\n",
    "\n",
    "(c) If the interest rate on the mortgage changes to 9percent after 5 years, what will be the new\n",
    "yearly payment that keeps the termination time the same?\n",
    "\n",
    "(d) Under the interest change in (c), what will be the new term if the payments remain\n",
    "the same"
   ]
  },
  {
   "cell_type": "code",
   "execution_count": 86,
   "id": "9878a3c6",
   "metadata": {},
   "outputs": [
    {
     "name": "stdout",
     "output_type": "stream",
     "text": [
      "8882.743338727227\n"
     ]
    }
   ],
   "source": [
    "##Question 10\n",
    "import numpy as np\n",
    "rA = 0.08; nA =30; pA = 100000;\n",
    "A = (rA*pA*(1+rA)**nA)/((1+rA)**nA-1);\n",
    "print(A)"
   ]
  },
  {
   "cell_type": "code",
   "execution_count": 87,
   "id": "bc0832ad",
   "metadata": {},
   "outputs": [
    {
     "name": "stdout",
     "output_type": "stream",
     "text": [
      "94821.29708158925\n"
     ]
    }
   ],
   "source": [
    "p5years = (A/rA)*(1-(1/(1+rA)**(25)));\n",
    "print(p5years)"
   ]
  },
  {
   "cell_type": "code",
   "execution_count": 88,
   "id": "5bc7b035",
   "metadata": {},
   "outputs": [
    {
     "name": "stdout",
     "output_type": "stream",
     "text": [
      "9653.400725184196\n"
     ]
    }
   ],
   "source": [
    "rB = 0.09; nB = 25;\n",
    "B = (rB*p5years*(1+rB)**nB)/((1+rB)**nB-1); \n",
    "print(B)"
   ]
  },
  {
   "cell_type": "markdown",
   "id": "51278b5a",
   "metadata": {},
   "source": [
    "In 1997, the U.S. Treasury issued “Treasury inflationprotected securities” (TIPS). These are fixed-income securities that are inflation indexed to\n",
    "EXERCISES · 73\n",
    "protect their value against inflation. Like conventional bonds they have a fixed coupon rate\n",
    "and maturity date, but the face value is periodically adjusted for inflation by multiplying the\n",
    "original face value by the ratio of the Consumer Price Index (CPI) at the current date to the\n",
    "CPI at the original issue date. Each semiannual coupon payment is the inflation-adjusted\n",
    "face value times the fixed coupon rate. At maturity, the bondholder receives the maximum\n",
    "of the inflation-adjusted face value or the original face value. Hence, if deflation occurs,\n",
    "the bondholder is guaranteed not to lose on the face value.\n",
    "\n",
    "You observe the following prices of two 10-year inflation-adjusted bonds:\n",
    "\n",
    "Bond 1: P1 = 77.92,C1 = 3%,F1 = 100\n",
    "\n",
    "Bond 2: P2 = 100.00,C2 = 6%,F2 = 100,\n",
    "\n",
    "where P is the price, C is the coupon rate, and F is the original face value.\n",
    "\n",
    "(a) Compute the price of a theoretical 10-year inflation-adjusted zero-coupon bond with\n",
    "original face value of 100. (Note: Ignore taxes.)\n",
    "\n",
    "(b) Does your answer in (a) depend on the rate of inflation? Justify your answer."
   ]
  },
  {
   "cell_type": "code",
   "execution_count": 2,
   "id": "40c42bf3",
   "metadata": {},
   "outputs": [
    {
     "name": "stdout",
     "output_type": "stream",
     "text": [
      "[ 2. -1.]\n",
      "55.84\n"
     ]
    }
   ],
   "source": [
    "import numpy as np\n",
    "A = np.array([[100,100],[3,6]])\n",
    "B = np.array([100,0])\n",
    "x = np.linalg.inv(A).dot(B)\n",
    "price = x[0]*77.92 + x[1]*100\n",
    "print(x)\n",
    "print(price)"
   ]
  }
 ],
 "metadata": {
  "kernelspec": {
   "display_name": "Python 3",
   "language": "python",
   "name": "python3"
  },
  "language_info": {
   "codemirror_mode": {
    "name": "ipython",
    "version": 3
   },
   "file_extension": ".py",
   "mimetype": "text/x-python",
   "name": "python",
   "nbconvert_exporter": "python",
   "pygments_lexer": "ipython3",
   "version": "3.8.8"
  }
 },
 "nbformat": 4,
 "nbformat_minor": 5
}
