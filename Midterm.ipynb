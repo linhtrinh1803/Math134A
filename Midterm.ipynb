{
 "cells": [
  {
   "cell_type": "markdown",
   "id": "f6dce1a0",
   "metadata": {},
   "source": [
    "Consider the two projects whose end-of-year cash flows, in dollars, are shown in the table below.  \n",
    "\n",
    "The cash flows in the column labeled 0 occur at the present time.\n",
    "\n",
    "Years   0\t1\t2\t3\t4\t5\n",
    "\n",
    "Project 1\t–200\t60\t60\t60\t60\t60\n",
    "\n",
    "Project 2\t–150\t46\t46\t46\t46\t46\n",
    " \n",
    "\n",
    "At what annual rate of interest are the net present values of the two projects equal?\n",
    "\n",
    "Please express your numerical answer in percentage form (not decimal) and round your answer to the nearest integer.\n",
    "\n",
    " "
   ]
  },
  {
   "cell_type": "code",
   "execution_count": 13,
   "id": "a75ea3e0",
   "metadata": {},
   "outputs": [
    {
     "data": {
      "text/plain": [
       "array([-1.21866066+0.81225576j, -1.21866066-0.81225576j,\n",
       "        0.27372676+1.34023621j,  0.27372676-1.34023621j,\n",
       "        0.88986781+0.j        ])"
      ]
     },
     "execution_count": 13,
     "metadata": {},
     "output_type": "execute_result"
    }
   ],
   "source": [
    "import numpy as np\n",
    "np.roots([1,1,1,1,1,-50/14])"
   ]
  },
  {
   "cell_type": "code",
   "execution_count": 14,
   "id": "3dd9d3a3",
   "metadata": {},
   "outputs": [
    {
     "name": "stdout",
     "output_type": "stream",
     "text": [
      "-0.12384805574286362\n"
     ]
    }
   ],
   "source": [
    "r = 1-1/0.8898\n",
    "print(r)"
   ]
  },
  {
   "cell_type": "markdown",
   "id": "6913e858",
   "metadata": {},
   "source": [
    "A certain bond portfolio has a value of $1,010 today at a yield of 10%. \n",
    "\n",
    "Yesterday the same portfolio had a value of $1,000 at a yield of 11%.\n",
    "\n",
    "Estimate what the modified duration of the bond portfolio was yesterday.\n",
    "\n",
    "Please round your numerical answer to the nearest integer."
   ]
  },
  {
   "cell_type": "code",
   "execution_count": 17,
   "id": "d03f2924",
   "metadata": {},
   "outputs": [
    {
     "name": "stdout",
     "output_type": "stream",
     "text": [
      "1.0000000000000004\n"
     ]
    }
   ],
   "source": [
    "p1 = 1010; p2 = 1000;\n",
    "y1 = 0.1; y2 = 0.11;\n",
    "print((-(p2-p1)/1000)/(y2-y1))"
   ]
  },
  {
   "cell_type": "markdown",
   "id": "2b0ae274",
   "metadata": {},
   "source": [
    "Find the Macaulay duration of a 10-year, 8% bond that is trading at a yield of 8% and pays coupons every 6 months.\n",
    "\n",
    "Please round your numerical answer to the nearest integer."
   ]
  },
  {
   "cell_type": "code",
   "execution_count": 18,
   "id": "8dc0a107",
   "metadata": {},
   "outputs": [
    {
     "name": "stdout",
     "output_type": "stream",
     "text": [
      "67.88085271375407\n",
      "7.066969699383202\n"
     ]
    }
   ],
   "source": [
    "F1= 100; #face value\n",
    "y1 = 0.08; #yield to maturity\n",
    "m1 = 2; #number of coupon payments per year\n",
    "n1 = 10; #number of coupon periods\n",
    "c1 = 0.08; #yearly coupy payment, how many percent bond\n",
    "\n",
    "P1 = F1/((1+y1/m1)**n1)+(c1/y1)*(1-(1/(1+y1/m1)**n1));\n",
    "D1 = ((1+y1/m1)/(m1*y1/m1))-(1+y1/m1+n1*m1*(c1/m1-y1/m1))/(m1*(c1/m1)*((1+y1/m1)**(n1*m1)-1)+m1*y1/m1);\n",
    "print(P1)\n",
    "print(D1)"
   ]
  },
  {
   "cell_type": "markdown",
   "id": "705c8783",
   "metadata": {},
   "source": [
    "Find the limiting value of Macaulay duration as maturity is increased to infinity of an 8% coupon bond that is trading at a yield of 8% and pays coupons every 6 months.\n",
    "\n",
    "Please round your numerical answer to the nearest integer."
   ]
  },
  {
   "cell_type": "code",
   "execution_count": 20,
   "id": "32536848",
   "metadata": {},
   "outputs": [
    {
     "name": "stdout",
     "output_type": "stream",
     "text": [
      "13.0\n"
     ]
    }
   ],
   "source": [
    "y  =0.08; m = 2;\n",
    "print((1/y)+1/m)"
   ]
  },
  {
   "cell_type": "code",
   "execution_count": 3,
   "id": "6d0d51c5",
   "metadata": {},
   "outputs": [
    {
     "name": "stdout",
     "output_type": "stream",
     "text": [
      "[[0.06881897]\n",
      " [0.07188098]\n",
      " [0.08056926]\n",
      " [0.08317298]\n",
      " [0.08572374]\n",
      " [0.08812933]\n",
      " [0.09035029]\n",
      " [0.09237694]\n",
      " [0.        ]\n",
      " [0.        ]]\n"
     ]
    }
   ],
   "source": [
    "import numpy as np\n",
    "s = np.array([0.0557,0.06088,0.06555,0.07361,0.07707,0.08020,0.08304,0.08561,0.08793]);\n",
    "f = np.zeros(shape=(10,1));\n",
    "for i in range (0,8):\n",
    "    f[i] = (((1+s[i+1])**(i+2)/1.053)**(1/(i+1)))-1;\n",
    "print(f)"
   ]
  },
  {
   "cell_type": "markdown",
   "id": "d7afa79c",
   "metadata": {},
   "source": [
    "You are shopping for a mortgage to buy a home after graduation.   Assume a loan amount of $800,000 for 30 years at a nominal annual interest rate of 4%, compounded monthly.    You calculate and record the required monthly payment.  You are not sure if rates will rise or fall, and desire to examine the implications of rates rising.\n",
    "\n",
    "If the nominal annual interest rate were to rise to 8%, what would be the percentage increase in your monthly payment, relative to the original monthly payment at a nominal annual interest rate of 4%?\n",
    "\n",
    "Please round your numerical answer to the nearest integer."
   ]
  },
  {
   "cell_type": "code",
   "execution_count": 6,
   "id": "3e9a0a35",
   "metadata": {},
   "outputs": [
    {
     "name": "stdout",
     "output_type": "stream",
     "text": [
      "3819.3223637236306\n"
     ]
    }
   ],
   "source": [
    "import numpy as np\n",
    "rA = 0.04/12; nA = 12*30; pA = 800000;\n",
    "A = (rA*pA*(1+rA)**nA)/((1+rA)**nA-1);\n",
    "print(A)"
   ]
  },
  {
   "cell_type": "code",
   "execution_count": 8,
   "id": "1a71b92e",
   "metadata": {},
   "outputs": [
    {
     "name": "stdout",
     "output_type": "stream",
     "text": [
      "5870.116591035024\n"
     ]
    }
   ],
   "source": [
    "import numpy as np\n",
    "rA = 0.08/12; nA = 12*30; pA = 800000;\n",
    "A = (rA*pA*(1+rA)**nA)/((1+rA)**nA-1);\n",
    "print(A)"
   ]
  },
  {
   "cell_type": "code",
   "execution_count": 1,
   "id": "af5c83e1",
   "metadata": {},
   "outputs": [
    {
     "name": "stdout",
     "output_type": "stream",
     "text": [
      "53.70515841843414\n"
     ]
    }
   ],
   "source": [
    "print((5870/3819*100)-100)"
   ]
  },
  {
   "cell_type": "code",
   "execution_count": 4,
   "id": "f6986888",
   "metadata": {},
   "outputs": [
    {
     "name": "stdout",
     "output_type": "stream",
     "text": [
      "113.42016279788282\n"
     ]
    }
   ],
   "source": [
    "cashflow=np.array([10,10,10,10,10,10,10,10,10,110])\n",
    "pv = np.zeros(shape=(10,1));\n",
    "for i in range (0,10):\n",
    "    pv[i] = cashflow[i]*(1/((1.08)**(i+1)));\n",
    "npv = np.sum(pv);\n",
    "print(npv)"
   ]
  },
  {
   "cell_type": "code",
   "execution_count": 20,
   "id": "8edba2d9",
   "metadata": {},
   "outputs": [
    {
     "name": "stdout",
     "output_type": "stream",
     "text": [
      "93.5185185185185\n"
     ]
    }
   ],
   "source": [
    "cashflow=np.array([101,0,0,0,0,0,0,0,0,0,0])\n",
    "pv = np.zeros(shape=(10,1));\n",
    "for i in range (0,10):\n",
    "    pv[i] = cashflow[i]*(1/((1.08)**(i+1)));\n",
    "npv = np.sum(pv);\n",
    "print(npv)"
   ]
  },
  {
   "cell_type": "markdown",
   "id": "88ad594a",
   "metadata": {},
   "source": [
    "A simple optimal portfolio problem is the cash matching problem.\n",
    "\n",
    "Suppose you are given a sequence of future monetary obligations, in dollars, required to be paid at the end of each year over the next 10 years as follows:\n",
    "\n",
    " \n",
    "\n",
    "YEAR \t1\t2\t3\t4\t5\t6\t7\t8\t9\t10\n",
    "\n",
    "OBLIGATION\t100\t200\t300\t400\t500\t600\t700\t800\t900\t1000\n",
    " \n",
    "\n",
    "We wish to invest now so that these obligations can be met as they occur; accordingly, we must purchase bonds of various maturities and use the associated future cash flows to meet the obligations.\n",
    "\n",
    "Suppose there are 10 zero coupon bonds available to be purchased, each with a face value of $100.   The maturities of the zero coupon bonds span 1 to 10 years, and the price of each zero coupon bond is consistent with a flat term structure:  all spot rates are equal to 8% annually.\n",
    "\n",
    "To be clear, we have available a 1-year zero coupon bond with 8% yield, a 2-year zero coupon bond with 8% yield, a 3-year zero  coupon bond with a 8% yield, all the way up to a 10-year zero coupon bond with a 8% yield, for a total of 10 zero coupon bonds.\n",
    "\n",
    "The objective function to be minimized is the total cost of the portfolio, which is equal to the sum of the prices of the bonds times the number of units purchased.\n",
    "\n",
    "How many units of the 7-year zero coupon bond should be purchased in the optimal portfolio?  \n",
    "\n",
    "Please round your numerical answer to the nearest integer number of units.\n",
    "\n"
   ]
  },
  {
   "cell_type": "code",
   "execution_count": 23,
   "id": "a074d492",
   "metadata": {},
   "outputs": [
    {
     "name": "stdout",
     "output_type": "stream",
     "text": [
      "54.02688845019757\n"
     ]
    }
   ],
   "source": [
    "F1= 100; #face value\n",
    "y1 = 0.08; #yield to maturity\n",
    "m1 = 1; #number of coupon payments per year\n",
    "n1 = 8; #number of coupon periods\n",
    "c1 = 0; #yearly coupy payment, how many percent bond\n",
    "\n",
    "P1 = F1/((1+y1/m1)**n1)+(c1/y1)*(1-(1/(1+y1/m1)**n1))\n",
    "print(P1)"
   ]
  },
  {
   "cell_type": "code",
   "execution_count": 24,
   "id": "854b8efa",
   "metadata": {},
   "outputs": [
    {
     "name": "stdout",
     "output_type": "stream",
     "text": [
      "     con: array([], dtype=float64)\n",
      "     fun: 3266.88\n",
      " message: 'The solution was determined in presolve as there are no non-trivial constraints.'\n",
      "     nit: 0\n",
      "   slack: array([0., 0., 0., 0., 0., 0., 0., 0., 0., 0.])\n",
      "  status: 0\n",
      " success: True\n",
      "       x: array([10.,  9.,  8.,  7.,  6.,  5.,  4.,  3.,  2.,  1.])\n"
     ]
    }
   ],
   "source": [
    "import numpy as np\n",
    "C = np.array([[0,0,0,0,0,0,0,0,0,100], \n",
    "     [0,0,0,0,0,0,0,0,100,0],\n",
    "     [0,0,0,0,0,0,0,100,0,0],\n",
    "     [0,0,0,0,0,0,100,0,0,0],\n",
    "     [0,0,0,0,0,100,0,0,0,0],\n",
    "     [0,0,0,0,100,0,0,0,0,0],\n",
    "     [0,0,0,100,0,0,0,0,0,0],\n",
    "     [0,0,100,0,0,0,0,0,0,0],\n",
    "     [0,100,0,0,0,0,0,0,0,0],\n",
    "     [100,0,0,0,0,0,0,0,0,0]]);\n",
    "p =np.array([46.32,50.02,54.03,58.35,63.02,68.06,73.05,79.38,85.73,92.59]);\n",
    "p1 = np.transpose(p);\n",
    "b =np.array([100,200,300,400,500,600,700,800,900,1000]);\n",
    "b1 = np.transpose(b)\n",
    "\n",
    "from scipy.optimize import linprog\n",
    "res = linprog(p1, A_ub = -1*C, b_ub= -1*b1, bounds=None)\n",
    "print(res)"
   ]
  },
  {
   "cell_type": "code",
   "execution_count": null,
   "id": "71417db8",
   "metadata": {},
   "outputs": [],
   "source": []
  }
 ],
 "metadata": {
  "kernelspec": {
   "display_name": "Python 3",
   "language": "python",
   "name": "python3"
  },
  "language_info": {
   "codemirror_mode": {
    "name": "ipython",
    "version": 3
   },
   "file_extension": ".py",
   "mimetype": "text/x-python",
   "name": "python",
   "nbconvert_exporter": "python",
   "pygments_lexer": "ipython3",
   "version": "3.8.8"
  }
 },
 "nbformat": 4,
 "nbformat_minor": 5
}
