{
 "cells": [
  {
   "cell_type": "code",
   "execution_count": 10,
   "id": "6b34bc24",
   "metadata": {},
   "outputs": [
    {
     "name": "stdout",
     "output_type": "stream",
     "text": [
      "[[0.05900855]\n",
      " [0.06201281]\n",
      " [0.06501706]\n",
      " [0.06802131]\n",
      " [0.07102554]\n",
      " [0.        ]]\n"
     ]
    }
   ],
   "source": [
    "import numpy as np\n",
    "s = np.array([0.053,0.056,0.059,0.062,0.065,0.068]);\n",
    "f = np.zeros(shape=(6,1));\n",
    "for i in range (0,5):\n",
    "    f[i] = (((1+s[i+1])**(i+2)/1.053)**(1/(i+1)))-1;\n",
    "print(f)"
   ]
  },
  {
   "cell_type": "code",
   "execution_count": 6,
   "id": "f28010f7",
   "metadata": {},
   "outputs": [
    {
     "name": "stdout",
     "output_type": "stream",
     "text": [
      "65.95141593517083\n",
      "7.065794607835234\n"
     ]
    }
   ],
   "source": [
    "import numpy as np\n",
    "s = np.array([0.0767, 0.0827, 0.0881, 0.0931, 0.0975, 0.1016, 0.1052, 0.1085, 0.1115, 0.1142, 0.1167, 0.1189]);\n",
    "b1 = np.array([6,6,6,6,6,6,6,6,6,6,6,106]);\n",
    "PV1 = np.zeros(shape=(12,1));\n",
    "for i in range(0,12):\n",
    "    PV1[i] = b1[i]/(1+s[i])**(i+1);\n",
    "P1 = np.sum(PV1)\n",
    "print(P1)\n",
    "minusPV1prime = np.zeros(shape=(12,1));\n",
    "for i in range(0,12):\n",
    "    minusPV1prime[i] = (b1[i]*(i+1))/(1+s[i])**(i+2);\n",
    "minusdP1dLambda = np.sum(minusPV1prime);\n",
    "D1 = minusdP1dLambda/P1;\n",
    "print(D1)"
   ]
  },
  {
   "cell_type": "code",
   "execution_count": 7,
   "id": "e072e7d4",
   "metadata": {},
   "outputs": [
    {
     "name": "stdout",
     "output_type": "stream",
     "text": [
      "101.66772356861858\n",
      "3.7981038674959344\n"
     ]
    }
   ],
   "source": [
    "s = np.array([0.0767, 0.0827, 0.0881, 0.0931, 0.0975, 0.1016, 0.1052, 0.1085, 0.1115, 0.1142, 0.1167, 0.1189]);\n",
    "b2 = np.array([10,10,10,10,110]);\n",
    "PV2 = np.zeros(shape=(5,1));\n",
    "for i in range(0,5):\n",
    "    PV2[i] = b2[i]/(1+s[i])**(i+1);\n",
    "P2 = np.sum(PV2)\n",
    "print(P2)\n",
    "minusPV2prime = np.zeros(shape=(5,1));\n",
    "for i in range(0,5):\n",
    "    minusPV2prime[i] = (b2[i]*(i+1))/(1+s[i])**(i+2);\n",
    "minusdP2dLambda = np.sum(minusPV2prime);\n",
    "D2 = minusdP2dLambda/P2;\n",
    "print(D2)"
   ]
  },
  {
   "cell_type": "code",
   "execution_count": 8,
   "id": "8c55003f",
   "metadata": {},
   "outputs": [
    {
     "name": "stdout",
     "output_type": "stream",
     "text": [
      "2124.7489650709585\n",
      "4.7355017857481085\n"
     ]
    }
   ],
   "source": [
    "ob = np.array([100,200,300,400,500,600,700,800]);\n",
    "PVob = np.zeros(shape=(8,1));\n",
    "for i in range (0,8):\n",
    "    PVob[i] = ob[i]/(1+s[i])**(i+1);\n",
    "Pob = np.sum(PVob);\n",
    "print(Pob);\n",
    "minusPVobprime = np.zeros(shape=(8,1));\n",
    "for i in range(0,8):\n",
    "    minusPVobprime[i] = (ob[i]*(i+1))/(1+s[i])**(i+2);\n",
    "minusdPobdLambda = np.sum(minusPVobprime);\n",
    "Dob = minusdPobdLambda/Pob;\n",
    "print(Dob)"
   ]
  },
  {
   "cell_type": "code",
   "execution_count": 9,
   "id": "1dfb8b02",
   "metadata": {},
   "outputs": [
    {
     "name": "stdout",
     "output_type": "stream",
     "text": [
      "[ 9.24201225 14.90369921]\n"
     ]
    }
   ],
   "source": [
    "A = np.array([[P1, P2], [P1*D1, P2*D2]]);\n",
    "B = np.array([Pob, Pob*Dob]);\n",
    "X = np.linalg.inv(A).dot(B);\n",
    "print(X)"
   ]
  },
  {
   "cell_type": "code",
   "execution_count": null,
   "id": "ae0c8878",
   "metadata": {},
   "outputs": [],
   "source": []
  }
 ],
 "metadata": {
  "kernelspec": {
   "display_name": "Python 3",
   "language": "python",
   "name": "python3"
  },
  "language_info": {
   "codemirror_mode": {
    "name": "ipython",
    "version": 3
   },
   "file_extension": ".py",
   "mimetype": "text/x-python",
   "name": "python",
   "nbconvert_exporter": "python",
   "pygments_lexer": "ipython3",
   "version": "3.8.8"
  }
 },
 "nbformat": 4,
 "nbformat_minor": 5
}
