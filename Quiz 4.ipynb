{
 "cells": [
  {
   "cell_type": "code",
   "execution_count": 1,
   "id": "0b9893e8",
   "metadata": {},
   "outputs": [
    {
     "name": "stdout",
     "output_type": "stream",
     "text": [
      "Optimal\n",
      "x1 0.0\n",
      "x2 1.0\n",
      "x3 1.0\n",
      "x4 1.0\n",
      "x5 0.0\n"
     ]
    }
   ],
   "source": [
    "import pulp as pl\n",
    "\n",
    "# declare some variables\n",
    "# each variable is a binary variable that is either 0 or 1\n",
    "# 1 means the item will go into the knapsack\n",
    "x1 = pl.LpVariable(\"x1\", 0, 1, pl.LpInteger)\n",
    "x2 = pl.LpVariable(\"x2\", 0, 1, pl.LpInteger)\n",
    "x3 = pl.LpVariable(\"x3\", 0, 1, pl.LpInteger)\n",
    "x4 = pl.LpVariable(\"x4\", 0, 1, pl.LpInteger)\n",
    "x5 = pl.LpVariable(\"x5\", 0, 1, pl.LpInteger)\n",
    "\n",
    "\n",
    "# define the problem\n",
    "prob = pl.LpProblem(\"knapsack\", pl.LpMaximize)\n",
    "\n",
    "# objective function - maximize value of objects in knapsack\n",
    "prob += 100*x1+300*x2+2000*x3+800*x4+750*x5\n",
    "\n",
    "# constraint - weight of objects cannot exceed 15\n",
    "prob += 100*x1+200*x2+300*x3+400*x4+500*x5 <= 900\n",
    "\n",
    "status = prob.solve()  # solve using the default solver, which is cbc\n",
    "print(pl.LpStatus[status])  # print the human-readable status\n",
    "\n",
    "# print the values\n",
    "print(\"x1\", pl.value(x1))\n",
    "print(\"x2\", pl.value(x2))\n",
    "print(\"x3\", pl.value(x3))\n",
    "print(\"x4\", pl.value(x4))\n",
    "print(\"x5\", pl.value(x5))"
   ]
  },
  {
   "cell_type": "code",
   "execution_count": 4,
   "id": "98438905",
   "metadata": {},
   "outputs": [
    {
     "name": "stdout",
     "output_type": "stream",
     "text": [
      "     con: array([], dtype=float64)\n",
      "     fun: 3430.4573221076444\n",
      " message: 'Optimization terminated successfully.'\n",
      "     nit: 8\n",
      "   slack: array([ 1.75430866e+02,  7.54308655e+01, -2.23622010e-10, -8.43442649e-10,\n",
      "       -1.43734269e-09, -2.04363459e-09, -2.61957211e-09, -3.17004378e-09,\n",
      "       -3.64036623e-09,  2.18506102e-10])\n",
      "  status: 0\n",
      " success: True\n",
      "       x: array([9.09090909e+00, 7.42285238e+00, 5.94708553e+00, 4.62344442e+00,\n",
      "       3.41834380e+00, 2.30318457e+00, 1.25306208e+00, 2.45691345e-01,\n",
      "       3.44934189e-12, 9.14083959e-13])\n"
     ]
    }
   ],
   "source": [
    "import numpy as np\n",
    "C = np.array([[10,9,8,7,6,5,4,3,2,101], \n",
    "     [10,9,8,7,6,5,4,3,102,0],\n",
    "     [10,9,8,7,6,5,4,103,0,0],\n",
    "     [10,9,8,7,6,5,104,0,0,0],\n",
    "     [10,9,8,7,6,105,0,0,0,0],\n",
    "     [10,9,8,7,106,0,0,0,0,0],\n",
    "     [10,9,8,107,0,0,0,0,0,0],\n",
    "     [10,9,108,0,0,0,0,0,0,0],\n",
    "     [10,109,0,0,0,0,0,0,0,0],\n",
    "     [110,0,0,0,0,0,0,0,0,0]]);\n",
    "p =np.array([100,100,100,100,100,100,100,100,100,100]);\n",
    "p1 = np.transpose(p);\n",
    "b =np.array([100,200,300,400,500,600,700,800,900,1000]);\n",
    "b1 = np.transpose(b)\n",
    "\n",
    "from scipy.optimize import linprog\n",
    "res = linprog(p1, A_ub = -1*C, b_ub= -1*b1, bounds=None)\n",
    "print(res)"
   ]
  },
  {
   "cell_type": "code",
   "execution_count": null,
   "id": "d5e2cf5b",
   "metadata": {},
   "outputs": [],
   "source": []
  }
 ],
 "metadata": {
  "kernelspec": {
   "display_name": "Python 3",
   "language": "python",
   "name": "python3"
  },
  "language_info": {
   "codemirror_mode": {
    "name": "ipython",
    "version": 3
   },
   "file_extension": ".py",
   "mimetype": "text/x-python",
   "name": "python",
   "nbconvert_exporter": "python",
   "pygments_lexer": "ipython3",
   "version": "3.8.8"
  }
 },
 "nbformat": 4,
 "nbformat_minor": 5
}
