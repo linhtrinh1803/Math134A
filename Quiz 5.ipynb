{
 "cells": [
  {
   "cell_type": "markdown",
   "id": "7bdb1664",
   "metadata": {},
   "source": [
    "Calculate covariance"
   ]
  },
  {
   "cell_type": "code",
   "execution_count": 1,
   "id": "97e83b83",
   "metadata": {},
   "outputs": [
    {
     "name": "stdout",
     "output_type": "stream",
     "text": [
      "0.01125\n"
     ]
    }
   ],
   "source": [
    "sigmaA = 0.15; sigmaB = 0.3; correlation = 0.25;\n",
    "sigmaAB = correlation*sigmaA*sigmaB;\n",
    "print(sigmaAB)"
   ]
  },
  {
   "cell_type": "markdown",
   "id": "cc6351fa",
   "metadata": {},
   "source": [
    "Calculate minimum standard deviation"
   ]
  },
  {
   "cell_type": "code",
   "execution_count": 3,
   "id": "ca85c4a8",
   "metadata": {},
   "outputs": [
    {
     "name": "stdout",
     "output_type": "stream",
     "text": [
      "0.875\n",
      "0.125\n"
     ]
    }
   ],
   "source": [
    "alpha = (sigmaB**2-sigmaAB)/(sigmaA**2+sigmaB**2-2*sigmaAB);\n",
    "print(alpha)\n",
    "print(1-alpha)"
   ]
  },
  {
   "cell_type": "markdown",
   "id": "3d8a8d98",
   "metadata": {},
   "source": [
    "Calculate total return"
   ]
  },
  {
   "cell_type": "code",
   "execution_count": 4,
   "id": "b5dd77fb",
   "metadata": {},
   "outputs": [
    {
     "name": "stdout",
     "output_type": "stream",
     "text": [
      "0.14\n"
     ]
    }
   ],
   "source": [
    "r1 = 0.1 ; r2 = 0.18; w1 = 0.5; w2 = 0.5;\n",
    "r = r1*w1+r2*w2;\n",
    "print(r)"
   ]
  },
  {
   "cell_type": "markdown",
   "id": "a31e6af4",
   "metadata": {},
   "source": [
    "Calculate standard deviation"
   ]
  },
  {
   "cell_type": "code",
   "execution_count": 5,
   "id": "75d3929b",
   "metadata": {},
   "outputs": [
    {
     "name": "stdout",
     "output_type": "stream",
     "text": [
      "0.18371173070873834\n"
     ]
    }
   ],
   "source": [
    "import math\n",
    "sigma = (sigmaA**2 * w1**2) + (sigmaB**2 * w2**2) + 2*w1*w2*sigmaAB;\n",
    "print(math.sqrt(sigma))"
   ]
  },
  {
   "cell_type": "code",
   "execution_count": null,
   "id": "8c882b3f",
   "metadata": {},
   "outputs": [],
   "source": []
  }
 ],
 "metadata": {
  "kernelspec": {
   "display_name": "Python 3",
   "language": "python",
   "name": "python3"
  },
  "language_info": {
   "codemirror_mode": {
    "name": "ipython",
    "version": 3
   },
   "file_extension": ".py",
   "mimetype": "text/x-python",
   "name": "python",
   "nbconvert_exporter": "python",
   "pygments_lexer": "ipython3",
   "version": "3.8.8"
  }
 },
 "nbformat": 4,
 "nbformat_minor": 5
}
