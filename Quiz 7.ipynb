{
 "cells": [
  {
   "cell_type": "code",
   "execution_count": 1,
   "id": "15d97443",
   "metadata": {},
   "outputs": [
    {
     "name": "stdout",
     "output_type": "stream",
     "text": [
      "0.13\n",
      "0.09\n",
      "1.2962962962962963\n",
      "0.0625\n"
     ]
    }
   ],
   "source": [
    "import math\n",
    "nA = 100; nB = 150; \n",
    "pA = 1.50; pB = 2.00; \n",
    "rA = 0.15; rB = 0.12; \n",
    "sigmaA = 0.15; sigmaB = 0.09;\n",
    "rho_AB=1/3;\n",
    "rM = (nA*pA*rA + nB*pB*rB)/(nA*pA + nB*pB);\n",
    "wA = (nA*pA)/(nA*pA + nB*pB);\n",
    "wB = (nB*pB)/(nA*pA + nB*pB);\n",
    "sigmaM = math.sqrt(wA**2 * sigmaA**2 + wB**2 * sigmaB**2 + \n",
    "                   2*rho_AB*wA*wB*sigmaA*sigmaB);\n",
    "sigmaAM = wA*sigmaA**2 + rho_AB*wB*sigmaA*sigmaB;\n",
    "beta_A = sigmaAM/(sigmaM**2);\n",
    "rF = (rA - beta_A*rM)/(1-beta_A);\n",
    "print(rM)\n",
    "print(sigmaM)\n",
    "print(beta_A)\n",
    "print(rF)"
   ]
  },
  {
   "cell_type": "markdown",
   "id": "23981e2d",
   "metadata": {},
   "source": [
    "### Question 5 \n",
    "\n",
    "Suppose there are only two risky assets in the market with expected rates of return, variances, and covariance as follows: \n",
    "\n",
    "𝑟¯1=0.10\n",
    "𝑟¯2=0.20\n",
    " \n",
    "\n",
    "𝜎21=0.04\n",
    "𝜎22=0.09\n",
    " \n",
    "\n",
    "𝜎1,2=0.03\n",
    "The current annual risk-free rate 𝑟𝑓=0.05.\n",
    "\n",
    "Find the weights 𝑤1 and 𝑤2 for the one fund F for this market, assuming market equilibrium and the CAPM holds."
   ]
  },
  {
   "cell_type": "code",
   "execution_count": 15,
   "id": "ba375d34",
   "metadata": {},
   "outputs": [
    {
     "name": "stdout",
     "output_type": "stream",
     "text": [
      "[[0.]\n",
      " [1.]]\n"
     ]
    }
   ],
   "source": [
    "import numpy as np\n",
    "r1 = 0.1; r2 = 0.2; rf = 0.05; \n",
    "sigma1 = 0.04; sigma2 = 0.09; sigma12 = 0.03;\n",
    "A = np.array([[sigma1, sigma12],[sigma12,sigma2]]);\n",
    "B = np.array([[r1 - rf, r2 - rf]]);\n",
    "v = np.linalg.inv(A).dot(np.transpose(B))\n",
    "w = np.zeros(shape=(2,1));\n",
    "for i in range (0,2):\n",
    "    w[i] = v[i]/np.sum(v);\n",
    "print(w)"
   ]
  },
  {
   "cell_type": "code",
   "execution_count": null,
   "id": "ebffbde5",
   "metadata": {},
   "outputs": [],
   "source": []
  }
 ],
 "metadata": {
  "kernelspec": {
   "display_name": "Python 3",
   "language": "python",
   "name": "python3"
  },
  "language_info": {
   "codemirror_mode": {
    "name": "ipython",
    "version": 3
   },
   "file_extension": ".py",
   "mimetype": "text/x-python",
   "name": "python",
   "nbconvert_exporter": "python",
   "pygments_lexer": "ipython3",
   "version": "3.8.8"
  }
 },
 "nbformat": 4,
 "nbformat_minor": 5
}
