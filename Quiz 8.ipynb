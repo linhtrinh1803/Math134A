{
 "cells": [
  {
   "cell_type": "code",
   "execution_count": 24,
   "id": "88088271",
   "metadata": {},
   "outputs": [],
   "source": [
    "import numpy as np\n",
    "from statistics import variance\n",
    "stock_1 = np.array([21.4, -4.7, 16.8, 32.7, 27.0, -12.5, 23.4, 21.9, 2.8, 11.0]);\n",
    "market = np.array([15.1, 2.1, 16.0, 32.4, 13.7, 1.4, 12.0, 21.8, -4.4, 31.5]);\n",
    "rf = 0;\n",
    "var_market = variance(market)\n",
    "var_stock1 = variance(stock_1)\n",
    "mu_market = np.mean(market)\n",
    "mu_stock1 = np.mean(stock_1)"
   ]
  },
  {
   "cell_type": "code",
   "execution_count": 26,
   "id": "9f8ddb4a",
   "metadata": {},
   "outputs": [
    {
     "name": "stdout",
     "output_type": "stream",
     "text": [
      "0.8176435996997687\n",
      "[[213.15955556 122.97577778]\n",
      " [122.97577778 150.40266667]]\n"
     ]
    }
   ],
   "source": [
    "B1 = np.cov(stock_1,market);\n",
    "beta1 = B1[1,0]/var_market\n",
    "alpha1 = (mu_stock1-rf)- beta1*(mu_market-rf)\n",
    "e_stock1 = stock_1 - alpha1 - beta1*market\n",
    "e_var1 = var_stock1 - (beta1**2)*var_market\n",
    "print(beta1)\n",
    "print(B1)"
   ]
  },
  {
   "cell_type": "code",
   "execution_count": null,
   "id": "5996b71f",
   "metadata": {},
   "outputs": [],
   "source": []
  }
 ],
 "metadata": {
  "kernelspec": {
   "display_name": "Python 3",
   "language": "python",
   "name": "python3"
  },
  "language_info": {
   "codemirror_mode": {
    "name": "ipython",
    "version": 3
   },
   "file_extension": ".py",
   "mimetype": "text/x-python",
   "name": "python",
   "nbconvert_exporter": "python",
   "pygments_lexer": "ipython3",
   "version": "3.8.8"
  }
 },
 "nbformat": 4,
 "nbformat_minor": 5
}
