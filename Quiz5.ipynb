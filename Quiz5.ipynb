{
 "cells": [
  {
   "cell_type": "markdown",
   "id": "5efd8c80",
   "metadata": {},
   "source": [
    "### Question 1\n",
    "\n",
    "Two risky assets with expected rates of return 𝑟¯1=0.10 and 𝑟¯2=0.08 have identical variances and a known correlation coefficient 𝜌=0.50.  There is also a risk-free asset with a rate of return 𝑟𝑓=0.05.\n",
    "\n",
    "Using mean-variance portfolio theory, find the optimal weight of asset 2."
   ]
  },
  {
   "cell_type": "code",
   "execution_count": 48,
   "id": "fae7b3c9",
   "metadata": {},
   "outputs": [
    {
     "name": "stdout",
     "output_type": "stream",
     "text": [
      "0.8750000000000001 0.12499999999999993\n"
     ]
    }
   ],
   "source": [
    "r1 = 0.1; r2 = 0.08; p = 0.5; rf = 0.05;\n",
    "s1 = r1-rf; s2= r2-rf;\n",
    "w1 = (s1-p*s2)/((1-p)*(s1+s2));\n",
    "w2 = (s2-p*s1)/((1-p)*(s1+s2));\n",
    "print(w1, w2)"
   ]
  },
  {
   "cell_type": "markdown",
   "id": "3e09b68d",
   "metadata": {},
   "source": [
    "### Question 2 \n",
    "\n",
    "Two risky assets with expected rates of return 𝑟¯1=0.10 and 𝑟¯2=0.08 have identical variances and a known correlation coefficient 𝜌=0.99.  There is also a risk-free asset with a rate of return 𝑟𝑓=0.05.\n",
    "\n",
    "Using mean-variance portfolio theory, find the optimal weight of asset 2.\n",
    "\n",
    "Please round your numerical answer to three decimal places."
   ]
  },
  {
   "cell_type": "code",
   "execution_count": 49,
   "id": "64922e7c",
   "metadata": {},
   "outputs": [
    {
     "name": "stdout",
     "output_type": "stream",
     "text": [
      "25.374999999999986 -24.374999999999982\n"
     ]
    }
   ],
   "source": [
    "r1 = 0.1; r2 = 0.08; p = 0.99; rf = 0.05;\n",
    "s1 = r1-rf; s2= r2-rf;\n",
    "w1 = (s1-p*s2)/((1-p)*(s1+s2));\n",
    "w2 = (s2-p*s1)/((1-p)*(s1+s2));\n",
    "print(w1, w2)"
   ]
  },
  {
   "cell_type": "markdown",
   "id": "46efef98",
   "metadata": {},
   "source": [
    "### Question 3 : uncorrated assets with a desired mean return\n",
    "\n",
    "Suppose there are three uncorrelated risky assets.  Each risky asset has variance equal to 1, and the mean return values for assets 1, 2, and 3 are:\n",
    "\n",
    "𝑟¯1=0.10\n",
    "𝑟¯2=0.20\n",
    "𝑟¯3=0.30\n",
    "Assume there is no risk-free asset available. \n",
    "\n",
    "By formulating and solving the equations for the efficient set, determine the value of the mean-variance optimal portfolio weight 𝑤1for asset 1, corresponding to the portfolio with a desired mean return of 𝑟¯=0.20.\n",
    "\n",
    "Please round your numerical answer to two decimal places."
   ]
  },
  {
   "cell_type": "code",
   "execution_count": 76,
   "id": "6344e2ee",
   "metadata": {},
   "outputs": [
    {
     "name": "stdout",
     "output_type": "stream",
     "text": [
      "[0.33333333]\n"
     ]
    }
   ],
   "source": [
    "r = 0.2;\n",
    "B = np.array([[0,0,0,10*r,1]]);\n",
    "V = np.array([[1,0,0,-1,-1],\n",
    "              [0,1,0,-2,-1],\n",
    "              [0,0,1,-3,-1],\n",
    "              [1,2,3,0,0],\n",
    "              [1,1,1,0,0]]);\n",
    "x = np.linalg.inv(V).dot(np.transpose(B))\n",
    "print(x[0])"
   ]
  },
  {
   "cell_type": "markdown",
   "id": "2bb9a53d",
   "metadata": {},
   "source": [
    "### Question 4: uncorrelated assets with rf\n",
    "\n",
    "Suppose there are three uncorrelated risky assets.  Each risky asset has variance equal to 1, and the mean return values for assets 1, 2, and 3 are:\n",
    "\n",
    "𝑟¯1=0.10\n",
    "𝑟¯2=0.20\n",
    "𝑟¯3=0.30\n",
    "Now assume there is a risk-free asset with rate 𝑟𝑓=0.05.\n",
    "\n",
    "The one-fund theorem states that there is a single fund F of risky assets such that any efficient portfolio can be constructed as a combination of the fund F and the risk-free asset.  \n",
    "\n",
    "What is the weight 𝑤1of asset 1 corresponding to the single fund F?\n",
    "\n",
    "Please round your numerical answer to two decimal places."
   ]
  },
  {
   "cell_type": "code",
   "execution_count": 77,
   "id": "803fd3a3",
   "metadata": {},
   "outputs": [
    {
     "name": "stdout",
     "output_type": "stream",
     "text": [
      "[0.05 0.15 0.25]\n",
      "[[0.11111111]\n",
      " [0.33333333]\n",
      " [0.55555556]]\n"
     ]
    }
   ],
   "source": [
    "rf = 0.05;\n",
    "r_bar = np.array([0.1-rf,0.2-rf,0.3-rf]);\n",
    "V = np.array([[1,0,0],\n",
    "              [0,1,0],\n",
    "              [0,0,1]]);\n",
    "x = np.linalg.inv(V).dot(np.transpose(r_bar))\n",
    "w = np.zeros(shape=(3,1));\n",
    "for i in range (0,3):\n",
    "    w[i] = x[i]/np.sum(x);\n",
    "print(x)\n",
    "print(w)"
   ]
  },
  {
   "cell_type": "markdown",
   "id": "955f4422",
   "metadata": {},
   "source": [
    "### Question 5\n",
    "\n",
    "The information concerning the 1-year covariances and mean values of the rates of return on five risky securities (assets) is shown in the table below.\n",
    "\n",
    "Screen Shot 2020-11-02 at 10.21.00 PM.png\n",
    "\n",
    "The mean values in the column labeled 𝐫¯ are expressed on a percentage basis, whereas the covariances are expressed in units of (percent)2 / 100. For example, the first security has an expected rate of return of 15.1%, or 0.151, and a variance of return of 0.023.  And the covariance between security 1 and security 2 is 0.0093, while the covariance between security 1 and security 3 is 0.0062. \n",
    "\n",
    "Assume there is also a risk-free asset with 𝑟𝑓=10%.\n",
    "\n",
    "The one-fund theorem states that there is a single fund F of risky assets such that any efficient portfolio can be constructed as a combination of the fund F and the risk-free asset.  \n",
    "\n",
    "What is the weight 𝑤4Unknown node type: brof security 4 corresponding to the single fund F?\n",
    "\n",
    "Please round your numerical answer to two decimal places."
   ]
  },
  {
   "cell_type": "code",
   "execution_count": 58,
   "id": "a3bc484b",
   "metadata": {},
   "outputs": [
    {
     "name": "stdout",
     "output_type": "stream",
     "text": [
      "[[0.04666667]\n",
      " [0.00666667]]\n"
     ]
    }
   ],
   "source": [
    "import numpy as np\n",
    "A = np.array([[1,0.5],[0.5,1]]);\n",
    "B = np.array([[0.05,0.03]]);\n",
    "x = np.linalg.inv(A).dot(np.transpose(B))\n",
    "print(x)"
   ]
  },
  {
   "cell_type": "code",
   "execution_count": 59,
   "id": "4e8cb3a8",
   "metadata": {},
   "outputs": [
    {
     "name": "stdout",
     "output_type": "stream",
     "text": [
      "[[0.08825144]\n",
      " [0.25086041]\n",
      " [0.28238423]\n",
      " [0.10375097]\n",
      " [0.27475295]]\n"
     ]
    }
   ],
   "source": [
    "import numpy as np \n",
    "V = np.array([[2.3,0.93,0.62,0.74,-0.23],\n",
    "              [0.93,1.4,0.22,0.56,0.26],\n",
    "              [0.62,0.22,1.8,0.78,-0.27],\n",
    "              [0.74,0.56,0.78,3.4,-0.56],\n",
    "              [-0.23,0.26,-0.27,-0.56,2.6]]);\n",
    "B = np.ones(shape=(5,1))\n",
    "r_bar = np.array([[0.151,0.125,0.147,0.0902,0.1768]]);\n",
    "v_a = np.linalg.inv(V).dot(B)\n",
    "w_a = np.zeros(shape=(5,1));\n",
    "for i in range (0,5):\n",
    "    w_a[i] = v_a[i]/np.sum(v_a);\n",
    "print(w_a)"
   ]
  },
  {
   "cell_type": "code",
   "execution_count": 60,
   "id": "e487aab0",
   "metadata": {},
   "outputs": [
    {
     "name": "stdout",
     "output_type": "stream",
     "text": [
      "[[0.15834987]\n",
      " [0.15535016]\n",
      " [0.31426329]\n",
      " [0.0379156 ]\n",
      " [0.33412109]]\n"
     ]
    }
   ],
   "source": [
    "r_bar_transpose = np.transpose(r_bar)\n",
    "v_b = np.linalg.inv(V).dot(r_bar_transpose);\n",
    "w_b = np.zeros(shape=(5,1));\n",
    "for i in range (0,5):\n",
    "    w_b[i] = v_b[i]/np.sum(v_b);\n",
    "print(w_b)"
   ]
  },
  {
   "cell_type": "code",
   "execution_count": 43,
   "id": "eaecfa9b",
   "metadata": {},
   "outputs": [
    {
     "name": "stdout",
     "output_type": "stream",
     "text": [
      "[[ 0.31719998]\n",
      " [-0.06108573]\n",
      " [ 0.38650446]\n",
      " [-0.11127402]\n",
      " [ 0.46865531]]\n"
     ]
    }
   ],
   "source": [
    "r_f = 0.1\n",
    "v_c = np.zeros(shape=(5,1));\n",
    "for i in range (0,5):\n",
    "    v_c[i] = v_b[i] - v_a[i]*r_f;\n",
    "w_c = np.zeros(shape=(5,1));\n",
    "for i in range(0,5):\n",
    "    w_c[i] = v_c[i]/np.sum(v_c)\n",
    "print(w_c)"
   ]
  },
  {
   "cell_type": "markdown",
   "id": "ced74230",
   "metadata": {},
   "source": [
    "### Question 6\n",
    "\n",
    "What is the portfolio variance of the single fund F in Question 5?\n",
    "\n",
    "Please express your answer in decimal form, and round your numerical answer to four  decimal places."
   ]
  },
  {
   "cell_type": "code",
   "execution_count": 61,
   "id": "fed7f584",
   "metadata": {},
   "outputs": [
    {
     "name": "stdout",
     "output_type": "stream",
     "text": [
      "[[0.00989892]]\n"
     ]
    }
   ],
   "source": [
    "C = np.matmul(np.transpose(w_c),V);\n",
    "sigma = np.matmul(C,w_c)\n",
    "print(sigma/100)"
   ]
  },
  {
   "cell_type": "code",
   "execution_count": null,
   "id": "b434d615",
   "metadata": {},
   "outputs": [],
   "source": []
  }
 ],
 "metadata": {
  "kernelspec": {
   "display_name": "Python 3",
   "language": "python",
   "name": "python3"
  },
  "language_info": {
   "codemirror_mode": {
    "name": "ipython",
    "version": 3
   },
   "file_extension": ".py",
   "mimetype": "text/x-python",
   "name": "python",
   "nbconvert_exporter": "python",
   "pygments_lexer": "ipython3",
   "version": "3.8.8"
  }
 },
 "nbformat": 4,
 "nbformat_minor": 5
}
