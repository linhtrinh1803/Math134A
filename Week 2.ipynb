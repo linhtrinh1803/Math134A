{
 "cells": [
  {
   "cell_type": "code",
   "execution_count": 17,
   "id": "6455bed9",
   "metadata": {},
   "outputs": [
    {
     "name": "stdout",
     "output_type": "stream",
     "text": [
      "71389.64258279112\n",
      "[[9259.25925926]\n",
      " [8573.38820302]\n",
      " [7938.3224102 ]\n",
      " [7350.29852796]\n",
      " [6805.83197034]\n",
      " [6301.69626883]\n",
      " [5834.90395262]\n",
      " [5402.68884502]\n",
      " [5002.48967131]\n",
      " [4631.93488085]\n",
      " [4288.82859338]\n",
      " [   0.        ]\n",
      " [   0.        ]]\n"
     ]
    }
   ],
   "source": [
    "#question 2\n",
    "import numpy as np\n",
    "pv = np.zeros(shape=(13,1));\n",
    "for i in range(0,11):\n",
    "    pv[i] = 10000/((1.08)**(i+1));\n",
    "npv = np.sum(pv);\n",
    "print(npv)\n",
    "print(pv)\n"
   ]
  },
  {
   "cell_type": "code",
   "execution_count": 21,
   "id": "4f174068",
   "metadata": {},
   "outputs": [
    {
     "name": "stdout",
     "output_type": "stream",
     "text": [
      "38384.45\n"
     ]
    }
   ],
   "source": [
    "b = 9259*0.93+8573*0.85+7938*0.76+7350*0.66+6805*0.56+6301*0.46+5834*0.36+5402*0.26+5002*0.16+4631*0.09+4288*0.04;\n",
    "print(b)"
   ]
  },
  {
   "cell_type": "code",
   "execution_count": 26,
   "id": "d5966500",
   "metadata": {},
   "outputs": [
    {
     "name": "stdout",
     "output_type": "stream",
     "text": [
      "2057.2251938510085\n",
      "186835.99140257016\n"
     ]
    }
   ],
   "source": [
    "rA = 0.12/12; pA = 200000; nA = 12*30;\n",
    "A = (rA*pA*(1+rA)**nA)/((1+rA)**nA-1);\n",
    "print(A)\n",
    "p20years = (A/rA)*(1-(1/(1+rA)**(12*20)));\n",
    "print(p20years)"
   ]
  },
  {
   "cell_type": "code",
   "execution_count": 27,
   "id": "0330274b",
   "metadata": {},
   "outputs": [
    {
     "name": "stdout",
     "output_type": "stream",
     "text": [
      "14012.699761159445\n"
     ]
    }
   ],
   "source": [
    "rB = 0.9/12; nB = 20*12; \n",
    "B = (rB*p20years*(1+rB)**nB)/((1+rB)**nB-1);\n",
    "print(B)"
   ]
  },
  {
   "cell_type": "code",
   "execution_count": 32,
   "id": "407039a4",
   "metadata": {},
   "outputs": [
    {
     "name": "stdout",
     "output_type": "stream",
     "text": [
      "193957.96920553752\n",
      "2123278.718326166\n"
     ]
    }
   ],
   "source": [
    "r = 0.05/12;\n",
    "PV_no_restructure = (A/r)*(1-(1/(1+r)**(10*12)));\n",
    "PV_restructure = (B/r)*(1-(1/(1+r)**(20*12)));\n",
    "print(PV_no_restructure)\n",
    "print(PV_restructure)\n"
   ]
  },
  {
   "cell_type": "code",
   "execution_count": null,
   "id": "539a84e1",
   "metadata": {},
   "outputs": [],
   "source": []
  }
 ],
 "metadata": {
  "kernelspec": {
   "display_name": "Python 3",
   "language": "python",
   "name": "python3"
  },
  "language_info": {
   "codemirror_mode": {
    "name": "ipython",
    "version": 3
   },
   "file_extension": ".py",
   "mimetype": "text/x-python",
   "name": "python",
   "nbconvert_exporter": "python",
   "pygments_lexer": "ipython3",
   "version": "3.8.8"
  }
 },
 "nbformat": 4,
 "nbformat_minor": 5
}
