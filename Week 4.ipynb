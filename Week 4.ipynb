{
 "cells": [
  {
   "cell_type": "code",
   "execution_count": 5,
   "id": "8ff422fd",
   "metadata": {},
   "outputs": [
    {
     "name": "stdout",
     "output_type": "stream",
     "text": [
      "Collecting pulp\n",
      "  Downloading PuLP-2.5.1-py3-none-any.whl (41.2 MB)\n",
      "\u001b[K     |████████████████████████████████| 41.2 MB 22.8 MB/s eta 0:00:01     |████████████████████████████▋   | 36.9 MB 22.8 MB/s eta 0:00:01\n",
      "\u001b[?25hInstalling collected packages: pulp\n",
      "Successfully installed pulp-2.5.1\n",
      "Note: you may need to restart the kernel to use updated packages.\n"
     ]
    }
   ],
   "source": [
    "pip install pulp"
   ]
  },
  {
   "cell_type": "markdown",
   "id": "3ec3217c",
   "metadata": {},
   "source": [
    "Example 5.2: Another example of Capital Budgeting"
   ]
  },
  {
   "cell_type": "code",
   "execution_count": null,
   "id": "8442cce1",
   "metadata": {},
   "outputs": [],
   "source": [
    "\n",
    "# declare some variables\n",
    "# each variable is a binary variable that is either 0 or 1\n",
    "# 1 means the item will go into the knapsack\n",
    "x1 = pl.LpVariable(\"x1\", 0, 1, pl.LpInteger)\n",
    "x2 = pl.LpVariable(\"x2\", 0, 1, pl.LpInteger)\n",
    "x3 = pl.LpVariable(\"x3\", 0, 1, pl.LpInteger)\n",
    "x4 = pl.LpVariable(\"x4\", 0, 1, pl.LpInteger)\n",
    "x5 = pl.LpVariable(\"x5\", 0, 1, pl.LpInteger)\n",
    "x6 = pl.LpVariable(\"x6\", 0, 1, pl.LpInteger)\n",
    "x7 = pl.LpVariable(\"x7\", 0, 1, pl.LpInteger)\n",
    "x8 = pl.LpVariable(\"x8\", 0, 1, pl.LpInteger)\n",
    "x9 = pl.LpVariable(\"x9\", 0, 1, pl.LpInteger)\n",
    "x10 = pl.LpVariable(\"x10\", 0, 1, pl.LpInteger)\n",
    "\n",
    "# define the problem\n",
    "prob = pl.LpProblem(\"knapsack\", pl.LpMaximize)\n",
    "\n",
    "# objective function - maximize value of objects in knapsack\n",
    "prob += 4*x1+5*x2+3*x3+4.3*x4+x5+1.5*x6+2.5*x7+0.3*x8+x9+2*x10\n",
    "\n",
    "# constraint - weight of objects cannot exceed 15\n",
    "prob += 2*x1+3*x2+1.5*x3+2.2*x4+0.5*x5+1.5*x6+2.6*x7+0.1*x8+0.6*x9+x10 <= 5\n",
    "prob += x1+x2+x3+x4 <=1\n",
    "prob += x5+x6+x7 <=1\n",
    "prob += x8+x9+x10<=1\n",
    "\n",
    "status = prob.solve()  # solve using the default solver, which is cbc\n",
    "print(pl.LpStatus[status])  # print the human-readable status\n",
    "\n",
    "# print the values\n",
    "print(\"x1\", pl.value(x1))\n",
    "print(\"x2\", pl.value(x2))\n",
    "print(\"x3\", pl.value(x3))\n",
    "print(\"x4\", pl.value(x4))\n",
    "print(\"x5\", pl.value(x5))\n",
    "print(\"x6\", pl.value(x6))\n",
    "print(\"x7\", pl.value(x7))\n",
    "print(\"x8\", pl.value(x8))\n",
    "print(\"x9\", pl.value(x9))\n",
    "print(\"x10\", pl.value(x10))\n"
   ]
  }
 ],
 "metadata": {
  "kernelspec": {
   "display_name": "Python 3",
   "language": "python",
   "name": "python3"
  },
  "language_info": {
   "codemirror_mode": {
    "name": "ipython",
    "version": 3
   },
   "file_extension": ".py",
   "mimetype": "text/x-python",
   "name": "python",
   "nbconvert_exporter": "python",
   "pygments_lexer": "ipython3",
   "version": "3.8.8"
  }
 },
 "nbformat": 4,
 "nbformat_minor": 5
}
